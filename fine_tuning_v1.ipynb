{
 "cells": [
  {
   "cell_type": "markdown",
   "metadata": {
    "id": "YUPM_w4HjJ3U"
   },
   "source": [
    "# Imports"
   ]
  },
  {
   "cell_type": "code",
   "execution_count": 1,
   "metadata": {
    "id": "203bvpDsQLUW"
   },
   "outputs": [],
   "source": [
    "import math\n",
    "import numpy as np\n",
    "import os\n",
    "import torch\n",
    "import torch.nn as nn\n",
    "import torch.nn.functional as F\n",
    "import torch.backends.cudnn as cudnn\n",
    "import tiktoken\n",
    "from transformers import GPT2Tokenizer\n",
    "from torch.utils.data import Dataset, DataLoader\n",
    "from datasets import load_dataset, DatasetDict\n",
    "from torchsummaryX import summary\n",
    "import wandb\n",
    "from dataclasses import dataclass\n",
    "from tqdm import tqdm\n",
    "import re\n",
    "from multiprocessing import cpu_count\n",
    "import random\n",
    "import gc\n",
    "import pickle"
   ]
  },
  {
   "cell_type": "code",
   "execution_count": 2,
   "metadata": {
    "id": "LovtcItVQLUX"
   },
   "outputs": [],
   "source": [
    "# set seeds\n",
    "torch.manual_seed(42)\n",
    "torch.cuda.manual_seed(42)\n",
    "torch.cuda.manual_seed_all(42)\n",
    "cudnn.deterministic = True\n",
    "cudnn.benchmark = False\n",
    "random.seed(42)"
   ]
  },
  {
   "cell_type": "markdown",
   "metadata": {
    "id": "T_H8zHj2Swll"
   },
   "source": [
    "# Load Data"
   ]
  },
  {
   "cell_type": "code",
   "execution_count": 3,
   "metadata": {
    "colab": {
     "base_uri": "https://localhost:8080/"
    },
    "id": "68u9am1JSzIX",
    "outputId": "13e957ad-9193-40f8-8423-f2960c9e4f15"
   },
   "outputs": [],
   "source": [
    "datasets_train = load_dataset(\"Shannnh/hw5-changed\", split = 'train')\n",
    "datasets_val = load_dataset(\"Shannnh/hw5-changed\", split = 'validation')\n",
    "datasets_test = load_dataset(\"Shannnh/hw5-changed\", split = 'test_ds')"
   ]
  },
  {
   "cell_type": "code",
   "execution_count": 4,
   "metadata": {
    "colab": {
     "base_uri": "https://localhost:8080/"
    },
    "id": "m40ZM0re8-RR",
    "outputId": "95fcac78-6bd7-4a4e-aa07-301989b5cb47"
   },
   "outputs": [
    {
     "name": "stdout",
     "output_type": "stream",
     "text": [
      "dict_keys(['Classifier', 'Prompt', 'Messages', 'PromptId'])\n",
      "392632\n",
      "27664\n",
      "15434\n"
     ]
    }
   ],
   "source": [
    "print(datasets_train[0].keys())\n",
    "print(len(datasets_train))\n",
    "print(len(datasets_val))\n",
    "print(len(datasets_test))"
   ]
  },
  {
   "cell_type": "code",
   "execution_count": 5,
   "metadata": {},
   "outputs": [],
   "source": [
    "datasets_train = datasets_train.shuffle(seed=42).select(range(100))\n",
    "datasets_val = datasets_val.shuffle(seed=42).select(range(10))"
   ]
  },
  {
   "cell_type": "code",
   "execution_count": 6,
   "metadata": {},
   "outputs": [
    {
     "data": {
      "text/plain": [
       "['Question&Answer', 'Summarization', 'NamedEntity']"
      ]
     },
     "execution_count": 6,
     "metadata": {},
     "output_type": "execute_result"
    }
   ],
   "source": [
    "datasets_train.unique('Classifier')"
   ]
  },
  {
   "cell_type": "markdown",
   "metadata": {
    "id": "-849v2wQQLUX"
   },
   "source": [
    "# Hyperparameters"
   ]
  },
  {
   "cell_type": "code",
   "execution_count": 7,
   "metadata": {
    "colab": {
     "base_uri": "https://localhost:8080/"
    },
    "id": "Prz8c1bYQLUY",
    "outputId": "00ae83ef-d32f-4dc3-c3a2-5e955407869c"
   },
   "outputs": [
    {
     "data": {
      "text/plain": [
       "IDeaLGPTConfig(batch_size=8, gradient_accumulation_steps=4, num_iters=10000, eval_iters=3, eval_interval=1000, device='cuda', sequence_length=256, vocab_size=50257, num_blocks=8, num_heads=8, embed_dim=512, dropout=0.1, bias=False, num_workers=8, train_test_split=0.8, SUBSET_PERCENTAGE=0.01, lr=0.002, lr_decay=True, warmup_iters=1000, min_lr=6e-06, weight_decay=0.1, grad_clip=1.0)"
      ]
     },
     "execution_count": 7,
     "metadata": {},
     "output_type": "execute_result"
    }
   ],
   "source": [
    "@dataclass\n",
    "class IDeaLGPTConfig:\n",
    "\n",
    "    # General\n",
    "    batch_size: int = 8 # 16\n",
    "    gradient_accumulation_steps: int = 4\n",
    "    num_iters: int = 10000\n",
    "    eval_iters: int = 3\n",
    "    eval_interval: int = 1000\n",
    "    device: str = 'cuda' if torch.cuda.is_available() else 'cpu'\n",
    "    # device: str = 'cpu'\n",
    "\n",
    "    # Model\n",
    "    sequence_length: int = 256\n",
    "    vocab_size: int = 50257 # gpt2 vocab\n",
    "    num_blocks: int = 8\n",
    "    num_heads: int = 8\n",
    "    embed_dim: int = 512\n",
    "    dropout: float = 0.1\n",
    "    bias: bool = False\n",
    "\n",
    "    # Data\n",
    "    num_workers: int = 8\n",
    "    train_test_split: float = 0.8\n",
    "    SUBSET_PERCENTAGE: float =0.01 # % of OWT to train on, between 0 and 1\n",
    "\n",
    "    # LR scheduler\n",
    "    lr: float = 2e-3\n",
    "    lr_decay: bool = True\n",
    "    warmup_iters: int = 1000\n",
    "    min_lr: float = 6e-6\n",
    "\n",
    "    # optimizer\n",
    "    weight_decay: float = 1e-1\n",
    "    grad_clip: float = 1.0\n",
    "\n",
    "\n",
    "config = IDeaLGPTConfig()\n",
    "device = config.device\n",
    "config"
   ]
  },
  {
   "cell_type": "code",
   "execution_count": 8,
   "metadata": {
    "colab": {
     "base_uri": "https://localhost:8080/"
    },
    "id": "4IkXs4hTQLUZ",
    "outputId": "1bb56acf-d9c3-4420-f94e-8d5db87cad31"
   },
   "outputs": [
    {
     "name": "stdout",
     "output_type": "stream",
     "text": [
      "Effective batch size = 32\n"
     ]
    }
   ],
   "source": [
    "print(f'Effective batch size = {config.batch_size * config.gradient_accumulation_steps}')"
   ]
  },
  {
   "cell_type": "markdown",
   "metadata": {
    "id": "l6FXk8H1QLUZ"
   },
   "source": [
    "# Loading Data and Preprocessing"
   ]
  },
  {
   "cell_type": "code",
   "execution_count": 9,
   "metadata": {
    "id": "FF87zNglQLUZ"
   },
   "outputs": [],
   "source": [
    "# hf_dataset = load_dataset(\"Skylion007/openwebtext\", split='train') # only has one split - train\n",
    "# hf_dataset = hf_dataset.with_format(\"torch\")\n",
    "# hf_dataset"
   ]
  },
  {
   "cell_type": "code",
   "execution_count": 10,
   "metadata": {
    "id": "Z-UOmFJFQLUZ"
   },
   "outputs": [],
   "source": [
    "# # data = dataset['train'].shuffle(seed=42).select(range(int(len(dataset['train']) * SUBSET_PERCENTAGE)))\n",
    "# # hf_dataset = hf_dataset.select(range(int(len(hf_dataset) * config.SUBSET_PERCENTAGE)))\n",
    "# hf_dataset = hf_dataset.train_test_split(train_size=config.train_test_split)\n",
    "# hf_dataset"
   ]
  },
  {
   "cell_type": "code",
   "execution_count": 11,
   "metadata": {
    "id": "0DljsEgbQLUZ"
   },
   "outputs": [],
   "source": [
    "# train_hf_dataset, val_hf_dataset = hf_dataset['train'], hf_dataset['test']"
   ]
  },
  {
   "cell_type": "markdown",
   "metadata": {
    "id": "1bKU7Y-6QLUZ"
   },
   "source": [
    "## Tokenizer - OpenAI tiktoken (changed to GPT2Tokenizer)"
   ]
  },
  {
   "cell_type": "code",
   "execution_count": 12,
   "metadata": {
    "colab": {
     "base_uri": "https://localhost:8080/"
    },
    "id": "YvwoPFbiQLUZ",
    "outputId": "9752f1ea-9efb-41ca-99ec-76c867ba2dd5"
   },
   "outputs": [
    {
     "data": {
      "text/plain": [
       "[31373, 995]"
      ]
     },
     "execution_count": 12,
     "metadata": {},
     "output_type": "execute_result"
    }
   ],
   "source": [
    "#tokenizer = tiktoken.get_encoding(\"cl100k_base\") # gpt4 tokenizer - NOTE: need to change vocab_size in config if used\n",
    "#tokenizer = tiktoken.encoding_for_model('gpt-2')\n",
    "tokenizer = GPT2Tokenizer.from_pretrained('gpt2')\n",
    "tokenizer.encode('hello world')\n"
   ]
  },
  {
   "cell_type": "code",
   "execution_count": 13,
   "metadata": {
    "id": "bsUdOVMmjFJ1"
   },
   "outputs": [],
   "source": [
    "tokenizer.model_max_length = config.sequence_length"
   ]
  },
  {
   "cell_type": "code",
   "execution_count": 14,
   "metadata": {
    "id": "h_0F5g1T81XC"
   },
   "outputs": [],
   "source": [
    "tokenizer.pad_token_id"
   ]
  },
  {
   "cell_type": "code",
   "execution_count": 15,
   "metadata": {
    "colab": {
     "base_uri": "https://localhost:8080/"
    },
    "id": "OAqwxz2xzasy",
    "outputId": "dd2b680a-7b13-490f-f283-18e1d720fa34"
   },
   "outputs": [
    {
     "data": {
      "text/plain": [
       "50257"
      ]
     },
     "execution_count": 15,
     "metadata": {},
     "output_type": "execute_result"
    }
   ],
   "source": [
    "vocab_size = tokenizer.vocab_size #same as tiktoken\n",
    "vocab_size"
   ]
  },
  {
   "cell_type": "code",
   "execution_count": 16,
   "metadata": {
    "id": "lFDoKw26tevh"
   },
   "outputs": [],
   "source": [
    "# set pad_token_id equal to the eos_token_id if not set\n",
    "if tokenizer.pad_token_id is None:\n",
    "    tokenizer.pad_token_id = tokenizer.eos_token_id"
   ]
  },
  {
   "cell_type": "code",
   "execution_count": 17,
   "metadata": {
    "id": "ZcD3xq9d1PvS"
   },
   "outputs": [],
   "source": [
    "DEFAULT_CHAT_TEMPLATE = \"{% for message in messages %}\\n{% if message['role'] == 'user' %}\\n{{ '<|user|>\\n' + ' '.join(message['content'].split()[:150]) + eos_token }}\\n{% elif message['role'] == 'system' %}\\n{{ '<|system|>\\n' + message['content'] + eos_token }}\\n{% elif message['role'] == 'assistant' %}\\n{{ '<|assistant|>\\n'  + message['content'] + eos_token }}\\n{% endif %}\\n{% if loop.last and add_generation_prompt %}\\n{{ '<|assistant|>' }}\\n{% endif %}\\n{% endfor %}\"\n",
    "tokenizer.chat_template = DEFAULT_CHAT_TEMPLATE"
   ]
  },
  {
   "cell_type": "code",
   "execution_count": 18,
   "metadata": {
    "colab": {
     "base_uri": "https://localhost:8080/",
     "height": 49,
     "referenced_widgets": [
      "642e89fcada04c16a34b469b21bf80c7",
      "66a71622ed53488ebabc61778e624b96",
      "abf72b3336b14d82b59cfc42b91f4f41",
      "067898ad433a455e8deb863494b7a428",
      "2719a96cddd74b32870d18f31f4ad293",
      "b7403d3083e740208a18888a170f975e",
      "64ff9a51f7264cb68d848f111b0e6857",
      "307746d700d34a94b2a5d2612ff2efb0",
      "024d4f026f184760a2f3b4eb2c624a95",
      "e0d25851a01942868ce5d5e4d76ad284",
      "12257421e51e4a7a916880b5fb690d90"
     ]
    },
    "id": "MbRQjaafylLA",
    "outputId": "dbea003d-9430-4b00-be64-2f72ba56189d"
   },
   "outputs": [
    {
     "data": {
      "application/vnd.jupyter.widget-view+json": {
       "model_id": "c08391040d394647951b439bd1bbddce",
       "version_major": 2,
       "version_minor": 0
      },
      "text/plain": [
       "Applying chat template (num_proc=40):   0%|          | 0/100 [00:00<?, ? examples/s]"
      ]
     },
     "metadata": {},
     "output_type": "display_data"
    },
    {
     "name": "stderr",
     "output_type": "stream",
     "text": [
      "num_proc must be <= 10. Reducing num_proc to 10 for dataset of size 10.\n"
     ]
    },
    {
     "data": {
      "application/vnd.jupyter.widget-view+json": {
       "model_id": "12e303bf8b9d4432974a922ccb5373f0",
       "version_major": 2,
       "version_minor": 0
      },
      "text/plain": [
       "Applying chat template (num_proc=10):   0%|          | 0/10 [00:00<?, ? examples/s]"
      ]
     },
     "metadata": {},
     "output_type": "display_data"
    },
    {
     "data": {
      "application/vnd.jupyter.widget-view+json": {
       "model_id": "f7788e8261a24579b1c22eb44f02d332",
       "version_major": 2,
       "version_minor": 0
      },
      "text/plain": [
       "Applying chat template (num_proc=40):   0%|          | 0/15434 [00:00<?, ? examples/s]"
      ]
     },
     "metadata": {},
     "output_type": "display_data"
    }
   ],
   "source": [
    "def apply_chat_template(example, tokenizer):\n",
    "    messages = example[\"Messages\"]\n",
    "    #\n",
    "    example[\"text\"] = tokenizer.apply_chat_template(messages, tokenize=False, max_length=config.sequence_length, truncation=True)\n",
    "    example[\"tokens\"] = tokenizer.apply_chat_template(messages, tokenize=True, max_length=config.sequence_length, truncation=True)\n",
    "    return example\n",
    "\n",
    "column_names = list(datasets_train.features)\n",
    "datasets_train = datasets_train.map(apply_chat_template,\n",
    "                                num_proc=cpu_count(),\n",
    "                                fn_kwargs={\"tokenizer\": tokenizer},\n",
    "                                remove_columns=column_names,\n",
    "                                desc=\"Applying chat template\")\n",
    "datasets_val = datasets_val.map(apply_chat_template,\n",
    "                                num_proc=cpu_count(),\n",
    "                                fn_kwargs={\"tokenizer\": tokenizer},\n",
    "                                remove_columns=column_names,\n",
    "                                desc=\"Applying chat template\")\n",
    "datasets_test = datasets_test.map(apply_chat_template,\n",
    "                                num_proc=cpu_count(),\n",
    "                                fn_kwargs={\"tokenizer\": tokenizer},\n",
    "                                remove_columns=column_names,\n",
    "                                desc=\"Applying chat template\")\n"
   ]
  },
  {
   "cell_type": "code",
   "execution_count": 19,
   "metadata": {
    "id": "rPgMqZiO4bae"
   },
   "outputs": [
    {
     "name": "stdout",
     "output_type": "stream",
     "text": [
      "Sample 1 of the processed training set:\n",
      "\n",
      "<|system|>\n",
      "<|endoftext|>\n",
      "<|user|>\n",
      "Summarize the following CNN article: A New South Wales company has been forced to settle a tab of more than $10,000 with the ACCC, after it advertised '100 per cent Aussie' beer that was actually made in China. The Independent Liquor Group was hit with an infringement notice by the Australian Competition and Consumer Commission, and had to pay the fine of $10,200 after its green and gold clad beer was falsely advertised. Independent Liquor Group was fined for advertising this Chinese brewed beer as 'Aussie beer' 'Aussie Beer' labelling from March 2014 to August 2014 featured a map of Australia with '100 per cent owned' inside it, and the statement 'Australia's finest malt'. However, contrary to what its packaging suggested, the beer is made in China. The ACCC dished out the penalty in accordance with the Australian Consumer Law. 'Country of origin representations, particularly those designed to grab the<|endoftext|>\n",
      "<|assistant|>\n",
      "Independent Liquor Group fined $10,200 by the ACCC for false advertising .\n",
      "Beer claimed to be '100% Aussie' but is actually brewed in China .\n",
      "'Aussie Beer' with misleading labelling sold from March to August 2014 .\n",
      "Punishment handed out in line with the Australian Consumer Law .<|endoftext|>\n",
      "\n",
      "token: [27, 91, 10057, 91, 29, 198, 50256, 198, 27, 91, 7220, 91, 29, 198, 13065, 3876, 1096, 262, 1708, 8100, 2708, 25, 317, 968, 2520, 11769, 1664, 468, 587, 4137, 284, 12259, 257, 7400, 286, 517, 621, 720, 940, 11, 830, 351, 262, 15859, 34, 11, 706, 340, 23944, 705, 3064, 583, 1247, 317, 43480, 6, 6099, 326, 373, 1682, 925, 287, 2807, 13, 383, 13362, 35515, 273, 4912, 373, 2277, 351, 281, 23059, 4003, 416, 262, 6638, 27348, 290, 18110, 4513, 11, 290, 550, 284, 1414, 262, 3734, 286, 720, 940, 11, 2167, 706, 663, 4077, 290, 3869, 38186, 6099, 373, 24566, 23944, 13, 13362, 35515, 273, 4912, 373, 22643, 329, 8560, 428, 3999, 40163, 6099, 355, 705, 32, 43480, 6099, 6, 705, 32, 43480, 16971, 6, 2248, 9417, 422, 2805, 1946, 284, 2932, 1946, 8096, 257, 3975, 286, 4505, 351, 705, 3064, 583, 1247, 6898, 6, 2641, 340, 11, 290, 262, 2643, 705, 27429, 338, 18822, 26868, 4458, 2102, 11, 10388, 284, 644, 663, 16846, 5220, 11, 262, 6099, 318, 925, 287, 2807, 13, 383, 15859, 34, 595, 704, 503, 262, 7389, 287, 10213, 351, 262, 6638, 18110, 3854, 13, 705, 33921, 286, 8159, 24612, 11, 3573, 883, 3562, 284, 5552, 262, 50256, 198, 27, 91, 562, 10167, 91, 29, 198, 40566, 35515, 273, 4912, 22643, 720, 940, 11, 2167, 416, 262, 15859, 34, 329, 3991, 8560, 764, 198, 49802, 4752, 284, 307, 705, 3064, 4, 317, 43480, 6, 475, 318, 1682, 40163, 287, 2807, 764, 198, 6, 32, 43480, 16971, 6, 351, 15850]\n",
      "sample length: 1271\n",
      "token length:256\n",
      "Sample 0 of the processed training set:\n",
      "\n",
      "<|system|>\n",
      "<|endoftext|>\n",
      "<|user|>\n",
      "Summarize the following CNN article: Texas police are trying to determine the series of events leading up to a 50-year-old running into a gas station Friday morning with a gunshot wound to the face. The incident occurred at a Chevron in Fort Worth about 5.30am. CCTV shows a red Toyota quickly pulling up outside the station, with a man jumping out of the car and bolting inside. Covered in blood and pleading for help, the victim told the gas station clerk to call 911. CCTV: Footage from the Chevron in the 1000 block of Bridgewood Drive in Fort Worth show the victim quickly pulling up in his red Toyota, leaving the car running as he ran inside . 'Help': The man comes running into the gas station, covered in blood, pleading for assistance . Badly injured: The footage shows the man, with an obvious injury around his mouth . 911:<|endoftext|>\n",
      "<|assistant|>\n",
      "Victim, 50, ran into a Chevron in Fort Worth, Texas, at 5.30am Friday .\n",
      "He was covered in blood and asked staff to call 911 .\n",
      "However he refused to cooperate with police .\n",
      "Was taken to hospital with non-life-threatening injuries .\n",
      "Police believe he was shot after an altercation at an apartment complex .<|endoftext|>\n",
      "\n",
      "token: [27, 91, 10057, 91, 29, 198, 50256, 198, 27, 91, 7220, 91, 29, 198, 13065, 3876, 1096, 262, 1708, 8100, 2708, 25, 3936, 1644, 389, 2111, 284, 5004, 262, 2168, 286, 2995, 3756, 510, 284, 257, 2026, 12, 1941, 12, 727, 2491, 656, 257, 3623, 4429, 3217, 3329, 351, 257, 29444, 11699, 284, 262, 1986, 13, 383, 4519, 5091, 379, 257, 50083, 287, 6401, 22301, 546, 642, 13, 1270, 321, 13, 36983, 2523, 257, 2266, 20182, 2952, 10427, 510, 2354, 262, 4429, 11, 351, 257, 582, 14284, 503, 286, 262, 1097, 290, 11572, 889, 2641, 13, 327, 2557, 287, 2910, 290, 30279, 329, 1037, 11, 262, 3117, 1297, 262, 3623, 4429, 21120, 284, 869, 16679, 13, 36983, 25, 7870, 496, 422, 262, 50083, 287, 262, 8576, 2512, 286, 28320, 39909, 702, 9974, 287, 6401, 22301, 905, 262, 3117, 2952, 10427, 510, 287, 465, 2266, 20182, 11, 4305, 262, 1097, 2491, 355, 339, 4966, 2641, 764, 705, 22087, 10354, 383, 582, 2058, 2491, 656, 262, 3623, 4429, 11, 5017, 287, 2910, 11, 30279, 329, 6829, 764, 7772, 306, 6686, 25, 383, 9640, 2523, 262, 582, 11, 351, 281, 3489, 5095, 1088, 465, 5422, 764, 16679, 25, 50256, 198, 27, 91, 562, 10167, 91, 29, 198, 21944, 320, 11, 2026, 11, 4966, 656, 257, 50083, 287, 6401, 22301, 11, 3936, 11, 379, 642, 13, 1270, 321, 3217, 764, 198, 1544, 373, 5017, 287, 2910, 290, 1965, 3085, 284, 869, 16679, 764, 198, 4864, 339, 6520, 284, 21270, 351, 1644, 764, 198, 16973, 2077, 284, 4436, 351, 1729, 12]\n",
      "sample length: 1215\n",
      "token length:256\n"
     ]
    }
   ],
   "source": [
    "# what's in datasets now\n",
    "# datasets_train : [{'text':'abcd','tokens':[1,2,3]},{'text':'bcd','tokens':[2,3]},...]\n",
    "for index in random.sample(range(len(datasets_val)), 2):\n",
    "    print(f\"Sample {index} of the processed training set:\\n\\n{datasets_val[index]['text']}\")\n",
    "    print(f\"token: {datasets_val[index]['tokens']}\")\n",
    "    print(f\"sample length: {len(datasets_val[index]['text'])}\") \n",
    "    print(f\"token length:{len(datasets_val[index]['tokens'])}\")"
   ]
  },
  {
   "cell_type": "code",
   "execution_count": 20,
   "metadata": {},
   "outputs": [
    {
     "name": "stderr",
     "output_type": "stream",
     "text": [
      "  0%|          | 0/100 [00:00<?, ?it/s]Token indices sequence length is longer than the specified maximum sequence length for this model (273 > 256). Running this sequence through the model will result in indexing errors\n",
      "100%|██████████| 100/100 [00:00<00:00, 348.86it/s]"
     ]
    },
    {
     "name": "stdout",
     "output_type": "stream",
     "text": [
      "Average token length: 255.09\n"
     ]
    },
    {
     "name": "stderr",
     "output_type": "stream",
     "text": [
      "\n"
     ]
    }
   ],
   "source": [
    "total_token_length = 0\n",
    "sample_count = len(datasets_train)\n",
    "\n",
    "# Calculate total token length across all samples\n",
    "for data in tqdm(datasets_train):\n",
    "    encoded_length = len(tokenizer.encode(data['text']))\n",
    "    total_token_length += encoded_length\n",
    "\n",
    "# Compute the average token length\n",
    "average_token_length = total_token_length / sample_count\n",
    "\n",
    "print(f\"Average token length: {average_token_length}\")"
   ]
  },
  {
   "cell_type": "code",
   "execution_count": 21,
   "metadata": {
    "id": "jg0MOKomarrU"
   },
   "outputs": [
    {
     "data": {
      "text/plain": [
       "31"
      ]
     },
     "execution_count": 21,
     "metadata": {},
     "output_type": "execute_result"
    }
   ],
   "source": [
    "torch.cuda.empty_cache()\n",
    "gc.collect()"
   ]
  },
  {
   "cell_type": "code",
   "execution_count": 22,
   "metadata": {
    "id": "hrfc-IpwOrFY"
   },
   "outputs": [],
   "source": [
    "# save dataset\n",
    "\n",
    "def save_dataset(dataset, filename):\n",
    "    with open(filename, 'wb') as f:\n",
    "        pickle.dump(dataset, f)\n",
    "save_dataset(datasets_train, 'data/finetune/train.bin')\n",
    "save_dataset(datasets_val, 'data/finetune/val.bin')\n",
    "save_dataset(datasets_test, 'data/finetune/test.bin')"
   ]
  },
  {
   "cell_type": "markdown",
   "metadata": {
    "id": "AghJe4bCQLUa"
   },
   "source": [
    "## Pytorch Dataset"
   ]
  },
  {
   "cell_type": "markdown",
   "metadata": {
    "id": "OFzA_Ake41t5"
   },
   "source": [
    "For long texts, the current approach randomly selects segments of text that are equal to config.sequence_length. However, methods such as sliding windows could also be explored."
   ]
  },
  {
   "cell_type": "code",
   "execution_count": 23,
   "metadata": {
    "id": "sTYPPcyx6OtP"
   },
   "outputs": [],
   "source": [
    "class TrainDataset(Dataset):\n",
    "    def __init__(self, root_dir, split):\n",
    "        \"\"\"\n",
    "        Args:\n",
    "            root_dir (str): Dataset root directory containing the data files.\n",
    "        \"\"\"\n",
    "        file_path = os.path.join(root_dir, \"train.bin\") if split == 'train' else os.path.join(root_dir, \"val.bin\")\n",
    "        with open(file_path, 'rb') as f:\n",
    "            data = pickle.load(f)\n",
    "        self.data = data\n",
    "\n",
    "    def __len__(self):\n",
    "        return len(self.data)\n",
    "\n",
    "    def __getitem__(self, idx):\n",
    "        sample = self.data[idx]\n",
    "        tokens = sample['tokens']\n",
    "        # if the number of tokens is more than the sequence_length, randomly choose a segment\n",
    "        # if len(tokens) > config.sequence_length + 1:\n",
    "        #     num_possible_starts = len(tokens) - config.sequence_length\n",
    "        #     start = random.randint(0, num_possible_starts - 1)\n",
    "        #     segment = tokens[start:start + self.sequence_length + 1]\n",
    "        # else:\n",
    "        #     segment = tokens\n",
    "\n",
    "        if len(tokens) < config.sequence_length + 1:\n",
    "            padded_tokens = np.pad(tokens, (0, config.sequence_length + 1 - len(tokens)), 'constant', constant_values=tokenizer.pad_token_id)\n",
    "        else:\n",
    "            padded_tokens = tokens[:config.sequence_length + 1]\n",
    "\n",
    "        xb = torch.tensor(padded_tokens[:-1], dtype=torch.int64)\n",
    "        yb = torch.tensor(padded_tokens[1:], dtype=torch.int64)\n",
    "        return xb, yb\n"
   ]
  },
  {
   "cell_type": "code",
   "execution_count": 24,
   "metadata": {
    "id": "XQJEY7Ye_v9t",
    "jupyter": {
     "source_hidden": true
    }
   },
   "outputs": [],
   "source": [
    "# class TestDataset(Dataset):\n",
    "#     def __init__(self, root_dir):\n",
    "#         \"\"\"\n",
    "#         Args:\n",
    "#             root_dir (str): Dataset root directory containing the data files.\n",
    "#         \"\"\"\n",
    "#         file_path = os.path.join(root_dir, \"test.bin\")\n",
    "#         with open(file_path, 'rb') as f:\n",
    "#             data = pickle.load(f)\n",
    "#         self.data = data\n",
    "\n",
    "#     def __len__(self):\n",
    "#         return len(self.data)\n",
    "\n",
    "#     def __getitem__(self, idx):\n",
    "#         sample = self.data[idx]\n",
    "#         tokens = sample['tokens']\n",
    "#         # if len(tokens) > config.sequence_length + 1:\n",
    "#         #     num_possible_starts = len(tokens) - config.sequence_length\n",
    "#         #     start = random.randint(0, num_possible_starts - 1)\n",
    "#         #     segment = tokens[start:start + config.sequence_length + 1]\n",
    "#         # else:\n",
    "#         #     segment = tokens\n",
    "#         if len(tokens) < config.sequence_length + 1:\n",
    "#             padded_tokens = np.pad(tokens, (0, config.sequence_length + 1 - len(tokens)), 'constant', constant_values=tokenizer.pad_token_id)\n",
    "#         else:\n",
    "#             padded_tokens = tokens[:config.sequence_length + 1]\n",
    "\n",
    "#         xb = torch.tensor(padded_tokens[:-1], dtype=torch.int64)\n",
    "#         return xb\n"
   ]
  },
  {
   "cell_type": "markdown",
   "metadata": {
    "id": "Y3HIbJmBQLUa"
   },
   "source": [
    "## Dataloader"
   ]
  },
  {
   "cell_type": "code",
   "execution_count": 25,
   "metadata": {
    "id": "y8HvMPG8QLUa"
   },
   "outputs": [],
   "source": [
    "# train_loader = DataLoader(train_dataset, batch_size=config.batch_size, shuffle=True, num_workers=1)\n",
    "# val_loader = DataLoader(val_dataset, batch_size=config.batch_size, shuffle=True, num_workers=config.num_workers)"
   ]
  },
  {
   "cell_type": "code",
   "execution_count": null,
   "metadata": {
    "id": "zI90SEqFQLUb",
    "scrolled": true
   },
   "outputs": [],
   "source": [
    "# for x, y in train_loader:\n",
    "#     print(x.shape, y.shape)\n",
    "#     break"
   ]
  },
  {
   "cell_type": "code",
   "execution_count": null,
   "metadata": {
    "id": "q5oYgzrkQLUb"
   },
   "outputs": [],
   "source": [
    "'''\n",
    "# poor man's dataloader\n",
    "# but actual motivation is - im too lazy to write and deal with pad tokens in above method to read data\n",
    "# since there are documents which are less than sequence length and they mess up the batch\n",
    "# this method is cleaner, i get to learn something new (np.memmap!) and it's fun!\n",
    "\n",
    "data_dir = os.path.join('data', 'owt')\n",
    "\n",
    "def get_batch(split):\n",
    "    file_path = os.path.join(data_dir, 'val' if split == 'val.bin' else 'train.bin')\n",
    "    # memmap allows to read huge .bin files without loading entire thing. magic?\n",
    "    data = np.memmap(file_path, mode='r', dtype=np.uint16) # fp16?\n",
    "    idx = torch.randint(len(data) - config.sequence_length, (config.batch_size, ))\n",
    "    xb = torch.stack([torch.from_numpy(data[i:i+config.sequence_length].astype(np.int64)) for i in idx], dim=0)\n",
    "    yb = torch.stack([torch.from_numpy(data[i+1:i+config.sequence_length+1].astype(np.int64)) for i in idx], dim=0)\n",
    "    if device == 'cuda':\n",
    "        # pin_memory is an optimization to reserve some space in cpu mem which is used for moving to gpu\n",
    "        # reduces overhead -> increases perf\n",
    "        # non_blocking = True is async data transfer\n",
    "        xb, yb = xb.pin_memory().to(device, non_blocking=True), yb.pin_memory().to(device, non_blocking=True)\n",
    "    return xb, yb\n",
    "'''"
   ]
  },
  {
   "cell_type": "code",
   "execution_count": 26,
   "metadata": {
    "id": "DXmyEb8b9PyQ"
   },
   "outputs": [
    {
     "data": {
      "text/plain": [
       "0"
      ]
     },
     "execution_count": 26,
     "metadata": {},
     "output_type": "execute_result"
    }
   ],
   "source": [
    "\n",
    "DATA_DIR        = 'data/finetune'\n",
    "\n",
    "train_dataset   = TrainDataset(\n",
    "    root_dir    = DATA_DIR,\n",
    "    split   = \"train\"\n",
    ")\n",
    "\n",
    "val_dataset     = TrainDataset(\n",
    "    root_dir    = DATA_DIR,\n",
    "    split   = \"val\"\n",
    ")\n",
    "\n",
    "# test_dataset    = TestDataset(\n",
    "#     root_dir    = DATA_DIR\n",
    "# )\n",
    "gc.collect()\n"
   ]
  },
  {
   "cell_type": "code",
   "execution_count": 27,
   "metadata": {},
   "outputs": [
    {
     "data": {
      "text/plain": [
       "(torch.Size([256]), torch.Size([256]))"
      ]
     },
     "execution_count": 27,
     "metadata": {},
     "output_type": "execute_result"
    }
   ],
   "source": [
    "xb, yb = train_dataset[0]\n",
    "xb.shape, yb.shape"
   ]
  },
  {
   "cell_type": "code",
   "execution_count": 28,
   "metadata": {
    "id": "1itLTzKtB7e-"
   },
   "outputs": [
    {
     "name": "stdout",
     "output_type": "stream",
     "text": [
      "Batch Size           :  8\n",
      "Train Batches        :  13\n",
      "Val Batches          :  2\n"
     ]
    }
   ],
   "source": [
    "train_loader    = torch.utils.data.DataLoader(\n",
    "    dataset     = train_dataset,\n",
    "    batch_size  = config.batch_size,\n",
    "    shuffle     = True,\n",
    "    num_workers = 2,\n",
    "    pin_memory  = True\n",
    ")\n",
    "\n",
    "val_loader      = torch.utils.data.DataLoader(\n",
    "    dataset     = val_dataset,\n",
    "    batch_size  = config.batch_size,\n",
    "    shuffle     = False,\n",
    "    num_workers = 1,\n",
    "    pin_memory  = True\n",
    ")\n",
    "\n",
    "# test_loader     = torch.utils.data.DataLoader(\n",
    "#     dataset     = test_dataset,\n",
    "#     batch_size  = config.batch_size,\n",
    "#     shuffle     = False,\n",
    "#     num_workers = 1,\n",
    "#     pin_memory  = True\n",
    "# )\n",
    "\n",
    "print(\"Batch Size           : \", config.batch_size)\n",
    "print(\"Train Batches        : \", train_loader.__len__())\n",
    "print(\"Val Batches          : \", val_loader.__len__())\n",
    "# print(\"Test Batches         : \", test_loader.__len__())\n"
   ]
  },
  {
   "cell_type": "code",
   "execution_count": 29,
   "metadata": {
    "id": "VIYb0gtYFenJ"
   },
   "outputs": [
    {
     "name": "stdout",
     "output_type": "stream",
     "text": [
      "Checking the Shapes of the Data --\n",
      "\n",
      "xb shape:\t\ttorch.Size([8, 256])\n",
      "yb shape:\t\ttorch.Size([8, 256])\n",
      "\n"
     ]
    }
   ],
   "source": [
    "''' Sanity Check '''\n",
    "\n",
    "print(\"Checking the Shapes of the Data --\\n\")\n",
    "\n",
    "for batch in train_loader:\n",
    "    xb, yb = batch\n",
    "\n",
    "    print(f\"xb shape:\\t\\t{xb.shape}\")\n",
    "    print(f\"yb shape:\\t\\t{yb.shape}\\n\")\n",
    "\n",
    "\n",
    "\n",
    "    break"
   ]
  },
  {
   "cell_type": "code",
   "execution_count": null,
   "metadata": {
    "id": "1mmd9hflKQjF"
   },
   "outputs": [],
   "source": [
    "# I tried it, but failed.QAQ. It seems that using np.memmap requires synchronously recording the length of each data entry, which makes padding inconvenient.\n",
    "'''\n",
    "data_dir = '/content/hw5/'\n",
    "def get_batch(split):\n",
    "    file_path = os.path.join(data_dir, 'val.bin' if split == 'val' else 'train.bin')\n",
    "\n",
    "\n",
    "    with open(file_path, 'rb') as f:\n",
    "        data = pickle.load(f)\n",
    "\n",
    "    xb = torch.empty((config.batch_size, config.sequence_length), dtype=torch.int64)\n",
    "    yb = torch.empty((config.batch_size, config.sequence_length), dtype=torch.int64)\n",
    "\n",
    "    for b in range(config.batch_size):\n",
    "        tokens = data[b]['tokens']\n",
    "        if len(tokens) < config.sequence_length:\n",
    "            padded_tokens = np.pad(tokens, (0, config.sequence_length - len(tokens)), 'constant', constant_values=tokenizer.pad_token_id)\n",
    "        else:\n",
    "            padded_tokens = tokens[:config.sequence_length]\n",
    "\n",
    "\n",
    "        xb[b] = torch.tensor(padded_tokens[:-1], dtype=torch.int64)\n",
    "        yb[b] = torch.tensor(padded_tokens[1:], dtype=torch.int64)\n",
    "\n",
    "    if device == 'cuda':\n",
    "        xb, yb = xb.pin_memory().to(device, non_blocking=True), yb.pin_memory().to(device, non_blocking=True)\n",
    "\n",
    "    return xb, yb\n",
    "'''"
   ]
  },
  {
   "cell_type": "markdown",
   "metadata": {
    "id": "RQ3b6b23QLUb"
   },
   "source": [
    "# Model"
   ]
  },
  {
   "cell_type": "code",
   "execution_count": 30,
   "metadata": {
    "id": "FsZa23FJQLUb"
   },
   "outputs": [],
   "source": [
    "class Head(nn.Module):\n",
    "    # def __init__(self, embed_dim, head_size, sequence_length, dropout):\n",
    "    def __init__(self, config, interim_head_size):\n",
    "        super().__init__()\n",
    "        self.embed_dim = config.embed_dim\n",
    "        self.interim_head_size = interim_head_size # say embed_dim = 32 -> broken into say 4 heads, so this will be 8, to be concated back to 32\n",
    "        self.key = nn.Linear(config.embed_dim, interim_head_size, bias=config.bias)\n",
    "        self.query = nn.Linear(config.embed_dim, interim_head_size, bias=config.bias)\n",
    "        self.value = nn.Linear(config.embed_dim, interim_head_size, bias=config.bias)\n",
    "        self.register_buffer('tril', torch.tril(torch.ones((config.sequence_length, config.sequence_length))))\n",
    "\n",
    "        self.dropout = nn.Dropout(config.dropout)\n",
    "\n",
    "    def forward(self, x):\n",
    "        B, T, C = x.shape\n",
    "        k = self.key(x) # (b,t,c) -> (b,t,h)\n",
    "        q = self.query(x) # (b,t,c) -> (b,t,h)\n",
    "        v = self.value(x) # (b,t,c) -> (b,t,h)\n",
    "        wei = k @ q.transpose(-2, -1) * self.embed_dim**(-0.5) # (b,t,h) @ (b,h,t) -> (b,t,t)\n",
    "\n",
    "        wei = wei.masked_fill((self.tril[:T, :T] == 0.), -torch.inf) # type: ignore\n",
    "        wei = F.softmax(wei, dim=-1)\n",
    "        wei = self.dropout(wei)\n",
    "\n",
    "        xbow = wei @ v # (b,t,t) @ (b,t,h) -> (b,t,h)\n",
    "        return xbow\n",
    "\n",
    "class MultiHeadAttention(nn.Module):\n",
    "    # def __init__(self, num_heads, embed_dim, head_size, sequence_length, dropout):\n",
    "    def __init__(self, config, interim_head_size):\n",
    "        super().__init__()\n",
    "        self.head_list = nn.ModuleList([Head(config, interim_head_size) for _ in range(config.num_heads)])\n",
    "        self.proj = nn.Linear(config.embed_dim, config.embed_dim)\n",
    "        self.dropout = nn.Dropout(config.dropout)\n",
    "\n",
    "    def forward(self, x):\n",
    "        out = torch.cat([h(x) for h in self.head_list], dim=-1)\n",
    "        out = self.dropout(self.proj(out))\n",
    "        return out\n",
    "\n",
    "class FeedForward(nn.Module):\n",
    "    def __init__(self, config):\n",
    "        super().__init__()\n",
    "\n",
    "        self.layers = nn.Sequential(\n",
    "            nn.Linear(config.embed_dim, 4*config.embed_dim),\n",
    "            nn.GELU(),\n",
    "            nn.Linear(4*config.embed_dim, config.embed_dim),\n",
    "            nn.Dropout(config.dropout)\n",
    "        )\n",
    "\n",
    "    def forward(self, x):\n",
    "        return self.layers(x)\n",
    "\n",
    "class Block(nn.Module):\n",
    "    # def __init__(self, num_heads, embed_dim, sequence_length, dropout):\n",
    "    def __init__(self, config):\n",
    "        super().__init__()\n",
    "        self.interim_head_size = config.embed_dim // config.num_heads\n",
    "        self.sa = MultiHeadAttention(config, self.interim_head_size)\n",
    "        self.ff = FeedForward(config)\n",
    "        self.ln1 = nn.LayerNorm(config.embed_dim)\n",
    "        self.ln2 = nn.LayerNorm(config.embed_dim)\n",
    "\n",
    "    def forward(self, x):\n",
    "        x = x + self.sa(self.ln1(x)) # communication\n",
    "        x = x + self.ff(self.ln2(x)) # computation\n",
    "        return x\n",
    "\n",
    "\n",
    "class Transformer(torch.nn.Module):\n",
    "    # def __init__(self, embed_dim, vocab_size, sequence_length, num_heads, num_blocks, dropout):\n",
    "    def __init__(self, config):\n",
    "        super().__init__()\n",
    "        self.sequence_length = config.sequence_length\n",
    "        self.token_embeddings = torch.nn.Embedding(config.vocab_size, config.embed_dim)\n",
    "        self.position_embeddings = nn.Embedding(config.sequence_length, config.embed_dim)\n",
    "        self.block_list = nn.Sequential(*[Block(config)\n",
    "                                          for _ in range(config.num_blocks)])\n",
    "        self.final_ln = nn.LayerNorm(config.embed_dim)\n",
    "        self.lm_head = nn.Linear(config.embed_dim, config.vocab_size)\n",
    "\n",
    "    def forward(self, ixs, targets=None):\n",
    "        # ixs: (b,t)\n",
    "        # targets: (b,t)\n",
    "        B, T = ixs.shape\n",
    "        x = self.token_embeddings(ixs) # (b,t,c=embed_dim)\n",
    "        pos_embeds = self.position_embeddings(torch.arange(T, device=device)) # (t,c=embed_dim)\n",
    "        x += pos_embeds\n",
    "        x = self.block_list(x)\n",
    "        x = self.final_ln(x)\n",
    "        logits = self.lm_head(x) # (b,t,c=vocab_size)\n",
    "        if targets is None:\n",
    "            loss = None\n",
    "        else:\n",
    "            mask = (ixs != tokenizer.pad_token_id)  # (b,t), True where not a pad token\n",
    "            logits = logits.permute(0, 2, 1)  # (b,c,t)\n",
    "    \n",
    "            # Use the mask to filter out loss on padding positions\n",
    "            # logits are now (b, c, t), targets are (b, t), mask is (b, t)\n",
    "            # Utilizing .masked_fill to turn pad positions to a very large negative value to ignore them in softmax\n",
    "            loss = F.cross_entropy(logits, targets, reduction='none')  # (b, t) get loss per token\n",
    "            loss = (loss * mask).sum() / mask.sum()  # average loss only over non-pad tokens\n",
    "        return logits, loss\n",
    "\n",
    "    def generate(self, ixs, max_len):\n",
    "        \"\"\"\n",
    "        ixs: (b,t) - input sequence to start generating from\n",
    "        max_len: int - maximum length of the generated sequence\n",
    "        \"\"\"\n",
    "        b, t = ixs.shape\n",
    "        for _ in range(max_len):\n",
    "            # generation (b, ) next tokens in parallel\n",
    "            ixs_cond = ixs[:, -self.sequence_length:] # consider only the last sequence_length tokens\n",
    "            logits, loss = self.forward(ixs_cond) # logits=(b,t,c), loss is ignored\n",
    "            # get juse the final timestep\n",
    "            last_logits = logits[:, -1, :] # (b,c)\n",
    "            # normalize\n",
    "            last_probs = F.softmax(last_logits, dim=-1) # across c\n",
    "            next_tokens = torch.multinomial(last_probs, 1) # (b,c) -> (b)\n",
    "            ixs = torch.cat((ixs, next_tokens), dim=1) # across t so (b,t) -> (b, t+1)\n",
    "        return ixs\n"
   ]
  },
  {
   "cell_type": "markdown",
   "metadata": {
    "id": "Mlj4sY57QLUb"
   },
   "source": [
    "# Training"
   ]
  },
  {
   "cell_type": "code",
   "execution_count": 31,
   "metadata": {
    "id": "uM9xrNVCQLUb"
   },
   "outputs": [],
   "source": [
    "# model = Transformer(embed_dim, vocab_size, sequence_length, num_heads, num_blocks, dropout).to(device)\n",
    "model = Transformer(config).to(device)"
   ]
  },
  {
   "cell_type": "code",
   "execution_count": 32,
   "metadata": {
    "id": "RXZIOVpRQLUc",
    "scrolled": true
   },
   "outputs": [
    {
     "name": "stdout",
     "output_type": "stream",
     "text": [
      "======================================================================================================\n",
      "                                                 Kernel Shape  \\\n",
      "Layer                                                           \n",
      "0_token_embeddings                               [512, 50257]   \n",
      "1_position_embeddings                              [512, 256]   \n",
      "2_block_list.0.LayerNorm_ln1                            [512]   \n",
      "3_block_list.0.sa.head_list.0.Linear_key            [512, 64]   \n",
      "4_block_list.0.sa.head_list.0.Linear_query          [512, 64]   \n",
      "5_block_list.0.sa.head_list.0.Linear_value          [512, 64]   \n",
      "6_block_list.0.sa.head_list.0.Dropout_dropout               -   \n",
      "7_block_list.0.sa.head_list.1.Linear_key            [512, 64]   \n",
      "8_block_list.0.sa.head_list.1.Linear_query          [512, 64]   \n",
      "9_block_list.0.sa.head_list.1.Linear_value          [512, 64]   \n",
      "10_block_list.0.sa.head_list.1.Dropout_dropout              -   \n",
      "11_block_list.0.sa.head_list.2.Linear_key           [512, 64]   \n",
      "12_block_list.0.sa.head_list.2.Linear_query         [512, 64]   \n",
      "13_block_list.0.sa.head_list.2.Linear_value         [512, 64]   \n",
      "14_block_list.0.sa.head_list.2.Dropout_dropout              -   \n",
      "15_block_list.0.sa.head_list.3.Linear_key           [512, 64]   \n",
      "16_block_list.0.sa.head_list.3.Linear_query         [512, 64]   \n",
      "17_block_list.0.sa.head_list.3.Linear_value         [512, 64]   \n",
      "18_block_list.0.sa.head_list.3.Dropout_dropout              -   \n",
      "19_block_list.0.sa.head_list.4.Linear_key           [512, 64]   \n",
      "20_block_list.0.sa.head_list.4.Linear_query         [512, 64]   \n",
      "21_block_list.0.sa.head_list.4.Linear_value         [512, 64]   \n",
      "22_block_list.0.sa.head_list.4.Dropout_dropout              -   \n",
      "23_block_list.0.sa.head_list.5.Linear_key           [512, 64]   \n",
      "24_block_list.0.sa.head_list.5.Linear_query         [512, 64]   \n",
      "25_block_list.0.sa.head_list.5.Linear_value         [512, 64]   \n",
      "26_block_list.0.sa.head_list.5.Dropout_dropout              -   \n",
      "27_block_list.0.sa.head_list.6.Linear_key           [512, 64]   \n",
      "28_block_list.0.sa.head_list.6.Linear_query         [512, 64]   \n",
      "29_block_list.0.sa.head_list.6.Linear_value         [512, 64]   \n",
      "30_block_list.0.sa.head_list.6.Dropout_dropout              -   \n",
      "31_block_list.0.sa.head_list.7.Linear_key           [512, 64]   \n",
      "32_block_list.0.sa.head_list.7.Linear_query         [512, 64]   \n",
      "33_block_list.0.sa.head_list.7.Linear_value         [512, 64]   \n",
      "34_block_list.0.sa.head_list.7.Dropout_dropout              -   \n",
      "35_block_list.0.sa.Linear_proj                     [512, 512]   \n",
      "36_block_list.0.sa.Dropout_dropout                          -   \n",
      "37_block_list.0.LayerNorm_ln2                           [512]   \n",
      "38_block_list.0.ff.layers.Linear_0                [512, 2048]   \n",
      "39_block_list.0.ff.layers.GELU_1                            -   \n",
      "40_block_list.0.ff.layers.Linear_2                [2048, 512]   \n",
      "41_block_list.0.ff.layers.Dropout_3                         -   \n",
      "42_block_list.1.LayerNorm_ln1                           [512]   \n",
      "43_block_list.1.sa.head_list.0.Linear_key           [512, 64]   \n",
      "44_block_list.1.sa.head_list.0.Linear_query         [512, 64]   \n",
      "45_block_list.1.sa.head_list.0.Linear_value         [512, 64]   \n",
      "46_block_list.1.sa.head_list.0.Dropout_dropout              -   \n",
      "47_block_list.1.sa.head_list.1.Linear_key           [512, 64]   \n",
      "48_block_list.1.sa.head_list.1.Linear_query         [512, 64]   \n",
      "49_block_list.1.sa.head_list.1.Linear_value         [512, 64]   \n",
      "50_block_list.1.sa.head_list.1.Dropout_dropout              -   \n",
      "51_block_list.1.sa.head_list.2.Linear_key           [512, 64]   \n",
      "52_block_list.1.sa.head_list.2.Linear_query         [512, 64]   \n",
      "53_block_list.1.sa.head_list.2.Linear_value         [512, 64]   \n",
      "54_block_list.1.sa.head_list.2.Dropout_dropout              -   \n",
      "55_block_list.1.sa.head_list.3.Linear_key           [512, 64]   \n",
      "56_block_list.1.sa.head_list.3.Linear_query         [512, 64]   \n",
      "57_block_list.1.sa.head_list.3.Linear_value         [512, 64]   \n",
      "58_block_list.1.sa.head_list.3.Dropout_dropout              -   \n",
      "59_block_list.1.sa.head_list.4.Linear_key           [512, 64]   \n",
      "60_block_list.1.sa.head_list.4.Linear_query         [512, 64]   \n",
      "61_block_list.1.sa.head_list.4.Linear_value         [512, 64]   \n",
      "62_block_list.1.sa.head_list.4.Dropout_dropout              -   \n",
      "63_block_list.1.sa.head_list.5.Linear_key           [512, 64]   \n",
      "64_block_list.1.sa.head_list.5.Linear_query         [512, 64]   \n",
      "65_block_list.1.sa.head_list.5.Linear_value         [512, 64]   \n",
      "66_block_list.1.sa.head_list.5.Dropout_dropout              -   \n",
      "67_block_list.1.sa.head_list.6.Linear_key           [512, 64]   \n",
      "68_block_list.1.sa.head_list.6.Linear_query         [512, 64]   \n",
      "69_block_list.1.sa.head_list.6.Linear_value         [512, 64]   \n",
      "70_block_list.1.sa.head_list.6.Dropout_dropout              -   \n",
      "71_block_list.1.sa.head_list.7.Linear_key           [512, 64]   \n",
      "72_block_list.1.sa.head_list.7.Linear_query         [512, 64]   \n",
      "73_block_list.1.sa.head_list.7.Linear_value         [512, 64]   \n",
      "74_block_list.1.sa.head_list.7.Dropout_dropout              -   \n",
      "75_block_list.1.sa.Linear_proj                     [512, 512]   \n",
      "76_block_list.1.sa.Dropout_dropout                          -   \n",
      "77_block_list.1.LayerNorm_ln2                           [512]   \n",
      "78_block_list.1.ff.layers.Linear_0                [512, 2048]   \n",
      "79_block_list.1.ff.layers.GELU_1                            -   \n",
      "80_block_list.1.ff.layers.Linear_2                [2048, 512]   \n",
      "81_block_list.1.ff.layers.Dropout_3                         -   \n",
      "82_block_list.2.LayerNorm_ln1                           [512]   \n",
      "83_block_list.2.sa.head_list.0.Linear_key           [512, 64]   \n",
      "84_block_list.2.sa.head_list.0.Linear_query         [512, 64]   \n",
      "85_block_list.2.sa.head_list.0.Linear_value         [512, 64]   \n",
      "86_block_list.2.sa.head_list.0.Dropout_dropout              -   \n",
      "87_block_list.2.sa.head_list.1.Linear_key           [512, 64]   \n",
      "88_block_list.2.sa.head_list.1.Linear_query         [512, 64]   \n",
      "89_block_list.2.sa.head_list.1.Linear_value         [512, 64]   \n",
      "90_block_list.2.sa.head_list.1.Dropout_dropout              -   \n",
      "91_block_list.2.sa.head_list.2.Linear_key           [512, 64]   \n",
      "92_block_list.2.sa.head_list.2.Linear_query         [512, 64]   \n",
      "93_block_list.2.sa.head_list.2.Linear_value         [512, 64]   \n",
      "94_block_list.2.sa.head_list.2.Dropout_dropout              -   \n",
      "95_block_list.2.sa.head_list.3.Linear_key           [512, 64]   \n",
      "96_block_list.2.sa.head_list.3.Linear_query         [512, 64]   \n",
      "97_block_list.2.sa.head_list.3.Linear_value         [512, 64]   \n",
      "98_block_list.2.sa.head_list.3.Dropout_dropout              -   \n",
      "99_block_list.2.sa.head_list.4.Linear_key           [512, 64]   \n",
      "100_block_list.2.sa.head_list.4.Linear_query        [512, 64]   \n",
      "101_block_list.2.sa.head_list.4.Linear_value        [512, 64]   \n",
      "102_block_list.2.sa.head_list.4.Dropout_dropout             -   \n",
      "103_block_list.2.sa.head_list.5.Linear_key          [512, 64]   \n",
      "104_block_list.2.sa.head_list.5.Linear_query        [512, 64]   \n",
      "105_block_list.2.sa.head_list.5.Linear_value        [512, 64]   \n",
      "106_block_list.2.sa.head_list.5.Dropout_dropout             -   \n",
      "107_block_list.2.sa.head_list.6.Linear_key          [512, 64]   \n",
      "108_block_list.2.sa.head_list.6.Linear_query        [512, 64]   \n",
      "109_block_list.2.sa.head_list.6.Linear_value        [512, 64]   \n",
      "110_block_list.2.sa.head_list.6.Dropout_dropout             -   \n",
      "111_block_list.2.sa.head_list.7.Linear_key          [512, 64]   \n",
      "112_block_list.2.sa.head_list.7.Linear_query        [512, 64]   \n",
      "113_block_list.2.sa.head_list.7.Linear_value        [512, 64]   \n",
      "114_block_list.2.sa.head_list.7.Dropout_dropout             -   \n",
      "115_block_list.2.sa.Linear_proj                    [512, 512]   \n",
      "116_block_list.2.sa.Dropout_dropout                         -   \n",
      "117_block_list.2.LayerNorm_ln2                          [512]   \n",
      "118_block_list.2.ff.layers.Linear_0               [512, 2048]   \n",
      "119_block_list.2.ff.layers.GELU_1                           -   \n",
      "120_block_list.2.ff.layers.Linear_2               [2048, 512]   \n",
      "121_block_list.2.ff.layers.Dropout_3                        -   \n",
      "122_block_list.3.LayerNorm_ln1                          [512]   \n",
      "123_block_list.3.sa.head_list.0.Linear_key          [512, 64]   \n",
      "124_block_list.3.sa.head_list.0.Linear_query        [512, 64]   \n",
      "125_block_list.3.sa.head_list.0.Linear_value        [512, 64]   \n",
      "126_block_list.3.sa.head_list.0.Dropout_dropout             -   \n",
      "127_block_list.3.sa.head_list.1.Linear_key          [512, 64]   \n",
      "128_block_list.3.sa.head_list.1.Linear_query        [512, 64]   \n",
      "129_block_list.3.sa.head_list.1.Linear_value        [512, 64]   \n",
      "130_block_list.3.sa.head_list.1.Dropout_dropout             -   \n",
      "131_block_list.3.sa.head_list.2.Linear_key          [512, 64]   \n",
      "132_block_list.3.sa.head_list.2.Linear_query        [512, 64]   \n",
      "133_block_list.3.sa.head_list.2.Linear_value        [512, 64]   \n",
      "134_block_list.3.sa.head_list.2.Dropout_dropout             -   \n",
      "135_block_list.3.sa.head_list.3.Linear_key          [512, 64]   \n",
      "136_block_list.3.sa.head_list.3.Linear_query        [512, 64]   \n",
      "137_block_list.3.sa.head_list.3.Linear_value        [512, 64]   \n",
      "138_block_list.3.sa.head_list.3.Dropout_dropout             -   \n",
      "139_block_list.3.sa.head_list.4.Linear_key          [512, 64]   \n",
      "140_block_list.3.sa.head_list.4.Linear_query        [512, 64]   \n",
      "141_block_list.3.sa.head_list.4.Linear_value        [512, 64]   \n",
      "142_block_list.3.sa.head_list.4.Dropout_dropout             -   \n",
      "143_block_list.3.sa.head_list.5.Linear_key          [512, 64]   \n",
      "144_block_list.3.sa.head_list.5.Linear_query        [512, 64]   \n",
      "145_block_list.3.sa.head_list.5.Linear_value        [512, 64]   \n",
      "146_block_list.3.sa.head_list.5.Dropout_dropout             -   \n",
      "147_block_list.3.sa.head_list.6.Linear_key          [512, 64]   \n",
      "148_block_list.3.sa.head_list.6.Linear_query        [512, 64]   \n",
      "149_block_list.3.sa.head_list.6.Linear_value        [512, 64]   \n",
      "150_block_list.3.sa.head_list.6.Dropout_dropout             -   \n",
      "151_block_list.3.sa.head_list.7.Linear_key          [512, 64]   \n",
      "152_block_list.3.sa.head_list.7.Linear_query        [512, 64]   \n",
      "153_block_list.3.sa.head_list.7.Linear_value        [512, 64]   \n",
      "154_block_list.3.sa.head_list.7.Dropout_dropout             -   \n",
      "155_block_list.3.sa.Linear_proj                    [512, 512]   \n",
      "156_block_list.3.sa.Dropout_dropout                         -   \n",
      "157_block_list.3.LayerNorm_ln2                          [512]   \n",
      "158_block_list.3.ff.layers.Linear_0               [512, 2048]   \n",
      "159_block_list.3.ff.layers.GELU_1                           -   \n",
      "160_block_list.3.ff.layers.Linear_2               [2048, 512]   \n",
      "161_block_list.3.ff.layers.Dropout_3                        -   \n",
      "162_block_list.4.LayerNorm_ln1                          [512]   \n",
      "163_block_list.4.sa.head_list.0.Linear_key          [512, 64]   \n",
      "164_block_list.4.sa.head_list.0.Linear_query        [512, 64]   \n",
      "165_block_list.4.sa.head_list.0.Linear_value        [512, 64]   \n",
      "166_block_list.4.sa.head_list.0.Dropout_dropout             -   \n",
      "167_block_list.4.sa.head_list.1.Linear_key          [512, 64]   \n",
      "168_block_list.4.sa.head_list.1.Linear_query        [512, 64]   \n",
      "169_block_list.4.sa.head_list.1.Linear_value        [512, 64]   \n",
      "170_block_list.4.sa.head_list.1.Dropout_dropout             -   \n",
      "171_block_list.4.sa.head_list.2.Linear_key          [512, 64]   \n",
      "172_block_list.4.sa.head_list.2.Linear_query        [512, 64]   \n",
      "173_block_list.4.sa.head_list.2.Linear_value        [512, 64]   \n",
      "174_block_list.4.sa.head_list.2.Dropout_dropout             -   \n",
      "175_block_list.4.sa.head_list.3.Linear_key          [512, 64]   \n",
      "176_block_list.4.sa.head_list.3.Linear_query        [512, 64]   \n",
      "177_block_list.4.sa.head_list.3.Linear_value        [512, 64]   \n",
      "178_block_list.4.sa.head_list.3.Dropout_dropout             -   \n",
      "179_block_list.4.sa.head_list.4.Linear_key          [512, 64]   \n",
      "180_block_list.4.sa.head_list.4.Linear_query        [512, 64]   \n",
      "181_block_list.4.sa.head_list.4.Linear_value        [512, 64]   \n",
      "182_block_list.4.sa.head_list.4.Dropout_dropout             -   \n",
      "183_block_list.4.sa.head_list.5.Linear_key          [512, 64]   \n",
      "184_block_list.4.sa.head_list.5.Linear_query        [512, 64]   \n",
      "185_block_list.4.sa.head_list.5.Linear_value        [512, 64]   \n",
      "186_block_list.4.sa.head_list.5.Dropout_dropout             -   \n",
      "187_block_list.4.sa.head_list.6.Linear_key          [512, 64]   \n",
      "188_block_list.4.sa.head_list.6.Linear_query        [512, 64]   \n",
      "189_block_list.4.sa.head_list.6.Linear_value        [512, 64]   \n",
      "190_block_list.4.sa.head_list.6.Dropout_dropout             -   \n",
      "191_block_list.4.sa.head_list.7.Linear_key          [512, 64]   \n",
      "192_block_list.4.sa.head_list.7.Linear_query        [512, 64]   \n",
      "193_block_list.4.sa.head_list.7.Linear_value        [512, 64]   \n",
      "194_block_list.4.sa.head_list.7.Dropout_dropout             -   \n",
      "195_block_list.4.sa.Linear_proj                    [512, 512]   \n",
      "196_block_list.4.sa.Dropout_dropout                         -   \n",
      "197_block_list.4.LayerNorm_ln2                          [512]   \n",
      "198_block_list.4.ff.layers.Linear_0               [512, 2048]   \n",
      "199_block_list.4.ff.layers.GELU_1                           -   \n",
      "200_block_list.4.ff.layers.Linear_2               [2048, 512]   \n",
      "201_block_list.4.ff.layers.Dropout_3                        -   \n",
      "202_block_list.5.LayerNorm_ln1                          [512]   \n",
      "203_block_list.5.sa.head_list.0.Linear_key          [512, 64]   \n",
      "204_block_list.5.sa.head_list.0.Linear_query        [512, 64]   \n",
      "205_block_list.5.sa.head_list.0.Linear_value        [512, 64]   \n",
      "206_block_list.5.sa.head_list.0.Dropout_dropout             -   \n",
      "207_block_list.5.sa.head_list.1.Linear_key          [512, 64]   \n",
      "208_block_list.5.sa.head_list.1.Linear_query        [512, 64]   \n",
      "209_block_list.5.sa.head_list.1.Linear_value        [512, 64]   \n",
      "210_block_list.5.sa.head_list.1.Dropout_dropout             -   \n",
      "211_block_list.5.sa.head_list.2.Linear_key          [512, 64]   \n",
      "212_block_list.5.sa.head_list.2.Linear_query        [512, 64]   \n",
      "213_block_list.5.sa.head_list.2.Linear_value        [512, 64]   \n",
      "214_block_list.5.sa.head_list.2.Dropout_dropout             -   \n",
      "215_block_list.5.sa.head_list.3.Linear_key          [512, 64]   \n",
      "216_block_list.5.sa.head_list.3.Linear_query        [512, 64]   \n",
      "217_block_list.5.sa.head_list.3.Linear_value        [512, 64]   \n",
      "218_block_list.5.sa.head_list.3.Dropout_dropout             -   \n",
      "219_block_list.5.sa.head_list.4.Linear_key          [512, 64]   \n",
      "220_block_list.5.sa.head_list.4.Linear_query        [512, 64]   \n",
      "221_block_list.5.sa.head_list.4.Linear_value        [512, 64]   \n",
      "222_block_list.5.sa.head_list.4.Dropout_dropout             -   \n",
      "223_block_list.5.sa.head_list.5.Linear_key          [512, 64]   \n",
      "224_block_list.5.sa.head_list.5.Linear_query        [512, 64]   \n",
      "225_block_list.5.sa.head_list.5.Linear_value        [512, 64]   \n",
      "226_block_list.5.sa.head_list.5.Dropout_dropout             -   \n",
      "227_block_list.5.sa.head_list.6.Linear_key          [512, 64]   \n",
      "228_block_list.5.sa.head_list.6.Linear_query        [512, 64]   \n",
      "229_block_list.5.sa.head_list.6.Linear_value        [512, 64]   \n",
      "230_block_list.5.sa.head_list.6.Dropout_dropout             -   \n",
      "231_block_list.5.sa.head_list.7.Linear_key          [512, 64]   \n",
      "232_block_list.5.sa.head_list.7.Linear_query        [512, 64]   \n",
      "233_block_list.5.sa.head_list.7.Linear_value        [512, 64]   \n",
      "234_block_list.5.sa.head_list.7.Dropout_dropout             -   \n",
      "235_block_list.5.sa.Linear_proj                    [512, 512]   \n",
      "236_block_list.5.sa.Dropout_dropout                         -   \n",
      "237_block_list.5.LayerNorm_ln2                          [512]   \n",
      "238_block_list.5.ff.layers.Linear_0               [512, 2048]   \n",
      "239_block_list.5.ff.layers.GELU_1                           -   \n",
      "240_block_list.5.ff.layers.Linear_2               [2048, 512]   \n",
      "241_block_list.5.ff.layers.Dropout_3                        -   \n",
      "242_block_list.6.LayerNorm_ln1                          [512]   \n",
      "243_block_list.6.sa.head_list.0.Linear_key          [512, 64]   \n",
      "244_block_list.6.sa.head_list.0.Linear_query        [512, 64]   \n",
      "245_block_list.6.sa.head_list.0.Linear_value        [512, 64]   \n",
      "246_block_list.6.sa.head_list.0.Dropout_dropout             -   \n",
      "247_block_list.6.sa.head_list.1.Linear_key          [512, 64]   \n",
      "248_block_list.6.sa.head_list.1.Linear_query        [512, 64]   \n",
      "249_block_list.6.sa.head_list.1.Linear_value        [512, 64]   \n",
      "250_block_list.6.sa.head_list.1.Dropout_dropout             -   \n",
      "251_block_list.6.sa.head_list.2.Linear_key          [512, 64]   \n",
      "252_block_list.6.sa.head_list.2.Linear_query        [512, 64]   \n",
      "253_block_list.6.sa.head_list.2.Linear_value        [512, 64]   \n",
      "254_block_list.6.sa.head_list.2.Dropout_dropout             -   \n",
      "255_block_list.6.sa.head_list.3.Linear_key          [512, 64]   \n",
      "256_block_list.6.sa.head_list.3.Linear_query        [512, 64]   \n",
      "257_block_list.6.sa.head_list.3.Linear_value        [512, 64]   \n",
      "258_block_list.6.sa.head_list.3.Dropout_dropout             -   \n",
      "259_block_list.6.sa.head_list.4.Linear_key          [512, 64]   \n",
      "260_block_list.6.sa.head_list.4.Linear_query        [512, 64]   \n",
      "261_block_list.6.sa.head_list.4.Linear_value        [512, 64]   \n",
      "262_block_list.6.sa.head_list.4.Dropout_dropout             -   \n",
      "263_block_list.6.sa.head_list.5.Linear_key          [512, 64]   \n",
      "264_block_list.6.sa.head_list.5.Linear_query        [512, 64]   \n",
      "265_block_list.6.sa.head_list.5.Linear_value        [512, 64]   \n",
      "266_block_list.6.sa.head_list.5.Dropout_dropout             -   \n",
      "267_block_list.6.sa.head_list.6.Linear_key          [512, 64]   \n",
      "268_block_list.6.sa.head_list.6.Linear_query        [512, 64]   \n",
      "269_block_list.6.sa.head_list.6.Linear_value        [512, 64]   \n",
      "270_block_list.6.sa.head_list.6.Dropout_dropout             -   \n",
      "271_block_list.6.sa.head_list.7.Linear_key          [512, 64]   \n",
      "272_block_list.6.sa.head_list.7.Linear_query        [512, 64]   \n",
      "273_block_list.6.sa.head_list.7.Linear_value        [512, 64]   \n",
      "274_block_list.6.sa.head_list.7.Dropout_dropout             -   \n",
      "275_block_list.6.sa.Linear_proj                    [512, 512]   \n",
      "276_block_list.6.sa.Dropout_dropout                         -   \n",
      "277_block_list.6.LayerNorm_ln2                          [512]   \n",
      "278_block_list.6.ff.layers.Linear_0               [512, 2048]   \n",
      "279_block_list.6.ff.layers.GELU_1                           -   \n",
      "280_block_list.6.ff.layers.Linear_2               [2048, 512]   \n",
      "281_block_list.6.ff.layers.Dropout_3                        -   \n",
      "282_block_list.7.LayerNorm_ln1                          [512]   \n",
      "283_block_list.7.sa.head_list.0.Linear_key          [512, 64]   \n",
      "284_block_list.7.sa.head_list.0.Linear_query        [512, 64]   \n",
      "285_block_list.7.sa.head_list.0.Linear_value        [512, 64]   \n",
      "286_block_list.7.sa.head_list.0.Dropout_dropout             -   \n",
      "287_block_list.7.sa.head_list.1.Linear_key          [512, 64]   \n",
      "288_block_list.7.sa.head_list.1.Linear_query        [512, 64]   \n",
      "289_block_list.7.sa.head_list.1.Linear_value        [512, 64]   \n",
      "290_block_list.7.sa.head_list.1.Dropout_dropout             -   \n",
      "291_block_list.7.sa.head_list.2.Linear_key          [512, 64]   \n",
      "292_block_list.7.sa.head_list.2.Linear_query        [512, 64]   \n",
      "293_block_list.7.sa.head_list.2.Linear_value        [512, 64]   \n",
      "294_block_list.7.sa.head_list.2.Dropout_dropout             -   \n",
      "295_block_list.7.sa.head_list.3.Linear_key          [512, 64]   \n",
      "296_block_list.7.sa.head_list.3.Linear_query        [512, 64]   \n",
      "297_block_list.7.sa.head_list.3.Linear_value        [512, 64]   \n",
      "298_block_list.7.sa.head_list.3.Dropout_dropout             -   \n",
      "299_block_list.7.sa.head_list.4.Linear_key          [512, 64]   \n",
      "300_block_list.7.sa.head_list.4.Linear_query        [512, 64]   \n",
      "301_block_list.7.sa.head_list.4.Linear_value        [512, 64]   \n",
      "302_block_list.7.sa.head_list.4.Dropout_dropout             -   \n",
      "303_block_list.7.sa.head_list.5.Linear_key          [512, 64]   \n",
      "304_block_list.7.sa.head_list.5.Linear_query        [512, 64]   \n",
      "305_block_list.7.sa.head_list.5.Linear_value        [512, 64]   \n",
      "306_block_list.7.sa.head_list.5.Dropout_dropout             -   \n",
      "307_block_list.7.sa.head_list.6.Linear_key          [512, 64]   \n",
      "308_block_list.7.sa.head_list.6.Linear_query        [512, 64]   \n",
      "309_block_list.7.sa.head_list.6.Linear_value        [512, 64]   \n",
      "310_block_list.7.sa.head_list.6.Dropout_dropout             -   \n",
      "311_block_list.7.sa.head_list.7.Linear_key          [512, 64]   \n",
      "312_block_list.7.sa.head_list.7.Linear_query        [512, 64]   \n",
      "313_block_list.7.sa.head_list.7.Linear_value        [512, 64]   \n",
      "314_block_list.7.sa.head_list.7.Dropout_dropout             -   \n",
      "315_block_list.7.sa.Linear_proj                    [512, 512]   \n",
      "316_block_list.7.sa.Dropout_dropout                         -   \n",
      "317_block_list.7.LayerNorm_ln2                          [512]   \n",
      "318_block_list.7.ff.layers.Linear_0               [512, 2048]   \n",
      "319_block_list.7.ff.layers.GELU_1                           -   \n",
      "320_block_list.7.ff.layers.Linear_2               [2048, 512]   \n",
      "321_block_list.7.ff.layers.Dropout_3                        -   \n",
      "322_final_ln                                            [512]   \n",
      "323_lm_head                                      [512, 50257]   \n",
      "\n",
      "                                                    Output Shape      Params  \\\n",
      "Layer                                                                          \n",
      "0_token_embeddings                                 [8, 256, 512]  25.731584M   \n",
      "1_position_embeddings                                 [256, 512]    131.072k   \n",
      "2_block_list.0.LayerNorm_ln1                       [8, 256, 512]      1.024k   \n",
      "3_block_list.0.sa.head_list.0.Linear_key            [8, 256, 64]     32.768k   \n",
      "4_block_list.0.sa.head_list.0.Linear_query          [8, 256, 64]     32.768k   \n",
      "5_block_list.0.sa.head_list.0.Linear_value          [8, 256, 64]     32.768k   \n",
      "6_block_list.0.sa.head_list.0.Dropout_dropout      [8, 256, 256]           -   \n",
      "7_block_list.0.sa.head_list.1.Linear_key            [8, 256, 64]     32.768k   \n",
      "8_block_list.0.sa.head_list.1.Linear_query          [8, 256, 64]     32.768k   \n",
      "9_block_list.0.sa.head_list.1.Linear_value          [8, 256, 64]     32.768k   \n",
      "10_block_list.0.sa.head_list.1.Dropout_dropout     [8, 256, 256]           -   \n",
      "11_block_list.0.sa.head_list.2.Linear_key           [8, 256, 64]     32.768k   \n",
      "12_block_list.0.sa.head_list.2.Linear_query         [8, 256, 64]     32.768k   \n",
      "13_block_list.0.sa.head_list.2.Linear_value         [8, 256, 64]     32.768k   \n",
      "14_block_list.0.sa.head_list.2.Dropout_dropout     [8, 256, 256]           -   \n",
      "15_block_list.0.sa.head_list.3.Linear_key           [8, 256, 64]     32.768k   \n",
      "16_block_list.0.sa.head_list.3.Linear_query         [8, 256, 64]     32.768k   \n",
      "17_block_list.0.sa.head_list.3.Linear_value         [8, 256, 64]     32.768k   \n",
      "18_block_list.0.sa.head_list.3.Dropout_dropout     [8, 256, 256]           -   \n",
      "19_block_list.0.sa.head_list.4.Linear_key           [8, 256, 64]     32.768k   \n",
      "20_block_list.0.sa.head_list.4.Linear_query         [8, 256, 64]     32.768k   \n",
      "21_block_list.0.sa.head_list.4.Linear_value         [8, 256, 64]     32.768k   \n",
      "22_block_list.0.sa.head_list.4.Dropout_dropout     [8, 256, 256]           -   \n",
      "23_block_list.0.sa.head_list.5.Linear_key           [8, 256, 64]     32.768k   \n",
      "24_block_list.0.sa.head_list.5.Linear_query         [8, 256, 64]     32.768k   \n",
      "25_block_list.0.sa.head_list.5.Linear_value         [8, 256, 64]     32.768k   \n",
      "26_block_list.0.sa.head_list.5.Dropout_dropout     [8, 256, 256]           -   \n",
      "27_block_list.0.sa.head_list.6.Linear_key           [8, 256, 64]     32.768k   \n",
      "28_block_list.0.sa.head_list.6.Linear_query         [8, 256, 64]     32.768k   \n",
      "29_block_list.0.sa.head_list.6.Linear_value         [8, 256, 64]     32.768k   \n",
      "30_block_list.0.sa.head_list.6.Dropout_dropout     [8, 256, 256]           -   \n",
      "31_block_list.0.sa.head_list.7.Linear_key           [8, 256, 64]     32.768k   \n",
      "32_block_list.0.sa.head_list.7.Linear_query         [8, 256, 64]     32.768k   \n",
      "33_block_list.0.sa.head_list.7.Linear_value         [8, 256, 64]     32.768k   \n",
      "34_block_list.0.sa.head_list.7.Dropout_dropout     [8, 256, 256]           -   \n",
      "35_block_list.0.sa.Linear_proj                     [8, 256, 512]    262.656k   \n",
      "36_block_list.0.sa.Dropout_dropout                 [8, 256, 512]           -   \n",
      "37_block_list.0.LayerNorm_ln2                      [8, 256, 512]      1.024k   \n",
      "38_block_list.0.ff.layers.Linear_0                [8, 256, 2048]   1.050624M   \n",
      "39_block_list.0.ff.layers.GELU_1                  [8, 256, 2048]           -   \n",
      "40_block_list.0.ff.layers.Linear_2                 [8, 256, 512]   1.049088M   \n",
      "41_block_list.0.ff.layers.Dropout_3                [8, 256, 512]           -   \n",
      "42_block_list.1.LayerNorm_ln1                      [8, 256, 512]      1.024k   \n",
      "43_block_list.1.sa.head_list.0.Linear_key           [8, 256, 64]     32.768k   \n",
      "44_block_list.1.sa.head_list.0.Linear_query         [8, 256, 64]     32.768k   \n",
      "45_block_list.1.sa.head_list.0.Linear_value         [8, 256, 64]     32.768k   \n",
      "46_block_list.1.sa.head_list.0.Dropout_dropout     [8, 256, 256]           -   \n",
      "47_block_list.1.sa.head_list.1.Linear_key           [8, 256, 64]     32.768k   \n",
      "48_block_list.1.sa.head_list.1.Linear_query         [8, 256, 64]     32.768k   \n",
      "49_block_list.1.sa.head_list.1.Linear_value         [8, 256, 64]     32.768k   \n",
      "50_block_list.1.sa.head_list.1.Dropout_dropout     [8, 256, 256]           -   \n",
      "51_block_list.1.sa.head_list.2.Linear_key           [8, 256, 64]     32.768k   \n",
      "52_block_list.1.sa.head_list.2.Linear_query         [8, 256, 64]     32.768k   \n",
      "53_block_list.1.sa.head_list.2.Linear_value         [8, 256, 64]     32.768k   \n",
      "54_block_list.1.sa.head_list.2.Dropout_dropout     [8, 256, 256]           -   \n",
      "55_block_list.1.sa.head_list.3.Linear_key           [8, 256, 64]     32.768k   \n",
      "56_block_list.1.sa.head_list.3.Linear_query         [8, 256, 64]     32.768k   \n",
      "57_block_list.1.sa.head_list.3.Linear_value         [8, 256, 64]     32.768k   \n",
      "58_block_list.1.sa.head_list.3.Dropout_dropout     [8, 256, 256]           -   \n",
      "59_block_list.1.sa.head_list.4.Linear_key           [8, 256, 64]     32.768k   \n",
      "60_block_list.1.sa.head_list.4.Linear_query         [8, 256, 64]     32.768k   \n",
      "61_block_list.1.sa.head_list.4.Linear_value         [8, 256, 64]     32.768k   \n",
      "62_block_list.1.sa.head_list.4.Dropout_dropout     [8, 256, 256]           -   \n",
      "63_block_list.1.sa.head_list.5.Linear_key           [8, 256, 64]     32.768k   \n",
      "64_block_list.1.sa.head_list.5.Linear_query         [8, 256, 64]     32.768k   \n",
      "65_block_list.1.sa.head_list.5.Linear_value         [8, 256, 64]     32.768k   \n",
      "66_block_list.1.sa.head_list.5.Dropout_dropout     [8, 256, 256]           -   \n",
      "67_block_list.1.sa.head_list.6.Linear_key           [8, 256, 64]     32.768k   \n",
      "68_block_list.1.sa.head_list.6.Linear_query         [8, 256, 64]     32.768k   \n",
      "69_block_list.1.sa.head_list.6.Linear_value         [8, 256, 64]     32.768k   \n",
      "70_block_list.1.sa.head_list.6.Dropout_dropout     [8, 256, 256]           -   \n",
      "71_block_list.1.sa.head_list.7.Linear_key           [8, 256, 64]     32.768k   \n",
      "72_block_list.1.sa.head_list.7.Linear_query         [8, 256, 64]     32.768k   \n",
      "73_block_list.1.sa.head_list.7.Linear_value         [8, 256, 64]     32.768k   \n",
      "74_block_list.1.sa.head_list.7.Dropout_dropout     [8, 256, 256]           -   \n",
      "75_block_list.1.sa.Linear_proj                     [8, 256, 512]    262.656k   \n",
      "76_block_list.1.sa.Dropout_dropout                 [8, 256, 512]           -   \n",
      "77_block_list.1.LayerNorm_ln2                      [8, 256, 512]      1.024k   \n",
      "78_block_list.1.ff.layers.Linear_0                [8, 256, 2048]   1.050624M   \n",
      "79_block_list.1.ff.layers.GELU_1                  [8, 256, 2048]           -   \n",
      "80_block_list.1.ff.layers.Linear_2                 [8, 256, 512]   1.049088M   \n",
      "81_block_list.1.ff.layers.Dropout_3                [8, 256, 512]           -   \n",
      "82_block_list.2.LayerNorm_ln1                      [8, 256, 512]      1.024k   \n",
      "83_block_list.2.sa.head_list.0.Linear_key           [8, 256, 64]     32.768k   \n",
      "84_block_list.2.sa.head_list.0.Linear_query         [8, 256, 64]     32.768k   \n",
      "85_block_list.2.sa.head_list.0.Linear_value         [8, 256, 64]     32.768k   \n",
      "86_block_list.2.sa.head_list.0.Dropout_dropout     [8, 256, 256]           -   \n",
      "87_block_list.2.sa.head_list.1.Linear_key           [8, 256, 64]     32.768k   \n",
      "88_block_list.2.sa.head_list.1.Linear_query         [8, 256, 64]     32.768k   \n",
      "89_block_list.2.sa.head_list.1.Linear_value         [8, 256, 64]     32.768k   \n",
      "90_block_list.2.sa.head_list.1.Dropout_dropout     [8, 256, 256]           -   \n",
      "91_block_list.2.sa.head_list.2.Linear_key           [8, 256, 64]     32.768k   \n",
      "92_block_list.2.sa.head_list.2.Linear_query         [8, 256, 64]     32.768k   \n",
      "93_block_list.2.sa.head_list.2.Linear_value         [8, 256, 64]     32.768k   \n",
      "94_block_list.2.sa.head_list.2.Dropout_dropout     [8, 256, 256]           -   \n",
      "95_block_list.2.sa.head_list.3.Linear_key           [8, 256, 64]     32.768k   \n",
      "96_block_list.2.sa.head_list.3.Linear_query         [8, 256, 64]     32.768k   \n",
      "97_block_list.2.sa.head_list.3.Linear_value         [8, 256, 64]     32.768k   \n",
      "98_block_list.2.sa.head_list.3.Dropout_dropout     [8, 256, 256]           -   \n",
      "99_block_list.2.sa.head_list.4.Linear_key           [8, 256, 64]     32.768k   \n",
      "100_block_list.2.sa.head_list.4.Linear_query        [8, 256, 64]     32.768k   \n",
      "101_block_list.2.sa.head_list.4.Linear_value        [8, 256, 64]     32.768k   \n",
      "102_block_list.2.sa.head_list.4.Dropout_dropout    [8, 256, 256]           -   \n",
      "103_block_list.2.sa.head_list.5.Linear_key          [8, 256, 64]     32.768k   \n",
      "104_block_list.2.sa.head_list.5.Linear_query        [8, 256, 64]     32.768k   \n",
      "105_block_list.2.sa.head_list.5.Linear_value        [8, 256, 64]     32.768k   \n",
      "106_block_list.2.sa.head_list.5.Dropout_dropout    [8, 256, 256]           -   \n",
      "107_block_list.2.sa.head_list.6.Linear_key          [8, 256, 64]     32.768k   \n",
      "108_block_list.2.sa.head_list.6.Linear_query        [8, 256, 64]     32.768k   \n",
      "109_block_list.2.sa.head_list.6.Linear_value        [8, 256, 64]     32.768k   \n",
      "110_block_list.2.sa.head_list.6.Dropout_dropout    [8, 256, 256]           -   \n",
      "111_block_list.2.sa.head_list.7.Linear_key          [8, 256, 64]     32.768k   \n",
      "112_block_list.2.sa.head_list.7.Linear_query        [8, 256, 64]     32.768k   \n",
      "113_block_list.2.sa.head_list.7.Linear_value        [8, 256, 64]     32.768k   \n",
      "114_block_list.2.sa.head_list.7.Dropout_dropout    [8, 256, 256]           -   \n",
      "115_block_list.2.sa.Linear_proj                    [8, 256, 512]    262.656k   \n",
      "116_block_list.2.sa.Dropout_dropout                [8, 256, 512]           -   \n",
      "117_block_list.2.LayerNorm_ln2                     [8, 256, 512]      1.024k   \n",
      "118_block_list.2.ff.layers.Linear_0               [8, 256, 2048]   1.050624M   \n",
      "119_block_list.2.ff.layers.GELU_1                 [8, 256, 2048]           -   \n",
      "120_block_list.2.ff.layers.Linear_2                [8, 256, 512]   1.049088M   \n",
      "121_block_list.2.ff.layers.Dropout_3               [8, 256, 512]           -   \n",
      "122_block_list.3.LayerNorm_ln1                     [8, 256, 512]      1.024k   \n",
      "123_block_list.3.sa.head_list.0.Linear_key          [8, 256, 64]     32.768k   \n",
      "124_block_list.3.sa.head_list.0.Linear_query        [8, 256, 64]     32.768k   \n",
      "125_block_list.3.sa.head_list.0.Linear_value        [8, 256, 64]     32.768k   \n",
      "126_block_list.3.sa.head_list.0.Dropout_dropout    [8, 256, 256]           -   \n",
      "127_block_list.3.sa.head_list.1.Linear_key          [8, 256, 64]     32.768k   \n",
      "128_block_list.3.sa.head_list.1.Linear_query        [8, 256, 64]     32.768k   \n",
      "129_block_list.3.sa.head_list.1.Linear_value        [8, 256, 64]     32.768k   \n",
      "130_block_list.3.sa.head_list.1.Dropout_dropout    [8, 256, 256]           -   \n",
      "131_block_list.3.sa.head_list.2.Linear_key          [8, 256, 64]     32.768k   \n",
      "132_block_list.3.sa.head_list.2.Linear_query        [8, 256, 64]     32.768k   \n",
      "133_block_list.3.sa.head_list.2.Linear_value        [8, 256, 64]     32.768k   \n",
      "134_block_list.3.sa.head_list.2.Dropout_dropout    [8, 256, 256]           -   \n",
      "135_block_list.3.sa.head_list.3.Linear_key          [8, 256, 64]     32.768k   \n",
      "136_block_list.3.sa.head_list.3.Linear_query        [8, 256, 64]     32.768k   \n",
      "137_block_list.3.sa.head_list.3.Linear_value        [8, 256, 64]     32.768k   \n",
      "138_block_list.3.sa.head_list.3.Dropout_dropout    [8, 256, 256]           -   \n",
      "139_block_list.3.sa.head_list.4.Linear_key          [8, 256, 64]     32.768k   \n",
      "140_block_list.3.sa.head_list.4.Linear_query        [8, 256, 64]     32.768k   \n",
      "141_block_list.3.sa.head_list.4.Linear_value        [8, 256, 64]     32.768k   \n",
      "142_block_list.3.sa.head_list.4.Dropout_dropout    [8, 256, 256]           -   \n",
      "143_block_list.3.sa.head_list.5.Linear_key          [8, 256, 64]     32.768k   \n",
      "144_block_list.3.sa.head_list.5.Linear_query        [8, 256, 64]     32.768k   \n",
      "145_block_list.3.sa.head_list.5.Linear_value        [8, 256, 64]     32.768k   \n",
      "146_block_list.3.sa.head_list.5.Dropout_dropout    [8, 256, 256]           -   \n",
      "147_block_list.3.sa.head_list.6.Linear_key          [8, 256, 64]     32.768k   \n",
      "148_block_list.3.sa.head_list.6.Linear_query        [8, 256, 64]     32.768k   \n",
      "149_block_list.3.sa.head_list.6.Linear_value        [8, 256, 64]     32.768k   \n",
      "150_block_list.3.sa.head_list.6.Dropout_dropout    [8, 256, 256]           -   \n",
      "151_block_list.3.sa.head_list.7.Linear_key          [8, 256, 64]     32.768k   \n",
      "152_block_list.3.sa.head_list.7.Linear_query        [8, 256, 64]     32.768k   \n",
      "153_block_list.3.sa.head_list.7.Linear_value        [8, 256, 64]     32.768k   \n",
      "154_block_list.3.sa.head_list.7.Dropout_dropout    [8, 256, 256]           -   \n",
      "155_block_list.3.sa.Linear_proj                    [8, 256, 512]    262.656k   \n",
      "156_block_list.3.sa.Dropout_dropout                [8, 256, 512]           -   \n",
      "157_block_list.3.LayerNorm_ln2                     [8, 256, 512]      1.024k   \n",
      "158_block_list.3.ff.layers.Linear_0               [8, 256, 2048]   1.050624M   \n",
      "159_block_list.3.ff.layers.GELU_1                 [8, 256, 2048]           -   \n",
      "160_block_list.3.ff.layers.Linear_2                [8, 256, 512]   1.049088M   \n",
      "161_block_list.3.ff.layers.Dropout_3               [8, 256, 512]           -   \n",
      "162_block_list.4.LayerNorm_ln1                     [8, 256, 512]      1.024k   \n",
      "163_block_list.4.sa.head_list.0.Linear_key          [8, 256, 64]     32.768k   \n",
      "164_block_list.4.sa.head_list.0.Linear_query        [8, 256, 64]     32.768k   \n",
      "165_block_list.4.sa.head_list.0.Linear_value        [8, 256, 64]     32.768k   \n",
      "166_block_list.4.sa.head_list.0.Dropout_dropout    [8, 256, 256]           -   \n",
      "167_block_list.4.sa.head_list.1.Linear_key          [8, 256, 64]     32.768k   \n",
      "168_block_list.4.sa.head_list.1.Linear_query        [8, 256, 64]     32.768k   \n",
      "169_block_list.4.sa.head_list.1.Linear_value        [8, 256, 64]     32.768k   \n",
      "170_block_list.4.sa.head_list.1.Dropout_dropout    [8, 256, 256]           -   \n",
      "171_block_list.4.sa.head_list.2.Linear_key          [8, 256, 64]     32.768k   \n",
      "172_block_list.4.sa.head_list.2.Linear_query        [8, 256, 64]     32.768k   \n",
      "173_block_list.4.sa.head_list.2.Linear_value        [8, 256, 64]     32.768k   \n",
      "174_block_list.4.sa.head_list.2.Dropout_dropout    [8, 256, 256]           -   \n",
      "175_block_list.4.sa.head_list.3.Linear_key          [8, 256, 64]     32.768k   \n",
      "176_block_list.4.sa.head_list.3.Linear_query        [8, 256, 64]     32.768k   \n",
      "177_block_list.4.sa.head_list.3.Linear_value        [8, 256, 64]     32.768k   \n",
      "178_block_list.4.sa.head_list.3.Dropout_dropout    [8, 256, 256]           -   \n",
      "179_block_list.4.sa.head_list.4.Linear_key          [8, 256, 64]     32.768k   \n",
      "180_block_list.4.sa.head_list.4.Linear_query        [8, 256, 64]     32.768k   \n",
      "181_block_list.4.sa.head_list.4.Linear_value        [8, 256, 64]     32.768k   \n",
      "182_block_list.4.sa.head_list.4.Dropout_dropout    [8, 256, 256]           -   \n",
      "183_block_list.4.sa.head_list.5.Linear_key          [8, 256, 64]     32.768k   \n",
      "184_block_list.4.sa.head_list.5.Linear_query        [8, 256, 64]     32.768k   \n",
      "185_block_list.4.sa.head_list.5.Linear_value        [8, 256, 64]     32.768k   \n",
      "186_block_list.4.sa.head_list.5.Dropout_dropout    [8, 256, 256]           -   \n",
      "187_block_list.4.sa.head_list.6.Linear_key          [8, 256, 64]     32.768k   \n",
      "188_block_list.4.sa.head_list.6.Linear_query        [8, 256, 64]     32.768k   \n",
      "189_block_list.4.sa.head_list.6.Linear_value        [8, 256, 64]     32.768k   \n",
      "190_block_list.4.sa.head_list.6.Dropout_dropout    [8, 256, 256]           -   \n",
      "191_block_list.4.sa.head_list.7.Linear_key          [8, 256, 64]     32.768k   \n",
      "192_block_list.4.sa.head_list.7.Linear_query        [8, 256, 64]     32.768k   \n",
      "193_block_list.4.sa.head_list.7.Linear_value        [8, 256, 64]     32.768k   \n",
      "194_block_list.4.sa.head_list.7.Dropout_dropout    [8, 256, 256]           -   \n",
      "195_block_list.4.sa.Linear_proj                    [8, 256, 512]    262.656k   \n",
      "196_block_list.4.sa.Dropout_dropout                [8, 256, 512]           -   \n",
      "197_block_list.4.LayerNorm_ln2                     [8, 256, 512]      1.024k   \n",
      "198_block_list.4.ff.layers.Linear_0               [8, 256, 2048]   1.050624M   \n",
      "199_block_list.4.ff.layers.GELU_1                 [8, 256, 2048]           -   \n",
      "200_block_list.4.ff.layers.Linear_2                [8, 256, 512]   1.049088M   \n",
      "201_block_list.4.ff.layers.Dropout_3               [8, 256, 512]           -   \n",
      "202_block_list.5.LayerNorm_ln1                     [8, 256, 512]      1.024k   \n",
      "203_block_list.5.sa.head_list.0.Linear_key          [8, 256, 64]     32.768k   \n",
      "204_block_list.5.sa.head_list.0.Linear_query        [8, 256, 64]     32.768k   \n",
      "205_block_list.5.sa.head_list.0.Linear_value        [8, 256, 64]     32.768k   \n",
      "206_block_list.5.sa.head_list.0.Dropout_dropout    [8, 256, 256]           -   \n",
      "207_block_list.5.sa.head_list.1.Linear_key          [8, 256, 64]     32.768k   \n",
      "208_block_list.5.sa.head_list.1.Linear_query        [8, 256, 64]     32.768k   \n",
      "209_block_list.5.sa.head_list.1.Linear_value        [8, 256, 64]     32.768k   \n",
      "210_block_list.5.sa.head_list.1.Dropout_dropout    [8, 256, 256]           -   \n",
      "211_block_list.5.sa.head_list.2.Linear_key          [8, 256, 64]     32.768k   \n",
      "212_block_list.5.sa.head_list.2.Linear_query        [8, 256, 64]     32.768k   \n",
      "213_block_list.5.sa.head_list.2.Linear_value        [8, 256, 64]     32.768k   \n",
      "214_block_list.5.sa.head_list.2.Dropout_dropout    [8, 256, 256]           -   \n",
      "215_block_list.5.sa.head_list.3.Linear_key          [8, 256, 64]     32.768k   \n",
      "216_block_list.5.sa.head_list.3.Linear_query        [8, 256, 64]     32.768k   \n",
      "217_block_list.5.sa.head_list.3.Linear_value        [8, 256, 64]     32.768k   \n",
      "218_block_list.5.sa.head_list.3.Dropout_dropout    [8, 256, 256]           -   \n",
      "219_block_list.5.sa.head_list.4.Linear_key          [8, 256, 64]     32.768k   \n",
      "220_block_list.5.sa.head_list.4.Linear_query        [8, 256, 64]     32.768k   \n",
      "221_block_list.5.sa.head_list.4.Linear_value        [8, 256, 64]     32.768k   \n",
      "222_block_list.5.sa.head_list.4.Dropout_dropout    [8, 256, 256]           -   \n",
      "223_block_list.5.sa.head_list.5.Linear_key          [8, 256, 64]     32.768k   \n",
      "224_block_list.5.sa.head_list.5.Linear_query        [8, 256, 64]     32.768k   \n",
      "225_block_list.5.sa.head_list.5.Linear_value        [8, 256, 64]     32.768k   \n",
      "226_block_list.5.sa.head_list.5.Dropout_dropout    [8, 256, 256]           -   \n",
      "227_block_list.5.sa.head_list.6.Linear_key          [8, 256, 64]     32.768k   \n",
      "228_block_list.5.sa.head_list.6.Linear_query        [8, 256, 64]     32.768k   \n",
      "229_block_list.5.sa.head_list.6.Linear_value        [8, 256, 64]     32.768k   \n",
      "230_block_list.5.sa.head_list.6.Dropout_dropout    [8, 256, 256]           -   \n",
      "231_block_list.5.sa.head_list.7.Linear_key          [8, 256, 64]     32.768k   \n",
      "232_block_list.5.sa.head_list.7.Linear_query        [8, 256, 64]     32.768k   \n",
      "233_block_list.5.sa.head_list.7.Linear_value        [8, 256, 64]     32.768k   \n",
      "234_block_list.5.sa.head_list.7.Dropout_dropout    [8, 256, 256]           -   \n",
      "235_block_list.5.sa.Linear_proj                    [8, 256, 512]    262.656k   \n",
      "236_block_list.5.sa.Dropout_dropout                [8, 256, 512]           -   \n",
      "237_block_list.5.LayerNorm_ln2                     [8, 256, 512]      1.024k   \n",
      "238_block_list.5.ff.layers.Linear_0               [8, 256, 2048]   1.050624M   \n",
      "239_block_list.5.ff.layers.GELU_1                 [8, 256, 2048]           -   \n",
      "240_block_list.5.ff.layers.Linear_2                [8, 256, 512]   1.049088M   \n",
      "241_block_list.5.ff.layers.Dropout_3               [8, 256, 512]           -   \n",
      "242_block_list.6.LayerNorm_ln1                     [8, 256, 512]      1.024k   \n",
      "243_block_list.6.sa.head_list.0.Linear_key          [8, 256, 64]     32.768k   \n",
      "244_block_list.6.sa.head_list.0.Linear_query        [8, 256, 64]     32.768k   \n",
      "245_block_list.6.sa.head_list.0.Linear_value        [8, 256, 64]     32.768k   \n",
      "246_block_list.6.sa.head_list.0.Dropout_dropout    [8, 256, 256]           -   \n",
      "247_block_list.6.sa.head_list.1.Linear_key          [8, 256, 64]     32.768k   \n",
      "248_block_list.6.sa.head_list.1.Linear_query        [8, 256, 64]     32.768k   \n",
      "249_block_list.6.sa.head_list.1.Linear_value        [8, 256, 64]     32.768k   \n",
      "250_block_list.6.sa.head_list.1.Dropout_dropout    [8, 256, 256]           -   \n",
      "251_block_list.6.sa.head_list.2.Linear_key          [8, 256, 64]     32.768k   \n",
      "252_block_list.6.sa.head_list.2.Linear_query        [8, 256, 64]     32.768k   \n",
      "253_block_list.6.sa.head_list.2.Linear_value        [8, 256, 64]     32.768k   \n",
      "254_block_list.6.sa.head_list.2.Dropout_dropout    [8, 256, 256]           -   \n",
      "255_block_list.6.sa.head_list.3.Linear_key          [8, 256, 64]     32.768k   \n",
      "256_block_list.6.sa.head_list.3.Linear_query        [8, 256, 64]     32.768k   \n",
      "257_block_list.6.sa.head_list.3.Linear_value        [8, 256, 64]     32.768k   \n",
      "258_block_list.6.sa.head_list.3.Dropout_dropout    [8, 256, 256]           -   \n",
      "259_block_list.6.sa.head_list.4.Linear_key          [8, 256, 64]     32.768k   \n",
      "260_block_list.6.sa.head_list.4.Linear_query        [8, 256, 64]     32.768k   \n",
      "261_block_list.6.sa.head_list.4.Linear_value        [8, 256, 64]     32.768k   \n",
      "262_block_list.6.sa.head_list.4.Dropout_dropout    [8, 256, 256]           -   \n",
      "263_block_list.6.sa.head_list.5.Linear_key          [8, 256, 64]     32.768k   \n",
      "264_block_list.6.sa.head_list.5.Linear_query        [8, 256, 64]     32.768k   \n",
      "265_block_list.6.sa.head_list.5.Linear_value        [8, 256, 64]     32.768k   \n",
      "266_block_list.6.sa.head_list.5.Dropout_dropout    [8, 256, 256]           -   \n",
      "267_block_list.6.sa.head_list.6.Linear_key          [8, 256, 64]     32.768k   \n",
      "268_block_list.6.sa.head_list.6.Linear_query        [8, 256, 64]     32.768k   \n",
      "269_block_list.6.sa.head_list.6.Linear_value        [8, 256, 64]     32.768k   \n",
      "270_block_list.6.sa.head_list.6.Dropout_dropout    [8, 256, 256]           -   \n",
      "271_block_list.6.sa.head_list.7.Linear_key          [8, 256, 64]     32.768k   \n",
      "272_block_list.6.sa.head_list.7.Linear_query        [8, 256, 64]     32.768k   \n",
      "273_block_list.6.sa.head_list.7.Linear_value        [8, 256, 64]     32.768k   \n",
      "274_block_list.6.sa.head_list.7.Dropout_dropout    [8, 256, 256]           -   \n",
      "275_block_list.6.sa.Linear_proj                    [8, 256, 512]    262.656k   \n",
      "276_block_list.6.sa.Dropout_dropout                [8, 256, 512]           -   \n",
      "277_block_list.6.LayerNorm_ln2                     [8, 256, 512]      1.024k   \n",
      "278_block_list.6.ff.layers.Linear_0               [8, 256, 2048]   1.050624M   \n",
      "279_block_list.6.ff.layers.GELU_1                 [8, 256, 2048]           -   \n",
      "280_block_list.6.ff.layers.Linear_2                [8, 256, 512]   1.049088M   \n",
      "281_block_list.6.ff.layers.Dropout_3               [8, 256, 512]           -   \n",
      "282_block_list.7.LayerNorm_ln1                     [8, 256, 512]      1.024k   \n",
      "283_block_list.7.sa.head_list.0.Linear_key          [8, 256, 64]     32.768k   \n",
      "284_block_list.7.sa.head_list.0.Linear_query        [8, 256, 64]     32.768k   \n",
      "285_block_list.7.sa.head_list.0.Linear_value        [8, 256, 64]     32.768k   \n",
      "286_block_list.7.sa.head_list.0.Dropout_dropout    [8, 256, 256]           -   \n",
      "287_block_list.7.sa.head_list.1.Linear_key          [8, 256, 64]     32.768k   \n",
      "288_block_list.7.sa.head_list.1.Linear_query        [8, 256, 64]     32.768k   \n",
      "289_block_list.7.sa.head_list.1.Linear_value        [8, 256, 64]     32.768k   \n",
      "290_block_list.7.sa.head_list.1.Dropout_dropout    [8, 256, 256]           -   \n",
      "291_block_list.7.sa.head_list.2.Linear_key          [8, 256, 64]     32.768k   \n",
      "292_block_list.7.sa.head_list.2.Linear_query        [8, 256, 64]     32.768k   \n",
      "293_block_list.7.sa.head_list.2.Linear_value        [8, 256, 64]     32.768k   \n",
      "294_block_list.7.sa.head_list.2.Dropout_dropout    [8, 256, 256]           -   \n",
      "295_block_list.7.sa.head_list.3.Linear_key          [8, 256, 64]     32.768k   \n",
      "296_block_list.7.sa.head_list.3.Linear_query        [8, 256, 64]     32.768k   \n",
      "297_block_list.7.sa.head_list.3.Linear_value        [8, 256, 64]     32.768k   \n",
      "298_block_list.7.sa.head_list.3.Dropout_dropout    [8, 256, 256]           -   \n",
      "299_block_list.7.sa.head_list.4.Linear_key          [8, 256, 64]     32.768k   \n",
      "300_block_list.7.sa.head_list.4.Linear_query        [8, 256, 64]     32.768k   \n",
      "301_block_list.7.sa.head_list.4.Linear_value        [8, 256, 64]     32.768k   \n",
      "302_block_list.7.sa.head_list.4.Dropout_dropout    [8, 256, 256]           -   \n",
      "303_block_list.7.sa.head_list.5.Linear_key          [8, 256, 64]     32.768k   \n",
      "304_block_list.7.sa.head_list.5.Linear_query        [8, 256, 64]     32.768k   \n",
      "305_block_list.7.sa.head_list.5.Linear_value        [8, 256, 64]     32.768k   \n",
      "306_block_list.7.sa.head_list.5.Dropout_dropout    [8, 256, 256]           -   \n",
      "307_block_list.7.sa.head_list.6.Linear_key          [8, 256, 64]     32.768k   \n",
      "308_block_list.7.sa.head_list.6.Linear_query        [8, 256, 64]     32.768k   \n",
      "309_block_list.7.sa.head_list.6.Linear_value        [8, 256, 64]     32.768k   \n",
      "310_block_list.7.sa.head_list.6.Dropout_dropout    [8, 256, 256]           -   \n",
      "311_block_list.7.sa.head_list.7.Linear_key          [8, 256, 64]     32.768k   \n",
      "312_block_list.7.sa.head_list.7.Linear_query        [8, 256, 64]     32.768k   \n",
      "313_block_list.7.sa.head_list.7.Linear_value        [8, 256, 64]     32.768k   \n",
      "314_block_list.7.sa.head_list.7.Dropout_dropout    [8, 256, 256]           -   \n",
      "315_block_list.7.sa.Linear_proj                    [8, 256, 512]    262.656k   \n",
      "316_block_list.7.sa.Dropout_dropout                [8, 256, 512]           -   \n",
      "317_block_list.7.LayerNorm_ln2                     [8, 256, 512]      1.024k   \n",
      "318_block_list.7.ff.layers.Linear_0               [8, 256, 2048]   1.050624M   \n",
      "319_block_list.7.ff.layers.GELU_1                 [8, 256, 2048]           -   \n",
      "320_block_list.7.ff.layers.Linear_2                [8, 256, 512]   1.049088M   \n",
      "321_block_list.7.ff.layers.Dropout_3               [8, 256, 512]           -   \n",
      "322_final_ln                                       [8, 256, 512]      1.024k   \n",
      "323_lm_head                                      [8, 256, 50257]  25.781841M   \n",
      "\n",
      "                                                  Mult-Adds  \n",
      "Layer                                                        \n",
      "0_token_embeddings                               25.731584M  \n",
      "1_position_embeddings                              131.072k  \n",
      "2_block_list.0.LayerNorm_ln1                          512.0  \n",
      "3_block_list.0.sa.head_list.0.Linear_key            32.768k  \n",
      "4_block_list.0.sa.head_list.0.Linear_query          32.768k  \n",
      "5_block_list.0.sa.head_list.0.Linear_value          32.768k  \n",
      "6_block_list.0.sa.head_list.0.Dropout_dropout             -  \n",
      "7_block_list.0.sa.head_list.1.Linear_key            32.768k  \n",
      "8_block_list.0.sa.head_list.1.Linear_query          32.768k  \n",
      "9_block_list.0.sa.head_list.1.Linear_value          32.768k  \n",
      "10_block_list.0.sa.head_list.1.Dropout_dropout            -  \n",
      "11_block_list.0.sa.head_list.2.Linear_key           32.768k  \n",
      "12_block_list.0.sa.head_list.2.Linear_query         32.768k  \n",
      "13_block_list.0.sa.head_list.2.Linear_value         32.768k  \n",
      "14_block_list.0.sa.head_list.2.Dropout_dropout            -  \n",
      "15_block_list.0.sa.head_list.3.Linear_key           32.768k  \n",
      "16_block_list.0.sa.head_list.3.Linear_query         32.768k  \n",
      "17_block_list.0.sa.head_list.3.Linear_value         32.768k  \n",
      "18_block_list.0.sa.head_list.3.Dropout_dropout            -  \n",
      "19_block_list.0.sa.head_list.4.Linear_key           32.768k  \n",
      "20_block_list.0.sa.head_list.4.Linear_query         32.768k  \n",
      "21_block_list.0.sa.head_list.4.Linear_value         32.768k  \n",
      "22_block_list.0.sa.head_list.4.Dropout_dropout            -  \n",
      "23_block_list.0.sa.head_list.5.Linear_key           32.768k  \n",
      "24_block_list.0.sa.head_list.5.Linear_query         32.768k  \n",
      "25_block_list.0.sa.head_list.5.Linear_value         32.768k  \n",
      "26_block_list.0.sa.head_list.5.Dropout_dropout            -  \n",
      "27_block_list.0.sa.head_list.6.Linear_key           32.768k  \n",
      "28_block_list.0.sa.head_list.6.Linear_query         32.768k  \n",
      "29_block_list.0.sa.head_list.6.Linear_value         32.768k  \n",
      "30_block_list.0.sa.head_list.6.Dropout_dropout            -  \n",
      "31_block_list.0.sa.head_list.7.Linear_key           32.768k  \n",
      "32_block_list.0.sa.head_list.7.Linear_query         32.768k  \n",
      "33_block_list.0.sa.head_list.7.Linear_value         32.768k  \n",
      "34_block_list.0.sa.head_list.7.Dropout_dropout            -  \n",
      "35_block_list.0.sa.Linear_proj                     262.144k  \n",
      "36_block_list.0.sa.Dropout_dropout                        -  \n",
      "37_block_list.0.LayerNorm_ln2                         512.0  \n",
      "38_block_list.0.ff.layers.Linear_0                1.048576M  \n",
      "39_block_list.0.ff.layers.GELU_1                          -  \n",
      "40_block_list.0.ff.layers.Linear_2                1.048576M  \n",
      "41_block_list.0.ff.layers.Dropout_3                       -  \n",
      "42_block_list.1.LayerNorm_ln1                         512.0  \n",
      "43_block_list.1.sa.head_list.0.Linear_key           32.768k  \n",
      "44_block_list.1.sa.head_list.0.Linear_query         32.768k  \n",
      "45_block_list.1.sa.head_list.0.Linear_value         32.768k  \n",
      "46_block_list.1.sa.head_list.0.Dropout_dropout            -  \n",
      "47_block_list.1.sa.head_list.1.Linear_key           32.768k  \n",
      "48_block_list.1.sa.head_list.1.Linear_query         32.768k  \n",
      "49_block_list.1.sa.head_list.1.Linear_value         32.768k  \n",
      "50_block_list.1.sa.head_list.1.Dropout_dropout            -  \n",
      "51_block_list.1.sa.head_list.2.Linear_key           32.768k  \n",
      "52_block_list.1.sa.head_list.2.Linear_query         32.768k  \n",
      "53_block_list.1.sa.head_list.2.Linear_value         32.768k  \n",
      "54_block_list.1.sa.head_list.2.Dropout_dropout            -  \n",
      "55_block_list.1.sa.head_list.3.Linear_key           32.768k  \n",
      "56_block_list.1.sa.head_list.3.Linear_query         32.768k  \n",
      "57_block_list.1.sa.head_list.3.Linear_value         32.768k  \n",
      "58_block_list.1.sa.head_list.3.Dropout_dropout            -  \n",
      "59_block_list.1.sa.head_list.4.Linear_key           32.768k  \n",
      "60_block_list.1.sa.head_list.4.Linear_query         32.768k  \n",
      "61_block_list.1.sa.head_list.4.Linear_value         32.768k  \n",
      "62_block_list.1.sa.head_list.4.Dropout_dropout            -  \n",
      "63_block_list.1.sa.head_list.5.Linear_key           32.768k  \n",
      "64_block_list.1.sa.head_list.5.Linear_query         32.768k  \n",
      "65_block_list.1.sa.head_list.5.Linear_value         32.768k  \n",
      "66_block_list.1.sa.head_list.5.Dropout_dropout            -  \n",
      "67_block_list.1.sa.head_list.6.Linear_key           32.768k  \n",
      "68_block_list.1.sa.head_list.6.Linear_query         32.768k  \n",
      "69_block_list.1.sa.head_list.6.Linear_value         32.768k  \n",
      "70_block_list.1.sa.head_list.6.Dropout_dropout            -  \n",
      "71_block_list.1.sa.head_list.7.Linear_key           32.768k  \n",
      "72_block_list.1.sa.head_list.7.Linear_query         32.768k  \n",
      "73_block_list.1.sa.head_list.7.Linear_value         32.768k  \n",
      "74_block_list.1.sa.head_list.7.Dropout_dropout            -  \n",
      "75_block_list.1.sa.Linear_proj                     262.144k  \n",
      "76_block_list.1.sa.Dropout_dropout                        -  \n",
      "77_block_list.1.LayerNorm_ln2                         512.0  \n",
      "78_block_list.1.ff.layers.Linear_0                1.048576M  \n",
      "79_block_list.1.ff.layers.GELU_1                          -  \n",
      "80_block_list.1.ff.layers.Linear_2                1.048576M  \n",
      "81_block_list.1.ff.layers.Dropout_3                       -  \n",
      "82_block_list.2.LayerNorm_ln1                         512.0  \n",
      "83_block_list.2.sa.head_list.0.Linear_key           32.768k  \n",
      "84_block_list.2.sa.head_list.0.Linear_query         32.768k  \n",
      "85_block_list.2.sa.head_list.0.Linear_value         32.768k  \n",
      "86_block_list.2.sa.head_list.0.Dropout_dropout            -  \n",
      "87_block_list.2.sa.head_list.1.Linear_key           32.768k  \n",
      "88_block_list.2.sa.head_list.1.Linear_query         32.768k  \n",
      "89_block_list.2.sa.head_list.1.Linear_value         32.768k  \n",
      "90_block_list.2.sa.head_list.1.Dropout_dropout            -  \n",
      "91_block_list.2.sa.head_list.2.Linear_key           32.768k  \n",
      "92_block_list.2.sa.head_list.2.Linear_query         32.768k  \n",
      "93_block_list.2.sa.head_list.2.Linear_value         32.768k  \n",
      "94_block_list.2.sa.head_list.2.Dropout_dropout            -  \n",
      "95_block_list.2.sa.head_list.3.Linear_key           32.768k  \n",
      "96_block_list.2.sa.head_list.3.Linear_query         32.768k  \n",
      "97_block_list.2.sa.head_list.3.Linear_value         32.768k  \n",
      "98_block_list.2.sa.head_list.3.Dropout_dropout            -  \n",
      "99_block_list.2.sa.head_list.4.Linear_key           32.768k  \n",
      "100_block_list.2.sa.head_list.4.Linear_query        32.768k  \n",
      "101_block_list.2.sa.head_list.4.Linear_value        32.768k  \n",
      "102_block_list.2.sa.head_list.4.Dropout_dropout           -  \n",
      "103_block_list.2.sa.head_list.5.Linear_key          32.768k  \n",
      "104_block_list.2.sa.head_list.5.Linear_query        32.768k  \n",
      "105_block_list.2.sa.head_list.5.Linear_value        32.768k  \n",
      "106_block_list.2.sa.head_list.5.Dropout_dropout           -  \n",
      "107_block_list.2.sa.head_list.6.Linear_key          32.768k  \n",
      "108_block_list.2.sa.head_list.6.Linear_query        32.768k  \n",
      "109_block_list.2.sa.head_list.6.Linear_value        32.768k  \n",
      "110_block_list.2.sa.head_list.6.Dropout_dropout           -  \n",
      "111_block_list.2.sa.head_list.7.Linear_key          32.768k  \n",
      "112_block_list.2.sa.head_list.7.Linear_query        32.768k  \n",
      "113_block_list.2.sa.head_list.7.Linear_value        32.768k  \n",
      "114_block_list.2.sa.head_list.7.Dropout_dropout           -  \n",
      "115_block_list.2.sa.Linear_proj                    262.144k  \n",
      "116_block_list.2.sa.Dropout_dropout                       -  \n",
      "117_block_list.2.LayerNorm_ln2                        512.0  \n",
      "118_block_list.2.ff.layers.Linear_0               1.048576M  \n",
      "119_block_list.2.ff.layers.GELU_1                         -  \n",
      "120_block_list.2.ff.layers.Linear_2               1.048576M  \n",
      "121_block_list.2.ff.layers.Dropout_3                      -  \n",
      "122_block_list.3.LayerNorm_ln1                        512.0  \n",
      "123_block_list.3.sa.head_list.0.Linear_key          32.768k  \n",
      "124_block_list.3.sa.head_list.0.Linear_query        32.768k  \n",
      "125_block_list.3.sa.head_list.0.Linear_value        32.768k  \n",
      "126_block_list.3.sa.head_list.0.Dropout_dropout           -  \n",
      "127_block_list.3.sa.head_list.1.Linear_key          32.768k  \n",
      "128_block_list.3.sa.head_list.1.Linear_query        32.768k  \n",
      "129_block_list.3.sa.head_list.1.Linear_value        32.768k  \n",
      "130_block_list.3.sa.head_list.1.Dropout_dropout           -  \n",
      "131_block_list.3.sa.head_list.2.Linear_key          32.768k  \n",
      "132_block_list.3.sa.head_list.2.Linear_query        32.768k  \n",
      "133_block_list.3.sa.head_list.2.Linear_value        32.768k  \n",
      "134_block_list.3.sa.head_list.2.Dropout_dropout           -  \n",
      "135_block_list.3.sa.head_list.3.Linear_key          32.768k  \n",
      "136_block_list.3.sa.head_list.3.Linear_query        32.768k  \n",
      "137_block_list.3.sa.head_list.3.Linear_value        32.768k  \n",
      "138_block_list.3.sa.head_list.3.Dropout_dropout           -  \n",
      "139_block_list.3.sa.head_list.4.Linear_key          32.768k  \n",
      "140_block_list.3.sa.head_list.4.Linear_query        32.768k  \n",
      "141_block_list.3.sa.head_list.4.Linear_value        32.768k  \n",
      "142_block_list.3.sa.head_list.4.Dropout_dropout           -  \n",
      "143_block_list.3.sa.head_list.5.Linear_key          32.768k  \n",
      "144_block_list.3.sa.head_list.5.Linear_query        32.768k  \n",
      "145_block_list.3.sa.head_list.5.Linear_value        32.768k  \n",
      "146_block_list.3.sa.head_list.5.Dropout_dropout           -  \n",
      "147_block_list.3.sa.head_list.6.Linear_key          32.768k  \n",
      "148_block_list.3.sa.head_list.6.Linear_query        32.768k  \n",
      "149_block_list.3.sa.head_list.6.Linear_value        32.768k  \n",
      "150_block_list.3.sa.head_list.6.Dropout_dropout           -  \n",
      "151_block_list.3.sa.head_list.7.Linear_key          32.768k  \n",
      "152_block_list.3.sa.head_list.7.Linear_query        32.768k  \n",
      "153_block_list.3.sa.head_list.7.Linear_value        32.768k  \n",
      "154_block_list.3.sa.head_list.7.Dropout_dropout           -  \n",
      "155_block_list.3.sa.Linear_proj                    262.144k  \n",
      "156_block_list.3.sa.Dropout_dropout                       -  \n",
      "157_block_list.3.LayerNorm_ln2                        512.0  \n",
      "158_block_list.3.ff.layers.Linear_0               1.048576M  \n",
      "159_block_list.3.ff.layers.GELU_1                         -  \n",
      "160_block_list.3.ff.layers.Linear_2               1.048576M  \n",
      "161_block_list.3.ff.layers.Dropout_3                      -  \n",
      "162_block_list.4.LayerNorm_ln1                        512.0  \n",
      "163_block_list.4.sa.head_list.0.Linear_key          32.768k  \n",
      "164_block_list.4.sa.head_list.0.Linear_query        32.768k  \n",
      "165_block_list.4.sa.head_list.0.Linear_value        32.768k  \n",
      "166_block_list.4.sa.head_list.0.Dropout_dropout           -  \n",
      "167_block_list.4.sa.head_list.1.Linear_key          32.768k  \n",
      "168_block_list.4.sa.head_list.1.Linear_query        32.768k  \n",
      "169_block_list.4.sa.head_list.1.Linear_value        32.768k  \n",
      "170_block_list.4.sa.head_list.1.Dropout_dropout           -  \n",
      "171_block_list.4.sa.head_list.2.Linear_key          32.768k  \n",
      "172_block_list.4.sa.head_list.2.Linear_query        32.768k  \n",
      "173_block_list.4.sa.head_list.2.Linear_value        32.768k  \n",
      "174_block_list.4.sa.head_list.2.Dropout_dropout           -  \n",
      "175_block_list.4.sa.head_list.3.Linear_key          32.768k  \n",
      "176_block_list.4.sa.head_list.3.Linear_query        32.768k  \n",
      "177_block_list.4.sa.head_list.3.Linear_value        32.768k  \n",
      "178_block_list.4.sa.head_list.3.Dropout_dropout           -  \n",
      "179_block_list.4.sa.head_list.4.Linear_key          32.768k  \n",
      "180_block_list.4.sa.head_list.4.Linear_query        32.768k  \n",
      "181_block_list.4.sa.head_list.4.Linear_value        32.768k  \n",
      "182_block_list.4.sa.head_list.4.Dropout_dropout           -  \n",
      "183_block_list.4.sa.head_list.5.Linear_key          32.768k  \n",
      "184_block_list.4.sa.head_list.5.Linear_query        32.768k  \n",
      "185_block_list.4.sa.head_list.5.Linear_value        32.768k  \n",
      "186_block_list.4.sa.head_list.5.Dropout_dropout           -  \n",
      "187_block_list.4.sa.head_list.6.Linear_key          32.768k  \n",
      "188_block_list.4.sa.head_list.6.Linear_query        32.768k  \n",
      "189_block_list.4.sa.head_list.6.Linear_value        32.768k  \n",
      "190_block_list.4.sa.head_list.6.Dropout_dropout           -  \n",
      "191_block_list.4.sa.head_list.7.Linear_key          32.768k  \n",
      "192_block_list.4.sa.head_list.7.Linear_query        32.768k  \n",
      "193_block_list.4.sa.head_list.7.Linear_value        32.768k  \n",
      "194_block_list.4.sa.head_list.7.Dropout_dropout           -  \n",
      "195_block_list.4.sa.Linear_proj                    262.144k  \n",
      "196_block_list.4.sa.Dropout_dropout                       -  \n",
      "197_block_list.4.LayerNorm_ln2                        512.0  \n",
      "198_block_list.4.ff.layers.Linear_0               1.048576M  \n",
      "199_block_list.4.ff.layers.GELU_1                         -  \n",
      "200_block_list.4.ff.layers.Linear_2               1.048576M  \n",
      "201_block_list.4.ff.layers.Dropout_3                      -  \n",
      "202_block_list.5.LayerNorm_ln1                        512.0  \n",
      "203_block_list.5.sa.head_list.0.Linear_key          32.768k  \n",
      "204_block_list.5.sa.head_list.0.Linear_query        32.768k  \n",
      "205_block_list.5.sa.head_list.0.Linear_value        32.768k  \n",
      "206_block_list.5.sa.head_list.0.Dropout_dropout           -  \n",
      "207_block_list.5.sa.head_list.1.Linear_key          32.768k  \n",
      "208_block_list.5.sa.head_list.1.Linear_query        32.768k  \n",
      "209_block_list.5.sa.head_list.1.Linear_value        32.768k  \n",
      "210_block_list.5.sa.head_list.1.Dropout_dropout           -  \n",
      "211_block_list.5.sa.head_list.2.Linear_key          32.768k  \n",
      "212_block_list.5.sa.head_list.2.Linear_query        32.768k  \n",
      "213_block_list.5.sa.head_list.2.Linear_value        32.768k  \n",
      "214_block_list.5.sa.head_list.2.Dropout_dropout           -  \n",
      "215_block_list.5.sa.head_list.3.Linear_key          32.768k  \n",
      "216_block_list.5.sa.head_list.3.Linear_query        32.768k  \n",
      "217_block_list.5.sa.head_list.3.Linear_value        32.768k  \n",
      "218_block_list.5.sa.head_list.3.Dropout_dropout           -  \n",
      "219_block_list.5.sa.head_list.4.Linear_key          32.768k  \n",
      "220_block_list.5.sa.head_list.4.Linear_query        32.768k  \n",
      "221_block_list.5.sa.head_list.4.Linear_value        32.768k  \n",
      "222_block_list.5.sa.head_list.4.Dropout_dropout           -  \n",
      "223_block_list.5.sa.head_list.5.Linear_key          32.768k  \n",
      "224_block_list.5.sa.head_list.5.Linear_query        32.768k  \n",
      "225_block_list.5.sa.head_list.5.Linear_value        32.768k  \n",
      "226_block_list.5.sa.head_list.5.Dropout_dropout           -  \n",
      "227_block_list.5.sa.head_list.6.Linear_key          32.768k  \n",
      "228_block_list.5.sa.head_list.6.Linear_query        32.768k  \n",
      "229_block_list.5.sa.head_list.6.Linear_value        32.768k  \n",
      "230_block_list.5.sa.head_list.6.Dropout_dropout           -  \n",
      "231_block_list.5.sa.head_list.7.Linear_key          32.768k  \n",
      "232_block_list.5.sa.head_list.7.Linear_query        32.768k  \n",
      "233_block_list.5.sa.head_list.7.Linear_value        32.768k  \n",
      "234_block_list.5.sa.head_list.7.Dropout_dropout           -  \n",
      "235_block_list.5.sa.Linear_proj                    262.144k  \n",
      "236_block_list.5.sa.Dropout_dropout                       -  \n",
      "237_block_list.5.LayerNorm_ln2                        512.0  \n",
      "238_block_list.5.ff.layers.Linear_0               1.048576M  \n",
      "239_block_list.5.ff.layers.GELU_1                         -  \n",
      "240_block_list.5.ff.layers.Linear_2               1.048576M  \n",
      "241_block_list.5.ff.layers.Dropout_3                      -  \n",
      "242_block_list.6.LayerNorm_ln1                        512.0  \n",
      "243_block_list.6.sa.head_list.0.Linear_key          32.768k  \n",
      "244_block_list.6.sa.head_list.0.Linear_query        32.768k  \n",
      "245_block_list.6.sa.head_list.0.Linear_value        32.768k  \n",
      "246_block_list.6.sa.head_list.0.Dropout_dropout           -  \n",
      "247_block_list.6.sa.head_list.1.Linear_key          32.768k  \n",
      "248_block_list.6.sa.head_list.1.Linear_query        32.768k  \n",
      "249_block_list.6.sa.head_list.1.Linear_value        32.768k  \n",
      "250_block_list.6.sa.head_list.1.Dropout_dropout           -  \n",
      "251_block_list.6.sa.head_list.2.Linear_key          32.768k  \n",
      "252_block_list.6.sa.head_list.2.Linear_query        32.768k  \n",
      "253_block_list.6.sa.head_list.2.Linear_value        32.768k  \n",
      "254_block_list.6.sa.head_list.2.Dropout_dropout           -  \n",
      "255_block_list.6.sa.head_list.3.Linear_key          32.768k  \n",
      "256_block_list.6.sa.head_list.3.Linear_query        32.768k  \n",
      "257_block_list.6.sa.head_list.3.Linear_value        32.768k  \n",
      "258_block_list.6.sa.head_list.3.Dropout_dropout           -  \n",
      "259_block_list.6.sa.head_list.4.Linear_key          32.768k  \n",
      "260_block_list.6.sa.head_list.4.Linear_query        32.768k  \n",
      "261_block_list.6.sa.head_list.4.Linear_value        32.768k  \n",
      "262_block_list.6.sa.head_list.4.Dropout_dropout           -  \n",
      "263_block_list.6.sa.head_list.5.Linear_key          32.768k  \n",
      "264_block_list.6.sa.head_list.5.Linear_query        32.768k  \n",
      "265_block_list.6.sa.head_list.5.Linear_value        32.768k  \n",
      "266_block_list.6.sa.head_list.5.Dropout_dropout           -  \n",
      "267_block_list.6.sa.head_list.6.Linear_key          32.768k  \n",
      "268_block_list.6.sa.head_list.6.Linear_query        32.768k  \n",
      "269_block_list.6.sa.head_list.6.Linear_value        32.768k  \n",
      "270_block_list.6.sa.head_list.6.Dropout_dropout           -  \n",
      "271_block_list.6.sa.head_list.7.Linear_key          32.768k  \n",
      "272_block_list.6.sa.head_list.7.Linear_query        32.768k  \n",
      "273_block_list.6.sa.head_list.7.Linear_value        32.768k  \n",
      "274_block_list.6.sa.head_list.7.Dropout_dropout           -  \n",
      "275_block_list.6.sa.Linear_proj                    262.144k  \n",
      "276_block_list.6.sa.Dropout_dropout                       -  \n",
      "277_block_list.6.LayerNorm_ln2                        512.0  \n",
      "278_block_list.6.ff.layers.Linear_0               1.048576M  \n",
      "279_block_list.6.ff.layers.GELU_1                         -  \n",
      "280_block_list.6.ff.layers.Linear_2               1.048576M  \n",
      "281_block_list.6.ff.layers.Dropout_3                      -  \n",
      "282_block_list.7.LayerNorm_ln1                        512.0  \n",
      "283_block_list.7.sa.head_list.0.Linear_key          32.768k  \n",
      "284_block_list.7.sa.head_list.0.Linear_query        32.768k  \n",
      "285_block_list.7.sa.head_list.0.Linear_value        32.768k  \n",
      "286_block_list.7.sa.head_list.0.Dropout_dropout           -  \n",
      "287_block_list.7.sa.head_list.1.Linear_key          32.768k  \n",
      "288_block_list.7.sa.head_list.1.Linear_query        32.768k  \n",
      "289_block_list.7.sa.head_list.1.Linear_value        32.768k  \n",
      "290_block_list.7.sa.head_list.1.Dropout_dropout           -  \n",
      "291_block_list.7.sa.head_list.2.Linear_key          32.768k  \n",
      "292_block_list.7.sa.head_list.2.Linear_query        32.768k  \n",
      "293_block_list.7.sa.head_list.2.Linear_value        32.768k  \n",
      "294_block_list.7.sa.head_list.2.Dropout_dropout           -  \n",
      "295_block_list.7.sa.head_list.3.Linear_key          32.768k  \n",
      "296_block_list.7.sa.head_list.3.Linear_query        32.768k  \n",
      "297_block_list.7.sa.head_list.3.Linear_value        32.768k  \n",
      "298_block_list.7.sa.head_list.3.Dropout_dropout           -  \n",
      "299_block_list.7.sa.head_list.4.Linear_key          32.768k  \n",
      "300_block_list.7.sa.head_list.4.Linear_query        32.768k  \n",
      "301_block_list.7.sa.head_list.4.Linear_value        32.768k  \n",
      "302_block_list.7.sa.head_list.4.Dropout_dropout           -  \n",
      "303_block_list.7.sa.head_list.5.Linear_key          32.768k  \n",
      "304_block_list.7.sa.head_list.5.Linear_query        32.768k  \n",
      "305_block_list.7.sa.head_list.5.Linear_value        32.768k  \n",
      "306_block_list.7.sa.head_list.5.Dropout_dropout           -  \n",
      "307_block_list.7.sa.head_list.6.Linear_key          32.768k  \n",
      "308_block_list.7.sa.head_list.6.Linear_query        32.768k  \n",
      "309_block_list.7.sa.head_list.6.Linear_value        32.768k  \n",
      "310_block_list.7.sa.head_list.6.Dropout_dropout           -  \n",
      "311_block_list.7.sa.head_list.7.Linear_key          32.768k  \n",
      "312_block_list.7.sa.head_list.7.Linear_query        32.768k  \n",
      "313_block_list.7.sa.head_list.7.Linear_value        32.768k  \n",
      "314_block_list.7.sa.head_list.7.Dropout_dropout           -  \n",
      "315_block_list.7.sa.Linear_proj                    262.144k  \n",
      "316_block_list.7.sa.Dropout_dropout                       -  \n",
      "317_block_list.7.LayerNorm_ln2                        512.0  \n",
      "318_block_list.7.ff.layers.Linear_0               1.048576M  \n",
      "319_block_list.7.ff.layers.GELU_1                         -  \n",
      "320_block_list.7.ff.layers.Linear_2               1.048576M  \n",
      "321_block_list.7.ff.layers.Dropout_3                      -  \n",
      "322_final_ln                                          512.0  \n",
      "323_lm_head                                      25.731584M  \n",
      "------------------------------------------------------------------------------------------------------\n",
      "                          Totals\n",
      "Total params          76.852305M\n",
      "Trainable params      76.852305M\n",
      "Non-trainable params         0.0\n",
      "Mult-Adds             76.768768M\n",
      "======================================================================================================\n"
     ]
    },
    {
     "name": "stderr",
     "output_type": "stream",
     "text": [
      "/home/ssg2/miniconda3/envs/idl/lib/python3.8/site-packages/torchsummaryX/torchsummaryX.py:101: FutureWarning: The default value of numeric_only in DataFrame.sum is deprecated. In a future version, it will default to False. In addition, specifying 'numeric_only=None' is deprecated. Select only valid columns or specify the value of numeric_only to silence this warning.\n",
      "  df_sum = df.sum()\n"
     ]
    },
    {
     "data": {
      "text/html": [
       "<div>\n",
       "<style scoped>\n",
       "    .dataframe tbody tr th:only-of-type {\n",
       "        vertical-align: middle;\n",
       "    }\n",
       "\n",
       "    .dataframe tbody tr th {\n",
       "        vertical-align: top;\n",
       "    }\n",
       "\n",
       "    .dataframe thead th {\n",
       "        text-align: right;\n",
       "    }\n",
       "</style>\n",
       "<table border=\"1\" class=\"dataframe\">\n",
       "  <thead>\n",
       "    <tr style=\"text-align: right;\">\n",
       "      <th></th>\n",
       "      <th>Kernel Shape</th>\n",
       "      <th>Output Shape</th>\n",
       "      <th>Params</th>\n",
       "      <th>Mult-Adds</th>\n",
       "    </tr>\n",
       "    <tr>\n",
       "      <th>Layer</th>\n",
       "      <th></th>\n",
       "      <th></th>\n",
       "      <th></th>\n",
       "      <th></th>\n",
       "    </tr>\n",
       "  </thead>\n",
       "  <tbody>\n",
       "    <tr>\n",
       "      <th>0_token_embeddings</th>\n",
       "      <td>[512, 50257]</td>\n",
       "      <td>[8, 256, 512]</td>\n",
       "      <td>25731584.0</td>\n",
       "      <td>25731584.0</td>\n",
       "    </tr>\n",
       "    <tr>\n",
       "      <th>1_position_embeddings</th>\n",
       "      <td>[512, 256]</td>\n",
       "      <td>[256, 512]</td>\n",
       "      <td>131072.0</td>\n",
       "      <td>131072.0</td>\n",
       "    </tr>\n",
       "    <tr>\n",
       "      <th>2_block_list.0.LayerNorm_ln1</th>\n",
       "      <td>[512]</td>\n",
       "      <td>[8, 256, 512]</td>\n",
       "      <td>1024.0</td>\n",
       "      <td>512.0</td>\n",
       "    </tr>\n",
       "    <tr>\n",
       "      <th>3_block_list.0.sa.head_list.0.Linear_key</th>\n",
       "      <td>[512, 64]</td>\n",
       "      <td>[8, 256, 64]</td>\n",
       "      <td>32768.0</td>\n",
       "      <td>32768.0</td>\n",
       "    </tr>\n",
       "    <tr>\n",
       "      <th>4_block_list.0.sa.head_list.0.Linear_query</th>\n",
       "      <td>[512, 64]</td>\n",
       "      <td>[8, 256, 64]</td>\n",
       "      <td>32768.0</td>\n",
       "      <td>32768.0</td>\n",
       "    </tr>\n",
       "    <tr>\n",
       "      <th>...</th>\n",
       "      <td>...</td>\n",
       "      <td>...</td>\n",
       "      <td>...</td>\n",
       "      <td>...</td>\n",
       "    </tr>\n",
       "    <tr>\n",
       "      <th>319_block_list.7.ff.layers.GELU_1</th>\n",
       "      <td>-</td>\n",
       "      <td>[8, 256, 2048]</td>\n",
       "      <td>NaN</td>\n",
       "      <td>NaN</td>\n",
       "    </tr>\n",
       "    <tr>\n",
       "      <th>320_block_list.7.ff.layers.Linear_2</th>\n",
       "      <td>[2048, 512]</td>\n",
       "      <td>[8, 256, 512]</td>\n",
       "      <td>1049088.0</td>\n",
       "      <td>1048576.0</td>\n",
       "    </tr>\n",
       "    <tr>\n",
       "      <th>321_block_list.7.ff.layers.Dropout_3</th>\n",
       "      <td>-</td>\n",
       "      <td>[8, 256, 512]</td>\n",
       "      <td>NaN</td>\n",
       "      <td>NaN</td>\n",
       "    </tr>\n",
       "    <tr>\n",
       "      <th>322_final_ln</th>\n",
       "      <td>[512]</td>\n",
       "      <td>[8, 256, 512]</td>\n",
       "      <td>1024.0</td>\n",
       "      <td>512.0</td>\n",
       "    </tr>\n",
       "    <tr>\n",
       "      <th>323_lm_head</th>\n",
       "      <td>[512, 50257]</td>\n",
       "      <td>[8, 256, 50257]</td>\n",
       "      <td>25781841.0</td>\n",
       "      <td>25731584.0</td>\n",
       "    </tr>\n",
       "  </tbody>\n",
       "</table>\n",
       "<p>324 rows × 4 columns</p>\n",
       "</div>"
      ],
      "text/plain": [
       "                                            Kernel Shape     Output Shape  \\\n",
       "Layer                                                                       \n",
       "0_token_embeddings                          [512, 50257]    [8, 256, 512]   \n",
       "1_position_embeddings                         [512, 256]       [256, 512]   \n",
       "2_block_list.0.LayerNorm_ln1                       [512]    [8, 256, 512]   \n",
       "3_block_list.0.sa.head_list.0.Linear_key       [512, 64]     [8, 256, 64]   \n",
       "4_block_list.0.sa.head_list.0.Linear_query     [512, 64]     [8, 256, 64]   \n",
       "...                                                  ...              ...   \n",
       "319_block_list.7.ff.layers.GELU_1                      -   [8, 256, 2048]   \n",
       "320_block_list.7.ff.layers.Linear_2          [2048, 512]    [8, 256, 512]   \n",
       "321_block_list.7.ff.layers.Dropout_3                   -    [8, 256, 512]   \n",
       "322_final_ln                                       [512]    [8, 256, 512]   \n",
       "323_lm_head                                 [512, 50257]  [8, 256, 50257]   \n",
       "\n",
       "                                                Params   Mult-Adds  \n",
       "Layer                                                               \n",
       "0_token_embeddings                          25731584.0  25731584.0  \n",
       "1_position_embeddings                         131072.0    131072.0  \n",
       "2_block_list.0.LayerNorm_ln1                    1024.0       512.0  \n",
       "3_block_list.0.sa.head_list.0.Linear_key       32768.0     32768.0  \n",
       "4_block_list.0.sa.head_list.0.Linear_query     32768.0     32768.0  \n",
       "...                                                ...         ...  \n",
       "319_block_list.7.ff.layers.GELU_1                  NaN         NaN  \n",
       "320_block_list.7.ff.layers.Linear_2          1049088.0   1048576.0  \n",
       "321_block_list.7.ff.layers.Dropout_3               NaN         NaN  \n",
       "322_final_ln                                    1024.0       512.0  \n",
       "323_lm_head                                 25781841.0  25731584.0  \n",
       "\n",
       "[324 rows x 4 columns]"
      ]
     },
     "execution_count": 32,
     "metadata": {},
     "output_type": "execute_result"
    }
   ],
   "source": [
    "summary(model, xb.to(device), yb.to(device))"
   ]
  },
  {
   "cell_type": "code",
   "execution_count": 33,
   "metadata": {
    "id": "N8rVNj48QLUc"
   },
   "outputs": [],
   "source": [
    "optimizer = torch.optim.AdamW(model.parameters(), lr=config.lr, weight_decay=config.weight_decay)\n",
    "scaler = torch.cuda.amp.GradScaler(enabled=True)\n",
    "\n",
    "\n",
    "# for generation\n",
    "start_ix = torch.zeros((1,1), dtype=torch.long, device=device) # (newline character in a single batch)"
   ]
  },
  {
   "cell_type": "code",
   "execution_count": 34,
   "metadata": {
    "id": "eT5YkoSNQLUc"
   },
   "outputs": [],
   "source": [
    "# poor man's lr scheduler. why? because cosine with warmup isn't readily available on torch (it's warm RESTARTS)\n",
    "# but idc about restarting eh?\n",
    "def get_lr(it):\n",
    "    \"get lr at a specific iteration\"\n",
    "    max_lr = config.lr\n",
    "    min_lr = config.min_lr\n",
    "    warmup_iters = config.warmup_iters\n",
    "    max_lr_decay_iters = config.num_iters # can also be made into another param\n",
    "    if it <= warmup_iters:\n",
    "        return max_lr * (it / warmup_iters)\n",
    "\n",
    "    if it > max_lr_decay_iters:\n",
    "        # decaying only up to a certain point, interesting\n",
    "        return min_lr\n",
    "    ratio = (it - warmup_iters) / (max_lr_decay_iters - warmup_iters) # how much % of decay cycle is done?\n",
    "    coeff = 0.5 * (1 + math.cos(math.pi * ratio)) # [0,1]\n",
    "    return min_lr + coeff * (max_lr - min_lr) # beautiful"
   ]
  },
  {
   "cell_type": "code",
   "execution_count": 35,
   "metadata": {
    "id": "9X5IiaarQLUc"
   },
   "outputs": [
    {
     "data": {
      "image/png": "[encoded data removed]",
      "text/plain": [
       "<Figure size 640x480 with 1 Axes>"
      ]
     },
     "metadata": {},
     "output_type": "display_data"
    }
   ],
   "source": [
    "def test_lr():\n",
    "    import random\n",
    "    import matplotlib.pyplot as plt\n",
    "    x = [i for i in range(0,10000,100)]\n",
    "    y = [get_lr(i) for i in x]\n",
    "    plt.plot(x, y)\n",
    "    plt.show()\n",
    "\n",
    "test_lr()\n"
   ]
  },
  {
   "cell_type": "code",
   "execution_count": null,
   "metadata": {
    "id": "CVOkmmi_QLUc"
   },
   "outputs": [],
   "source": [
    "'''\n",
    "@torch.no_grad()\n",
    "def estimate_losses(config):\n",
    "    model.eval()\n",
    "    losses = {'train': -1., 'val': -1.}\n",
    "    for split in ['train', 'val']:\n",
    "        loss = 0\n",
    "        for _ in range(config.eval_iters):\n",
    "            # xb, yb = next(iter(val_loader))\n",
    "            # xb, yb = xb.to(device), yb.to(device)\n",
    "            xb, yb = get_batch('val')\n",
    "            loss += model(xb, yb)[1].item()\n",
    "        loss /= config.eval_iters\n",
    "        if split == 'train':\n",
    "            losses['train'] = loss\n",
    "        else:\n",
    "            losses['val'] = loss\n",
    "    model.train()\n",
    "    return losses\n",
    "    '''"
   ]
  },
  {
   "cell_type": "code",
   "execution_count": 36,
   "metadata": {
    "id": "47ZGa3tkMSAi"
   },
   "outputs": [],
   "source": [
    "@torch.no_grad()\n",
    "def estimate_losses(config, train_loader, val_loader):\n",
    "    model.eval()\n",
    "    losses = {'train': -1., 'val': -1.}\n",
    "    train_loss = 0\n",
    "    train_iters = min(config.eval_iters, len(train_loader))\n",
    "    for i, (xb, yb) in enumerate(train_loader):\n",
    "        if i >= train_iters:\n",
    "            break\n",
    "        xb, yb = xb.to(device), yb.to(device)\n",
    "        _, loss = model(xb, yb)\n",
    "        train_loss += loss.item()\n",
    "    losses['train'] = train_loss / train_iters\n",
    "\n",
    "    # Evaluate validation loss (considering only config.eval_iters iterations)\n",
    "    val_loss = 0\n",
    "    val_iters = min(config.eval_iters, len(val_loader))\n",
    "    for i, (xb, yb) in enumerate(val_loader):\n",
    "        if i >= val_iters:\n",
    "            break\n",
    "        xb, yb = xb.to(device), yb.to(device)\n",
    "        _, loss = model(xb, yb)\n",
    "        val_loss += loss.item()\n",
    "    losses['val'] = val_loss / val_iters\n",
    "\n",
    "    model.train()\n",
    "    return losses"
   ]
  },
  {
   "cell_type": "code",
   "execution_count": 44,
   "metadata": {
    "id": "kEvNGlwJ1aPr"
   },
   "outputs": [
    {
     "data": {
      "text/plain": [
       "<All keys matched successfully>"
      ]
     },
     "execution_count": 44,
     "metadata": {},
     "output_type": "execute_result"
    }
   ],
   "source": [
    "#@title Load Pretrained\n",
    "CKPT_PATH = 'exps/pretrain_v2/best_model.pth'\n",
    "ckpt = torch.load(CKPT_PATH)\n",
    "model.load_state_dict(ckpt)"
   ]
  },
  {
   "cell_type": "markdown",
   "metadata": {
    "id": "CJfqzDg2QLUc"
   },
   "source": [
    "## WandB"
   ]
  },
  {
   "cell_type": "code",
   "execution_count": 42,
   "metadata": {
    "id": "no1t4aJ5QLUc"
   },
   "outputs": [
    {
     "name": "stderr",
     "output_type": "stream",
     "text": [
      "\u001b[34m\u001b[1mwandb\u001b[0m: \u001b[33mWARNING\u001b[0m Calling wandb.login() after wandb.init() has no effect.\n"
     ]
    }
   ],
   "source": [
    "wandb.login(key=\"\")\n",
    "run = wandb.init(\n",
    "        name    = 'pretrain_v1', ## Wandb creates random run names if you skip this field\n",
    "        reinit = True, ### Allows reinitalizing runs when you re-run this cell\n",
    "        # entity = 'thunderbuddies',\n",
    "        # run_id = ### Insert specific run id here if you want to resume a previous run\n",
    "        # resume = \"must\" ### You need this to resume previous runs, but comment out reinit = True when using this\n",
    "        project = \"ideal_gpt\", ### Project should be created in your wandb account\n",
    "        config = config, ### Wandb Config for your run,\n",
    "        mode='disabled'\n",
    "\n",
    "    )"
   ]
  },
  {
   "cell_type": "code",
   "execution_count": 43,
   "metadata": {
    "id": "smwh3FSyQLUc"
   },
   "outputs": [
    {
     "data": {
      "text/plain": [
       "torch.Size([1, 1])"
      ]
     },
     "execution_count": 43,
     "metadata": {},
     "output_type": "execute_result"
    }
   ],
   "source": [
    "start_ix.shape"
   ]
  },
  {
   "cell_type": "code",
   "execution_count": 45,
   "metadata": {
    "id": "XLdX2OG3QLUd"
   },
   "outputs": [
    {
     "name": "stderr",
     "output_type": "stream",
     "text": [
      "Train:   0%|          | 0/10000 [00:00<?, ?it/s]"
     ]
    }
   ],
   "source": [
    "cur_iter = 0\n",
    "best_val = 1e9\n",
    "best_path = 'tmp_best_model.pth'\n",
    "running_loss = 0.0\n",
    "loss_counter=0\n",
    "pbar = tqdm(total=config.num_iters, dynamic_ncols=True, leave=False, position=0, desc=\"Train\")"
   ]
  },
  {
   "cell_type": "code",
   "execution_count": null,
   "metadata": {
    "id": "2Z9UAAmpQLUd"
   },
   "outputs": [],
   "source": [
    "'''\n",
    "while cur_iter <= config.num_iters:\n",
    "    optimizer.zero_grad(set_to_none = True) # https://pytorch.org/docs/stable/generated/torch.optim.Optimizer.zero_grad.html\n",
    "    # poor man's lr scheduler\n",
    "    cur_lr = get_lr(cur_iter) if config.lr_decay else config.lr\n",
    "    for param_group in optimizer.param_groups:\n",
    "        param_group['lr'] = cur_lr\n",
    "\n",
    "    # xb, yb = next(iter(train_loader))\n",
    "    for micro_step in range(config.gradient_accumulation_steps):\n",
    "        xb, yb = get_batch('train')\n",
    "        # xb, yb = xb.to(device), yb.to(device)\n",
    "        with torch.cuda.amp.autocast():\n",
    "            logits, loss = model(xb, yb)\n",
    "\n",
    "        running_loss += loss.item()\n",
    "        train_loss = running_loss / (loss_counter + 1)\n",
    "        loss_counter += 1\n",
    "\n",
    "        scaler.scale(loss).backward()\n",
    "\n",
    "    if config.grad_clip != 0.0:\n",
    "        scaler.unscale_(optimizer)\n",
    "        torch.nn.utils.clip_grad_norm_(model.parameters(), config.grad_clip)\n",
    "    scaler.step(optimizer)\n",
    "    scaler.update()\n",
    "\n",
    "    # val every eval_intervals\n",
    "    if cur_iter % config.eval_interval == 0:\n",
    "        losses = estimate_losses(config)\n",
    "        val_loss = losses['val']\n",
    "        train_loss = losses['train']\n",
    "        print(f'Val @ Epoch {cur_iter}: Train Loss={train_loss:.4f}, Val Loss={val_loss:.4f}')\n",
    "        wandb.log({\n",
    "            'val_loss': val_loss,\n",
    "            'iter': cur_iter,\n",
    "            'lr': optimizer.param_groups[0]['lr']\n",
    "        })\n",
    "        if val_loss < best_val:\n",
    "            best_val = val_loss\n",
    "            torch.save(model.state_dict(), best_path)\n",
    "            print(f'Saved best model to {best_path}')\n",
    "        print('Sample Generation')\n",
    "        print(tokenizer.decode(model.generate(start_ix, 100)[0].tolist()))\n",
    "\n",
    "    # train logs\n",
    "    wandb.log({\n",
    "        'train_loss': train_loss,\n",
    "        'iter': cur_iter,\n",
    "        'lr': cur_lr\n",
    "    })\n",
    "    pbar.set_postfix(\n",
    "            loss = \"{:.04f}\".format(train_loss),\n",
    "            lr = cur_lr\n",
    "        )\n",
    "    pbar.update()\n",
    "\n",
    "\n",
    "    cur_iter += 1\n",
    "    '''"
   ]
  },
  {
   "cell_type": "code",
   "execution_count": 49,
   "metadata": {
    "id": "BRMAeKP5PfOJ"
   },
   "outputs": [
    {
     "name": "stdout",
     "output_type": "stream",
     "text": [
      "Val @ Epoch 0: Train Loss=2.2386, Val Loss=2.9403\n",
      "Saved best model to tmp_best_model.pth\n",
      "Sample Generation\n"
     ]
    },
    {
     "name": "stderr",
     "output_type": "stream",
     "text": [
      "Train:   0%|          | 23/10000 [02:25<60:48:30, 21.94s/it, loss=2.2386, lr=0]    "
     ]
    },
    {
     "name": "stdout",
     "output_type": "stream",
     "text": [
      "! We officially launched MMD here! Get our daily newsletter HERE!<|endoftext|>New culture\n",
      "\n",
      "Narc levitation has evolved from an island which practiced practicality. Now it has taken the form of a perfectly normal, beautiful, urban startup called Misanthropy, or MakuinOBY. MakuinOBY is not simply a sustainable hobby one can take to make the ‘thing’ off, it is also one that decides what goes making use of them all at enlisted,\n"
     ]
    },
    {
     "name": "stderr",
     "output_type": "stream",
     "text": [
      "Train:   0%|          | 28/10000 [02:40<17:14:53,  6.23s/it, loss=3.1096, lr=1e-5]"
     ]
    }
   ],
   "source": [
    "torch.cuda.empty_cache()\n",
    "gc.collect()\n",
    "\n",
    "\n",
    "NUM_EPOCHS=5\n",
    "cur_iter=0\n",
    "\n",
    "while cur_iter <= NUM_EPOCHS:\n",
    "    optimizer.zero_grad(set_to_none=True)\n",
    "\n",
    "    cur_lr = get_lr(cur_iter) if config.lr_decay else config.lr\n",
    "    for param_group in optimizer.param_groups:\n",
    "        param_group['lr'] = cur_lr\n",
    "\n",
    "    # Iterate over batches from the DataLoader\n",
    "    steps = 0\n",
    "    for xb, yb in train_loader:\n",
    "        xb, yb = xb.to(device), yb.to(device)\n",
    "\n",
    "        with torch.cuda.amp.autocast():\n",
    "            logits, loss = model(xb, yb)\n",
    "        running_loss += loss.item()\n",
    "        train_loss = running_loss / (loss_counter + 1)\n",
    "        loss_counter += 1\n",
    "\n",
    "        scaler.scale(loss).backward()\n",
    "\n",
    "        steps += 1\n",
    "        if steps % config.gradient_accumulation_steps == 0:\n",
    "            if config.grad_clip != 0.0:\n",
    "                scaler.unscale_(optimizer)\n",
    "                torch.nn.utils.clip_grad_norm_(model.parameters(), config.grad_clip)\n",
    "\n",
    "            scaler.step(optimizer)\n",
    "            scaler.update()\n",
    "            optimizer.zero_grad(set_to_none=True)\n",
    "\n",
    "        del xb, yb, logits, loss\n",
    "        torch.cuda.empty_cache()\n",
    "\n",
    "\n",
    "    if cur_iter % config.eval_interval == 0:\n",
    "        losses = estimate_losses(config, train_loader, val_loader)  # Now we pass val_loader to estimate_losses\n",
    "        val_loss = losses['val']\n",
    "        train_loss = losses['train']\n",
    "        print(f'Val @ Epoch {cur_iter}: Train Loss={train_loss:.4f}, Val Loss={val_loss:.4f}')\n",
    "        wandb.log({\n",
    "            'val_loss': val_loss,\n",
    "            'iter': cur_iter,\n",
    "            'lr': optimizer.param_groups[0]['lr']\n",
    "        })\n",
    "        if val_loss < best_val:\n",
    "            best_val = val_loss\n",
    "            torch.save(model.state_dict(), best_path)\n",
    "            print(f'Saved best model to {best_path}')\n",
    "        print('Sample Generation')\n",
    "        print(tokenizer.decode(model.generate(start_ix, 100)[0].tolist()))\n",
    "\n",
    "    # Log training metrics for current iteration\n",
    "    wandb.log({\n",
    "        'train_loss': train_loss,\n",
    "        'iter': cur_iter,\n",
    "        'lr': cur_lr\n",
    "    })\n",
    "    pbar.set_postfix(loss=\"{:.04f}\".format(train_loss), lr=cur_lr)\n",
    "    pbar.update()\n",
    "\n",
    "    cur_iter += 1  # Increment iteration count"
   ]
  },
  {
   "cell_type": "code",
   "execution_count": null,
   "metadata": {
    "id": "wgKbRvnvQLUd"
   },
   "outputs": [],
   "source": [
    "print(tokenizer.decode(model.generate(start_ix, 100)[0].tolist()))"
   ]
  },
  {
   "cell_type": "code",
   "execution_count": null,
   "metadata": {
    "id": "sNo-EkEkQLUd"
   },
   "outputs": [],
   "source": [
    "def prompt(p, max_len=100):\n",
    "    if not p:\n",
    "        print('Enter non-empty string!')\n",
    "        return\n",
    "\n",
    "    tokens = torch.tensor(tokenizer.encode_ordinary(p))\n",
    "    tokens = tokens.unsqueeze(0) # add batch dimension\n",
    "    tokens = tokens.to(device)\n",
    "    return tokenizer.decode(model.generate(tokens, max_len)[0].tolist())"
   ]
  },
  {
   "cell_type": "code",
   "execution_count": null,
   "metadata": {
    "id": "3F-jfFBjQLUd"
   },
   "outputs": [],
   "source": [
    "prompt('Hello world, my name is' , 1)"
   ]
  }
 ],
 "metadata": {
  "colab": {
   "provenance": [],
   "toc_visible": true
  },
  "kernelspec": {
   "display_name": "Python 3 (ipykernel)",
   "language": "python",
   "name": "python3"
  },
  "language_info": {
   "codemirror_mode": {
    "name": "ipython",
    "version": 3
   },
   "file_extension": ".py",
   "mimetype": "text/x-python",
   "name": "python",
   "nbconvert_exporter": "python",
   "pygments_lexer": "ipython3",
   "version": "3.8.18"
  },
  "widgets": {
   "application/vnd.jupyter.widget-state+json": {
    "024d4f026f184760a2f3b4eb2c624a95": {
     "model_module": "@jupyter-widgets/controls",
     "model_module_version": "1.5.0",
     "model_name": "ProgressStyleModel",
     "state": {
      "_model_module": "@jupyter-widgets/controls",
      "_model_module_version": "1.5.0",
      "_model_name": "ProgressStyleModel",
      "_view_count": null,
      "_view_module": "@jupyter-widgets/base",
      "_view_module_version": "1.2.0",
      "_view_name": "StyleView",
      "bar_color": null,
      "description_width": ""
     }
    },
    "067898ad433a455e8deb863494b7a428": {
     "model_module": "@jupyter-widgets/controls",
     "model_module_version": "1.5.0",
     "model_name": "HTMLModel",
     "state": {
      "_dom_classes": [],
      "_model_module": "@jupyter-widgets/controls",
      "_model_module_version": "1.5.0",
      "_model_name": "HTMLModel",
      "_view_count": null,
      "_view_module": "@jupyter-widgets/controls",
      "_view_module_version": "1.5.0",
      "_view_name": "HTMLView",
      "description": "",
      "description_tooltip": null,
      "layout": "IPY_MODEL_e0d25851a01942868ce5d5e4d76ad284",
      "placeholder": "​",
      "style": "IPY_MODEL_12257421e51e4a7a916880b5fb690d90",
      "value": " 39199/392632 [00:37&lt;04:27, 1320.28 examples/s]"
     }
    },
    "12257421e51e4a7a916880b5fb690d90": {
     "model_module": "@jupyter-widgets/controls",
     "model_module_version": "1.5.0",
     "model_name": "DescriptionStyleModel",
     "state": {
      "_model_module": "@jupyter-widgets/controls",
      "_model_module_version": "1.5.0",
      "_model_name": "DescriptionStyleModel",
      "_view_count": null,
      "_view_module": "@jupyter-widgets/base",
      "_view_module_version": "1.2.0",
      "_view_name": "StyleView",
      "description_width": ""
     }
    },
    "2719a96cddd74b32870d18f31f4ad293": {
     "model_module": "@jupyter-widgets/base",
     "model_module_version": "1.2.0",
     "model_name": "LayoutModel",
     "state": {
      "_model_module": "@jupyter-widgets/base",
      "_model_module_version": "1.2.0",
      "_model_name": "LayoutModel",
      "_view_count": null,
      "_view_module": "@jupyter-widgets/base",
      "_view_module_version": "1.2.0",
      "_view_name": "LayoutView",
      "align_content": null,
      "align_items": null,
      "align_self": null,
      "border": null,
      "bottom": null,
      "display": null,
      "flex": null,
      "flex_flow": null,
      "grid_area": null,
      "grid_auto_columns": null,
      "grid_auto_flow": null,
      "grid_auto_rows": null,
      "grid_column": null,
      "grid_gap": null,
      "grid_row": null,
      "grid_template_areas": null,
      "grid_template_columns": null,
      "grid_template_rows": null,
      "height": null,
      "justify_content": null,
      "justify_items": null,
      "left": null,
      "margin": null,
      "max_height": null,
      "max_width": null,
      "min_height": null,
      "min_width": null,
      "object_fit": null,
      "object_position": null,
      "order": null,
      "overflow": null,
      "overflow_x": null,
      "overflow_y": null,
      "padding": null,
      "right": null,
      "top": null,
      "visibility": null,
      "width": null
     }
    },
    "307746d700d34a94b2a5d2612ff2efb0": {
     "model_module": "@jupyter-widgets/base",
     "model_module_version": "1.2.0",
     "model_name": "LayoutModel",
     "state": {
      "_model_module": "@jupyter-widgets/base",
      "_model_module_version": "1.2.0",
      "_model_name": "LayoutModel",
      "_view_count": null,
      "_view_module": "@jupyter-widgets/base",
      "_view_module_version": "1.2.0",
      "_view_name": "LayoutView",
      "align_content": null,
      "align_items": null,
      "align_self": null,
      "border": null,
      "bottom": null,
      "display": null,
      "flex": null,
      "flex_flow": null,
      "grid_area": null,
      "grid_auto_columns": null,
      "grid_auto_flow": null,
      "grid_auto_rows": null,
      "grid_column": null,
      "grid_gap": null,
      "grid_row": null,
      "grid_template_areas": null,
      "grid_template_columns": null,
      "grid_template_rows": null,
      "height": null,
      "justify_content": null,
      "justify_items": null,
      "left": null,
      "margin": null,
      "max_height": null,
      "max_width": null,
      "min_height": null,
      "min_width": null,
      "object_fit": null,
      "object_position": null,
      "order": null,
      "overflow": null,
      "overflow_x": null,
      "overflow_y": null,
      "padding": null,
      "right": null,
      "top": null,
      "visibility": null,
      "width": null
     }
    },
    "642e89fcada04c16a34b469b21bf80c7": {
     "model_module": "@jupyter-widgets/controls",
     "model_module_version": "1.5.0",
     "model_name": "HBoxModel",
     "state": {
      "_dom_classes": [],
      "_model_module": "@jupyter-widgets/controls",
      "_model_module_version": "1.5.0",
      "_model_name": "HBoxModel",
      "_view_count": null,
      "_view_module": "@jupyter-widgets/controls",
      "_view_module_version": "1.5.0",
      "_view_name": "HBoxView",
      "box_style": "",
      "children": [
       "IPY_MODEL_66a71622ed53488ebabc61778e624b96",
       "IPY_MODEL_abf72b3336b14d82b59cfc42b91f4f41",
       "IPY_MODEL_067898ad433a455e8deb863494b7a428"
      ],
      "layout": "IPY_MODEL_2719a96cddd74b32870d18f31f4ad293"
     }
    },
    "64ff9a51f7264cb68d848f111b0e6857": {
     "model_module": "@jupyter-widgets/controls",
     "model_module_version": "1.5.0",
     "model_name": "DescriptionStyleModel",
     "state": {
      "_model_module": "@jupyter-widgets/controls",
      "_model_module_version": "1.5.0",
      "_model_name": "DescriptionStyleModel",
      "_view_count": null,
      "_view_module": "@jupyter-widgets/base",
      "_view_module_version": "1.2.0",
      "_view_name": "StyleView",
      "description_width": ""
     }
    },
    "66a71622ed53488ebabc61778e624b96": {
     "model_module": "@jupyter-widgets/controls",
     "model_module_version": "1.5.0",
     "model_name": "HTMLModel",
     "state": {
      "_dom_classes": [],
      "_model_module": "@jupyter-widgets/controls",
      "_model_module_version": "1.5.0",
      "_model_name": "HTMLModel",
      "_view_count": null,
      "_view_module": "@jupyter-widgets/controls",
      "_view_module_version": "1.5.0",
      "_view_name": "HTMLView",
      "description": "",
      "description_tooltip": null,
      "layout": "IPY_MODEL_b7403d3083e740208a18888a170f975e",
      "placeholder": "​",
      "style": "IPY_MODEL_64ff9a51f7264cb68d848f111b0e6857",
      "value": "Applying chat template (num_proc=8):  10%"
     }
    },
    "abf72b3336b14d82b59cfc42b91f4f41": {
     "model_module": "@jupyter-widgets/controls",
     "model_module_version": "1.5.0",
     "model_name": "FloatProgressModel",
     "state": {
      "_dom_classes": [],
      "_model_module": "@jupyter-widgets/controls",
      "_model_module_version": "1.5.0",
      "_model_name": "FloatProgressModel",
      "_view_count": null,
      "_view_module": "@jupyter-widgets/controls",
      "_view_module_version": "1.5.0",
      "_view_name": "ProgressView",
      "bar_style": "",
      "description": "",
      "description_tooltip": null,
      "layout": "IPY_MODEL_307746d700d34a94b2a5d2612ff2efb0",
      "max": 392632,
      "min": 0,
      "orientation": "horizontal",
      "style": "IPY_MODEL_024d4f026f184760a2f3b4eb2c624a95",
      "value": 39199
     }
    },
    "b7403d3083e740208a18888a170f975e": {
     "model_module": "@jupyter-widgets/base",
     "model_module_version": "1.2.0",
     "model_name": "LayoutModel",
     "state": {
      "_model_module": "@jupyter-widgets/base",
      "_model_module_version": "1.2.0",
      "_model_name": "LayoutModel",
      "_view_count": null,
      "_view_module": "@jupyter-widgets/base",
      "_view_module_version": "1.2.0",
      "_view_name": "LayoutView",
      "align_content": null,
      "align_items": null,
      "align_self": null,
      "border": null,
      "bottom": null,
      "display": null,
      "flex": null,
      "flex_flow": null,
      "grid_area": null,
      "grid_auto_columns": null,
      "grid_auto_flow": null,
      "grid_auto_rows": null,
      "grid_column": null,
      "grid_gap": null,
      "grid_row": null,
      "grid_template_areas": null,
      "grid_template_columns": null,
      "grid_template_rows": null,
      "height": null,
      "justify_content": null,
      "justify_items": null,
      "left": null,
      "margin": null,
      "max_height": null,
      "max_width": null,
      "min_height": null,
      "min_width": null,
      "object_fit": null,
      "object_position": null,
      "order": null,
      "overflow": null,
      "overflow_x": null,
      "overflow_y": null,
      "padding": null,
      "right": null,
      "top": null,
      "visibility": null,
      "width": null
     }
    },
    "e0d25851a01942868ce5d5e4d76ad284": {
     "model_module": "@jupyter-widgets/base",
     "model_module_version": "1.2.0",
     "model_name": "LayoutModel",
     "state": {
      "_model_module": "@jupyter-widgets/base",
      "_model_module_version": "1.2.0",
      "_model_name": "LayoutModel",
      "_view_count": null,
      "_view_module": "@jupyter-widgets/base",
      "_view_module_version": "1.2.0",
      "_view_name": "LayoutView",
      "align_content": null,
      "align_items": null,
      "align_self": null,
      "border": null,
      "bottom": null,
      "display": null,
      "flex": null,
      "flex_flow": null,
      "grid_area": null,
      "grid_auto_columns": null,
      "grid_auto_flow": null,
      "grid_auto_rows": null,
      "grid_column": null,
      "grid_gap": null,
      "grid_row": null,
      "grid_template_areas": null,
      "grid_template_columns": null,
      "grid_template_rows": null,
      "height": null,
      "justify_content": null,
      "justify_items": null,
      "left": null,
      "margin": null,
      "max_height": null,
      "max_width": null,
      "min_height": null,
      "min_width": null,
      "object_fit": null,
      "object_position": null,
      "order": null,
      "overflow": null,
      "overflow_x": null,
      "overflow_y": null,
      "padding": null,
      "right": null,
      "top": null,
      "visibility": null,
      "width": null
     }
    }
   }
  }
 },
 "nbformat": 4,
 "nbformat_minor": 4
}
