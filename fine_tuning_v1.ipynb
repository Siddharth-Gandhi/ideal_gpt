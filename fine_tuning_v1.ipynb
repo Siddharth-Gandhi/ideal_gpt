{
  "cells": [
    {
      "cell_type": "markdown",
      "source": [
        "# Imports"
      ],
      "metadata": {
        "id": "YUPM_w4HjJ3U"
      }
    },
    {
      "cell_type": "code",
      "execution_count": null,
      "metadata": {
        "id": "203bvpDsQLUW"
      },
      "outputs": [],
      "source": [
        "import math\n",
        "import numpy as np\n",
        "import os\n",
        "import torch\n",
        "import torch.nn as nn\n",
        "import torch.nn.functional as F\n",
        "import torch.backends.cudnn as cudnn\n",
        "import tiktoken\n",
        "from transformers import GPT2Tokenizer\n",
        "from torch.utils.data import Dataset, DataLoader\n",
        "from datasets import load_dataset, DatasetDict\n",
        "from torchsummaryX import summary\n",
        "import wandb\n",
        "from dataclasses import dataclass\n",
        "from tqdm import tqdm\n",
        "import re\n",
        "from multiprocessing import cpu_count\n",
        "import random\n",
        "import gc\n",
        "import pickle"
      ]
    },
    {
      "cell_type": "code",
      "execution_count": null,
      "metadata": {
        "id": "LovtcItVQLUX"
      },
      "outputs": [],
      "source": [
        "# set seeds\n",
        "torch.manual_seed(42)\n",
        "torch.cuda.manual_seed(42)\n",
        "torch.cuda.manual_seed_all(42)\n",
        "cudnn.deterministic = True\n",
        "cudnn.benchmark = False"
      ]
    },
    {
      "cell_type": "markdown",
      "source": [
        "# Load Data"
      ],
      "metadata": {
        "id": "T_H8zHj2Swll"
      }
    },
    {
      "cell_type": "code",
      "source": [
        "datasets_train = load_dataset(\"Shannnh/hw5-changed\", split = 'train')\n",
        "datasets_val = load_dataset(\"Shannnh/hw5-changed\", split = 'validation')\n",
        "datasets_test = load_dataset(\"Shannnh/hw5-changed\", split = 'test_ds')"
      ],
      "metadata": {
        "colab": {
          "base_uri": "https://localhost:8080/"
        },
        "id": "68u9am1JSzIX",
        "executionInfo": {
          "status": "ok",
          "timestamp": 1713737228773,
          "user_tz": 240,
          "elapsed": 8948,
          "user": {
            "displayName": "Shan",
            "userId": "15679072090177990254"
          }
        },
        "outputId": "cfd756e8-c679-422e-93c6-36e5446e6e74"
      },
      "execution_count": null,
      "outputs": [
        {
          "output_type": "stream",
          "name": "stderr",
          "text": [
            "/usr/local/lib/python3.10/dist-packages/huggingface_hub/utils/_token.py:89: UserWarning: \n",
            "The secret `HF_TOKEN` does not exist in your Colab secrets.\n",
            "To authenticate with the Hugging Face Hub, create a token in your settings tab (https://huggingface.co/settings/tokens), set it as secret in your Google Colab and restart your session.\n",
            "You will be able to reuse this secret in all of your notebooks.\n",
            "Please note that authentication is recommended but still optional to access public models or datasets.\n",
            "  warnings.warn(\n"
          ]
        }
      ]
    },
    {
      "cell_type": "code",
      "source": [
        "print(datasets_train[0].keys())\n",
        "print(len(datasets_train))\n",
        "print(len(datasets_val))\n",
        "print(len(datasets_test))"
      ],
      "metadata": {
        "colab": {
          "base_uri": "https://localhost:8080/"
        },
        "id": "m40ZM0re8-RR",
        "executionInfo": {
          "status": "ok",
          "timestamp": 1713737228773,
          "user_tz": 240,
          "elapsed": 4,
          "user": {
            "displayName": "Shan",
            "userId": "15679072090177990254"
          }
        },
        "outputId": "ed4bcfa8-4466-4905-b3d9-3c0cefea43f3"
      },
      "execution_count": null,
      "outputs": [
        {
          "output_type": "stream",
          "name": "stdout",
          "text": [
            "dict_keys(['Classifier', 'Prompt', 'Messages', 'PromptId'])\n",
            "392632\n",
            "27664\n",
            "15434\n"
          ]
        }
      ]
    },
    {
      "cell_type": "markdown",
      "metadata": {
        "id": "-849v2wQQLUX"
      },
      "source": [
        "# Hyperparameters"
      ]
    },
    {
      "cell_type": "code",
      "execution_count": null,
      "metadata": {
        "id": "Prz8c1bYQLUY",
        "outputId": "dc0d8f6d-c36b-4d60-93de-433d323a85bd",
        "colab": {
          "base_uri": "https://localhost:8080/"
        },
        "executionInfo": {
          "status": "ok",
          "timestamp": 1713762152628,
          "user_tz": 240,
          "elapsed": 172,
          "user": {
            "displayName": "",
            "userId": ""
          }
        }
      },
      "outputs": [
        {
          "output_type": "execute_result",
          "data": {
            "text/plain": [
              "IDeaLGPTConfig(batch_size=64, gradient_accumulation_steps=4, num_iters=10000, eval_iters=3, eval_interval=1000, device='cuda', sequence_length=256, vocab_size=50257, num_blocks=8, num_heads=8, embed_dim=512, dropout=0.1, bias=False, num_workers=8, train_test_split=0.8, SUBSET_PERCENTAGE=0.01, lr=0.002, lr_decay=True, warmup_iters=1000, min_lr=6e-06, weight_decay=0.1, grad_clip=1.0)"
            ]
          },
          "metadata": {},
          "execution_count": 3
        }
      ],
      "source": [
        "@dataclass\n",
        "class IDeaLGPTConfig:\n",
        "\n",
        "    # General\n",
        "    batch_size: int = 64\n",
        "    gradient_accumulation_steps: int = 4\n",
        "    num_iters: int = 10000\n",
        "    eval_iters: int = 3\n",
        "    eval_interval: int = 1000\n",
        "    device: str = 'cuda' if torch.cuda.is_available() else 'cpu'\n",
        "\n",
        "    # Model\n",
        "    sequence_length: int = 256\n",
        "    vocab_size: int = 50257 # gpt2 vocab\n",
        "    num_blocks: int = 8\n",
        "    num_heads: int = 8\n",
        "    embed_dim: int = 512\n",
        "    dropout: float = 0.1\n",
        "    bias: bool = False\n",
        "\n",
        "    # Data\n",
        "    num_workers: int = 8\n",
        "    train_test_split: float = 0.8\n",
        "    SUBSET_PERCENTAGE: float =0.01 # % of OWT to train on, between 0 and 1\n",
        "\n",
        "    # LR scheduler\n",
        "    lr: float = 2e-3\n",
        "    lr_decay: bool = True\n",
        "    warmup_iters: int = 1000\n",
        "    min_lr: float = 6e-6\n",
        "\n",
        "    # optimizer\n",
        "    weight_decay: float = 1e-1\n",
        "    grad_clip: float = 1.0\n",
        "\n",
        "\n",
        "config = IDeaLGPTConfig()\n",
        "device = config.device\n",
        "config"
      ]
    },
    {
      "cell_type": "code",
      "execution_count": null,
      "metadata": {
        "id": "4IkXs4hTQLUZ",
        "outputId": "8c90541f-2c77-403c-90fe-b7a5ba515956"
      },
      "outputs": [
        {
          "name": "stdout",
          "output_type": "stream",
          "text": [
            "Effective batch size = 256\n"
          ]
        }
      ],
      "source": [
        "print(f'Effective batch size = {config.batch_size * config.gradient_accumulation_steps}')"
      ]
    },
    {
      "cell_type": "markdown",
      "metadata": {
        "id": "l6FXk8H1QLUZ"
      },
      "source": [
        "# Loading Data and Preprocessing"
      ]
    },
    {
      "cell_type": "code",
      "execution_count": null,
      "metadata": {
        "id": "FF87zNglQLUZ"
      },
      "outputs": [],
      "source": [
        "# hf_dataset = load_dataset(\"Skylion007/openwebtext\", split='train') # only has one split - train\n",
        "# hf_dataset = hf_dataset.with_format(\"torch\")\n",
        "# hf_dataset"
      ]
    },
    {
      "cell_type": "code",
      "execution_count": null,
      "metadata": {
        "id": "Z-UOmFJFQLUZ"
      },
      "outputs": [],
      "source": [
        "# # data = dataset['train'].shuffle(seed=42).select(range(int(len(dataset['train']) * SUBSET_PERCENTAGE)))\n",
        "# # hf_dataset = hf_dataset.select(range(int(len(hf_dataset) * config.SUBSET_PERCENTAGE)))\n",
        "# hf_dataset = hf_dataset.train_test_split(train_size=config.train_test_split)\n",
        "# hf_dataset"
      ]
    },
    {
      "cell_type": "code",
      "execution_count": null,
      "metadata": {
        "id": "0DljsEgbQLUZ"
      },
      "outputs": [],
      "source": [
        "# train_hf_dataset, val_hf_dataset = hf_dataset['train'], hf_dataset['test']"
      ]
    },
    {
      "cell_type": "markdown",
      "metadata": {
        "id": "1bKU7Y-6QLUZ"
      },
      "source": [
        "## Tokenizer - OpenAI tiktoken (changed to GPT2Tokenizer)"
      ]
    },
    {
      "cell_type": "code",
      "source": [
        "# having a problem that the messages token are usually longer than 256, especially for\n",
        "# summarization task"
      ],
      "metadata": {
        "id": "uKZN3a6jnnYV"
      },
      "execution_count": null,
      "outputs": []
    },
    {
      "cell_type": "code",
      "execution_count": null,
      "metadata": {
        "colab": {
          "base_uri": "https://localhost:8080/"
        },
        "id": "YvwoPFbiQLUZ",
        "executionInfo": {
          "status": "ok",
          "timestamp": 1713762159958,
          "user_tz": 240,
          "elapsed": 2584,
          "user": {
            "displayName": "",
            "userId": ""
          }
        },
        "outputId": "68b2653d-22a1-4168-93ad-5f6701af9a0b"
      },
      "outputs": [
        {
          "output_type": "stream",
          "name": "stderr",
          "text": [
            "/usr/local/lib/python3.10/dist-packages/huggingface_hub/utils/_token.py:89: UserWarning: \n",
            "The secret `HF_TOKEN` does not exist in your Colab secrets.\n",
            "To authenticate with the Hugging Face Hub, create a token in your settings tab (https://huggingface.co/settings/tokens), set it as secret in your Google Colab and restart your session.\n",
            "You will be able to reuse this secret in all of your notebooks.\n",
            "Please note that authentication is recommended but still optional to access public models or datasets.\n",
            "  warnings.warn(\n"
          ]
        },
        {
          "output_type": "execute_result",
          "data": {
            "text/plain": [
              "[31373, 995]"
            ]
          },
          "metadata": {},
          "execution_count": 4
        }
      ],
      "source": [
        "#tokenizer = tiktoken.get_encoding(\"cl100k_base\") # gpt4 tokenizer - NOTE: need to change vocab_size in config if used\n",
        "#tokenizer = tiktoken.encoding_for_model('gpt-2')\n",
        "tokenizer = GPT2Tokenizer.from_pretrained('gpt2')\n",
        "tokenizer.encode('hello world')\n"
      ]
    },
    {
      "cell_type": "code",
      "source": [
        "tokenizer.model_max_length = config.sequence_length"
      ],
      "metadata": {
        "id": "bsUdOVMmjFJ1"
      },
      "execution_count": null,
      "outputs": []
    },
    {
      "cell_type": "code",
      "source": [
        "tokenizer.pad_token_id"
      ],
      "metadata": {
        "colab": {
          "base_uri": "https://localhost:8080/"
        },
        "id": "h_0F5g1T81XC",
        "executionInfo": {
          "status": "ok",
          "timestamp": 1713741459930,
          "user_tz": 240,
          "elapsed": 139,
          "user": {
            "displayName": "Shan",
            "userId": "15679072090177990254"
          }
        },
        "outputId": "e6ad6175-83e6-49ac-d906-240992c9ca04"
      },
      "execution_count": null,
      "outputs": [
        {
          "output_type": "execute_result",
          "data": {
            "text/plain": [
              "50256"
            ]
          },
          "metadata": {},
          "execution_count": 20
        }
      ]
    },
    {
      "cell_type": "code",
      "source": [
        "vocab_size = tokenizer.vocab_size #same as tiktoken\n",
        "vocab_size"
      ],
      "metadata": {
        "colab": {
          "base_uri": "https://localhost:8080/"
        },
        "id": "OAqwxz2xzasy",
        "executionInfo": {
          "status": "ok",
          "timestamp": 1713737297975,
          "user_tz": 240,
          "elapsed": 124,
          "user": {
            "displayName": "Shan",
            "userId": "15679072090177990254"
          }
        },
        "outputId": "e4b51862-8346-4edd-d880-2d2444d6655e"
      },
      "execution_count": null,
      "outputs": [
        {
          "output_type": "execute_result",
          "data": {
            "text/plain": [
              "50257"
            ]
          },
          "metadata": {},
          "execution_count": 8
        }
      ]
    },
    {
      "cell_type": "code",
      "source": [
        "# check dataset\n",
        "example = datasets_train[0]\n",
        "messages = example[\"Messages\"]\n",
        "for message in messages:\n",
        "  role = message[\"role\"]\n",
        "  content = message[\"content\"]\n",
        "  print('{0:20}:  {1}'.format(role, content))"
      ],
      "metadata": {
        "colab": {
          "base_uri": "https://localhost:8080/"
        },
        "id": "N6tJzc3NsgDJ",
        "executionInfo": {
          "status": "ok",
          "timestamp": 1713720531196,
          "user_tz": 240,
          "elapsed": 145,
          "user": {
            "displayName": "Shan",
            "userId": "15679072090177990254"
          }
        },
        "outputId": "92ba0cc1-36a6-4d1b-d456-266c8f202313"
      },
      "execution_count": null,
      "outputs": [
        {
          "output_type": "stream",
          "name": "stdout",
          "text": [
            "system              :  \n",
            "user                :  Summarize the following CNN article:\n",
            "LONDON, England (Reuters) -- Harry Potter star Daniel Radcliffe gains access to a reported £20 million ($41.1 million) fortune as he turns 18 on Monday, but he insists the money won't cast a spell on him. Daniel Radcliffe as Harry Potter in \"Harry Potter and the Order of the Phoenix\" To the disappointment of gossip columnists around the world, the young actor says he has no plans to fritter his cash away on fast cars, drink and celebrity parties. \"I don't plan to be one of those people who, as soon as they turn 18, suddenly buy themselves a massive sports car collection or something similar,\" he told an Australian interviewer earlier this month. \"I don't think I'll be particularly extravagant. \"The things I like buying are things that cost about 10 pounds -- books and CDs and DVDs.\" At 18, Radcliffe will be able to gamble in a casino, buy a drink in a pub or see the horror film \"Hostel: Part II,\" currently six places below his number one movie on the UK box office chart. Details of how he'll mark his landmark birthday are under wraps. His agent and publicist had no comment on his plans. \"I'll definitely have some sort of party,\" he said in an interview. \"Hopefully none of you will be reading about it.\" Radcliffe's earnings from the first five Potter films have been held in a trust fund which he has not been able to touch. Despite his growing fame and riches, the actor says he is keeping his feet firmly on the ground. \"People are always looking to say 'kid star goes off the rails,'\" he told reporters last month. \"But I try very hard not to go that way because it would be too easy for them.\" His latest outing as the boy wizard in \"Harry Potter and the Order of the Phoenix\" is breaking records on both sides of the Atlantic and he will reprise the role in the last two films.  Watch I-Reporter give her review of Potter's latest » . There is life beyond Potter, however. The Londoner has filmed a TV movie called \"My Boy Jack,\" about author Rudyard Kipling and his son, due for release later this year. He will also appear in \"December Boys,\" an Australian film about four boys who escape an orphanage. Earlier this year, he made his stage debut playing a tortured teenager in Peter Shaffer's \"Equus.\" Meanwhile, he is braced for even closer media scrutiny now that he's legally an adult: \"I just think I'm going to be more sort of fair game,\" he told Reuters. E-mail to a friend . Copyright 2007 Reuters. All rights reserved.This material may not be published, broadcast, rewritten, or redistributed.\n",
            "assistant           :  Harry Potter star Daniel Radcliffe gets £20M fortune as he turns 18 Monday .\n",
            "Young actor says he has no plans to fritter his cash away .\n",
            "Radcliffe's earnings from first five Potter films have been held in trust fund .\n"
          ]
        }
      ]
    },
    {
      "cell_type": "code",
      "source": [
        "# set pad_token_id equal to the eos_token_id if not set\n",
        "if tokenizer.pad_token_id is None:\n",
        "    tokenizer.pad_token_id = tokenizer.eos_token_id"
      ],
      "metadata": {
        "id": "lFDoKw26tevh"
      },
      "execution_count": null,
      "outputs": []
    },
    {
      "cell_type": "code",
      "source": [
        "DEFAULT_CHAT_TEMPLATE = \"{% for message in messages %}\\n{% if message['role'] == 'user' %}\\n{{ '<|user|>\\n' + message['content'] + eos_token }}\\n{% elif message['role'] == 'system' %}\\n{{ '<|system|>\\n' + message['content'] + eos_token }}\\n{% elif message['role'] == 'assistant' %}\\n{{ '<|assistant|>\\n'  + message['content'] + eos_token }}\\n{% endif %}\\n{% if loop.last and add_generation_prompt %}\\n{{ '<|assistant|>' }}\\n{% endif %}\\n{% endfor %}\"\n",
        "tokenizer.chat_template = DEFAULT_CHAT_TEMPLATE\n"
      ],
      "metadata": {
        "id": "ZcD3xq9d1PvS"
      },
      "execution_count": null,
      "outputs": []
    },
    {
      "cell_type": "code",
      "source": [
        "def apply_chat_template(example, tokenizer):\n",
        "    messages = example[\"Messages\"]\n",
        "    #\n",
        "    example[\"text\"] = tokenizer.apply_chat_template(messages, tokenize=False, max_length=config.sequence_length, truncation=True)\n",
        "    example[\"tokens\"] = tokenizer.apply_chat_template(messages, tokenize=True, max_length=config.sequence_length, truncation=True)\n",
        "    return example\n",
        "\n",
        "column_names = list(datasets_train.features)\n",
        "datasets_train = datasets_train.map(apply_chat_template,\n",
        "                                num_proc=cpu_count(),\n",
        "                                fn_kwargs={\"tokenizer\": tokenizer},\n",
        "                                remove_columns=column_names,\n",
        "                                desc=\"Applying chat template\")\n",
        "datasets_val = datasets_val.map(apply_chat_template,\n",
        "                                num_proc=cpu_count(),\n",
        "                                fn_kwargs={\"tokenizer\": tokenizer},\n",
        "                                remove_columns=column_names,\n",
        "                                desc=\"Applying chat template\")\n",
        "datasets_test = datasets_test.map(apply_chat_template,\n",
        "                                num_proc=cpu_count(),\n",
        "                                fn_kwargs={\"tokenizer\": tokenizer},\n",
        "                                remove_columns=column_names,\n",
        "                                desc=\"Applying chat template\")\n",
        "\n"
      ],
      "metadata": {
        "colab": {
          "base_uri": "https://localhost:8080/",
          "height": 197,
          "referenced_widgets": [
            "d5b2e77372e147bcacda4e1179f57d6b",
            "77c8bf7ee73e4696a37c09382272b4e2",
            "fdf7d368d1154c1f9f100480f0da440d",
            "0debb921037e4c09910c31eaec318d91",
            "a0a23eb405f34f52846bbac7a40ba109",
            "479a1478976640c0a70b0e2283acee9b",
            "2c31140123114040bf59baa8b06a15c8",
            "dc2fa581021d49fe8ff3dc0cd8b475d2",
            "7fc7fc18e30a4a8093af4c60f6f69069",
            "a42f864ac708452090e74d42b51a8691",
            "17981f150b774d6988375b2fafe4126c",
            "964dbb32bb6045f5a4d29e3c9157b021",
            "4051ca5a04d54a4ba277946cddf138ce",
            "bfa2f3867be14dcbb63fcf112b742edc",
            "0360c11f103142e2b4b262c0e5478170",
            "861e0d413a8f4026b9f7956922164604",
            "06fae07fe71048658dbd12a6dc7230bd",
            "dd852c90205d42bd831c294553bf3b06",
            "215d2adef20f4f088ee1df57b49df6f4",
            "5d0f1d8b1fc44470885397fc8a20021d",
            "ea61751151f64baabbd5c61e402e848a",
            "2e1ed851954e4d21b91fc37f9cac8d4e",
            "a28a00f459c64105807b0287d7289fd6",
            "b0c87c185b5b4ab59c8b27e5132c598d",
            "b259b06dc87d4e4a9b358edb9cf8e1c6",
            "681a662071294c73aa13764d3aed3dd2",
            "67f5114594c1404db20a2e00d3eeb8f3",
            "bbf9f21a9c344f26bf6ba905dc385fb9",
            "41070fd8ea434d06ad5e916738ef5d4c",
            "8573250e46724dcda4b66d3f7671ce6c",
            "28a002cc69f94a99815bdf0d13ee7fcd",
            "8bd44f411acf47b4adad146eede59596",
            "05e50abc2c6e461b9108cbded708d705"
          ]
        },
        "id": "MbRQjaafylLA",
        "executionInfo": {
          "status": "ok",
          "timestamp": 1713738748441,
          "user_tz": 240,
          "elapsed": 1433033,
          "user": {
            "displayName": "Shan",
            "userId": "15679072090177990254"
          }
        },
        "outputId": "823e7baa-6ad4-4eaa-b0fa-0ee2c97ae4ca"
      },
      "execution_count": null,
      "outputs": [
        {
          "output_type": "display_data",
          "data": {
            "text/plain": [
              "Applying chat template (num_proc=4):   0%|          | 0/392632 [00:00<?, ? examples/s]"
            ],
            "application/vnd.jupyter.widget-view+json": {
              "version_major": 2,
              "version_minor": 0,
              "model_id": "d5b2e77372e147bcacda4e1179f57d6b"
            }
          },
          "metadata": {}
        },
        {
          "output_type": "display_data",
          "data": {
            "text/plain": [
              "Applying chat template (num_proc=4):   0%|          | 0/27664 [00:00<?, ? examples/s]"
            ],
            "application/vnd.jupyter.widget-view+json": {
              "version_major": 2,
              "version_minor": 0,
              "model_id": "964dbb32bb6045f5a4d29e3c9157b021"
            }
          },
          "metadata": {}
        },
        {
          "output_type": "display_data",
          "data": {
            "text/plain": [
              "Applying chat template (num_proc=4):   0%|          | 0/15434 [00:00<?, ? examples/s]"
            ],
            "application/vnd.jupyter.widget-view+json": {
              "version_major": 2,
              "version_minor": 0,
              "model_id": "a28a00f459c64105807b0287d7289fd6"
            }
          },
          "metadata": {}
        }
      ]
    },
    {
      "cell_type": "code",
      "source": [
        "# what's in datasets now\n",
        "# datasets_train : [{'text':'abcd','tokens':[1,2,3]},{'text':'bcd','tokens':[2,3]},...]\n",
        "for index in random.sample(range(len(datasets_train)), 2):\n",
        "    print(f\"Sample {index} of the processed training set:\\n\\n{datasets_train[index]['text']}\")\n",
        "    print(f\"token: {datasets_train[index]['tokens']}\")\n",
        "    print(f\"sample length: {len(datasets_train[index]['text'])}\")\n",
        "    print(f\"token length:{len(tokenizer.encode(datasets_train[index]['text']))}\")"
      ],
      "metadata": {
        "colab": {
          "base_uri": "https://localhost:8080/"
        },
        "id": "rPgMqZiO4bae",
        "executionInfo": {
          "status": "ok",
          "timestamp": 1713738986098,
          "user_tz": 240,
          "elapsed": 147,
          "user": {
            "displayName": "Shan",
            "userId": "15679072090177990254"
          }
        },
        "outputId": "62aaf58b-ee11-4419-cdb4-6085795bdf55"
      },
      "execution_count": null,
      "outputs": [
        {
          "output_type": "stream",
          "name": "stderr",
          "text": [
            "Token indices sequence length is longer than the specified maximum sequence length for this model (1757 > 256). Running this sequence through the model will result in indexing errors\n"
          ]
        },
        {
          "output_type": "stream",
          "name": "stdout",
          "text": [
            "Sample 389846 of the processed training set:\n",
            "\n",
            "<|system|>\n",
            "<|endoftext|>\n",
            "<|user|>\n",
            "Recognize the named entities from the sentence:\n",
            "He also reportedly criticised Russian Foreign Minister Yevgeny Primakov , saying his style of work resembled that of the Soviet-era 1970s and 1980s .<|endoftext|>\n",
            "<|assistant|>\n",
            "Russian:B-MISC,Yevgeny:B-PER,Primakov:I-PER,Soviet-era:B-MISC<|endoftext|>\n",
            "\n",
            "token: [27, 91, 10057, 91, 29, 198, 50256, 198, 27, 91, 7220, 91, 29, 198, 6690, 2360, 1096, 262, 3706, 12066, 422, 262, 6827, 25, 198, 1544, 635, 7478, 23894, 3394, 8708, 4139, 575, 1990, 5235, 88, 11460, 44715, 837, 2282, 465, 3918, 286, 670, 37657, 326, 286, 262, 7570, 12, 8607, 8069, 82, 290, 7169, 82, 764, 50256, 198, 27, 91, 562, 10167, 91, 29, 198, 16220, 25, 33, 12, 44, 37719, 11, 56, 1990, 5235, 88, 25, 33, 12, 18973, 11, 23828, 44715, 25, 40, 12, 18973, 11, 40408, 12, 8607, 25, 33, 12, 44, 37719, 50256, 198]\n",
            "sample length: 334\n",
            "token length:99\n",
            "Sample 169254 of the processed training set:\n",
            "\n",
            "<|system|>\n",
            "<|endoftext|>\n",
            "<|user|>\n",
            "Summarize the following CNN article:\n",
            "By . Travelmail Reporter . The boss of the events company that organised a bar crawl during which a teenager was filmed performing a sex act on 24 men has said he will not apologise to the woman's family. Paul Smith, from London, head of Carnage Events Magalluf, defended his pub crawls saying that he had no 'moral responsibility' for the British woman's actions - and said she should be spoken to by her parents. Smith held a press conference at one of his bars in Magaluf today - blaming the Northern Irish teenager's actions on her 'upbringing'. Scroll down for video . Paul Smith (right), who runs Carnage Magalluf, defended his pub crawls saying that he had no 'moral responsibility' for the actions of a British woman (left) who performed a sex act on 24 men at one of the events . Crack down: New rules affect bar crawls in Magaluf after controversy surrounding sex act video (file photo) He said of the video, which was posted on YouTube and went viral last week: 'I was disgusted by it. Disgusted by the young lady who was doing it. 'I can't say that my reps encouraged that as that's not what happened. 'She should be spoken to by her parents. It's something to do with her upbringing. Asked whether he felt any responsibility, Smith told 5 News: 'I've no moral responsibility for this – I wasn’t even fully aware of it at the time. 'The . girl involved even bought a ticket for the following night’s Carnage . tour. Carnage didn’t encourage her, so why should I apologise? 'We’re giving memories of Magaluf, that’s all.' Sitting with his lawyer, Mateo Canes, Smith continued: 'It was wrong for it . to have happened – I made a mistake, but I’m only human and I work hard . for what I’ve got. 'So we’ll be taking action so nothing like . this happens again. There’ll be more security… that sort of thing. I . don’t want to lose my licence, so there will definitely be changes. 'And there needs to be more control of Magaluf.' Smith's comments comes as a new law was passed cracking down on bar crawls in the Spanish party town. Party capital: The 18-year-old blonde, from Northern Ireland, was captured on video working her way through holidaymakers at a nightclub in the island's notorious party capital of Magaluf (pictured) New legislation unveiled today limits to 50 the number of holidaymakers permitted on bar crawls in the popular resort of Magaluf. The mayor of Calvia, the region which includes Magaluf and five other resorts popular with Britons, said today he had passed a law 'giving us tighter control over the operation of pub crawl organisers'. Carnage Magalluf was set up two years ago. The entertainment and events company runs boat parties, ‘celebrity’ pool parties (featuring reality TV stars from shows such as The Only Way Is Essex) and bar crawls. The infamous 'Carnage' bar crawls are run three times a week along Punta Ballena - the main strip through Magaluf. On average, there are 200 British youngsters on these bar crawls, including many who have just finished their A-levels. They pay around £25 a head to join the bar crawl — meaning Carnage takes about £5,000 a night, and £15,000 a week. Those taking part are provided with 'Carnage' branded t-shirts which are emblazoned with slogans such as ‘Snog A Passer-by’ and ‘Have A Lapdance’. Carnage Magalluf, which was set up by two brothers from London, is not linked to Carnage UK - the company behind notorious student party nights in Britain. Manuel Onieva also said a police . investigation had started into last week's incident, adding that he . wished to 'express my total rejection and anger at the activities which . were carried out in a video which is currently on the social media . circuit'. He added: 'Companies operating pub crawls in Calvia now have to apply for a licence through the town hall. 'They have to prove their responsibility and show that they have the appropriate civil insurances in place. 'Each pub crawl guide will have to wear a specific jacket so local police can monitor those operating in the region and identify those that have been approved. 'Pub crawl groups can now not exceed more than 50 people and if any operators exceed this legal capacity, they will be fined.' The pub crawl was organised Carnage . Magalluf which describes itself on its website as the 'leader in . Magalluf party entertainment [sic]'. The company advertises a three-event package for £79.99 including 'barcrawl, boat party and jungle sessions'. The . bar crawl is a four-nights-a-week event which includes 'four hours of . unlimited drinking, four hours of unlimited free shots and a free . Carnage vest/T-shirt'. It has been reported that the Magaluf pub crawls have around 200 British youngsters on them, including many who have just finished their A-levels. The Calvia region, which also includes the resort of Palma Nova, is visited by between 1.6 million and 2 million visitors a year, of whom around one million are Britons. British visits to the region are worth an estimated £640m a year to the local economy. British youngsters take part in the 'Carnage Bar Crawl' in the Spanish resort of Magaluf . Carnage Magaluf - which is not linked to Carnage UK, the company behind notorious student party nights in Britain - was set up two years ago and runs boat parties, 'celebrity' pool parties (featuring reality TV stars from such shows as The Only Way Is Essex) and bar crawls . Danny Daly (above) is believed to have set up Carnage Events Magalluf with his brother John . Danny Daly and his brother John are believed to be the men behind the controversial Carnage Magalluf company. The brothers, who are both married with young children, are thought to have set up the operation two years ago after moving to Majorca from the East End of London. Despite living in Santa Ponsa, Majorca (about a ten-minute drive from Magaluf) for around 20 years, they decided to set up the events and entertainment company in 2012. As well as Carnage Magalluf, they also have at least two bars in the resort: EastEnders and Magaluf Rocks. Needless to say, both are on the Carnage bar crawl itinerary. They also own a lap-dancing club called Pure, where Danny Daly was spotted emerging recently, plus two of Magaluf’s biggest hotels, the TRH Torrenova and Palmanova, which means the Dalys have more than 3,000 guests a week. By any reckoning, the brothers are among the most powerful figures in Magaluf. The pair are said to make around £15,000 a week from the Carnage bar crawl alone and reportedly spend their winters at holiday homes in the Bahamas. Despite Carnage Magalluf describing itself on its website as the ‘leader in Magaluf party entertainment’, in contrast, the Dalys are men who prefer to stay behind the scenes. They never give interviews and the one and only picture of Danny Daly on Facebook — where he is wearing a branded Carnage t-shirt — has now been taken down. Danny and John Daly’s right-hand man is believed to be Alan Collinson, 28. He is reportedly paid well enough to afford to rent a luxury villa, with a swimming pool, on the outskirts of Magaluf. A tattooed kickboxer from Hartlepool, Collinson was investigated by Spanish police for allegedly attacking four members of a stag do — leaving two with broken jaws — on a Carnage crawl in May.<|endoftext|>\n",
            "<|assistant|>\n",
            "Carnage Magalluf boss speaks as Majorca passes new legislation .\n",
            "Says he had no 'moral responsibility' for British woman's actions .\n",
            "New law gives authorities 'tighter control' over pub crawl organisers .\n",
            "Companies will be fined if they breach new rules outlined by mayor .<|endoftext|>\n",
            "\n",
            "token: [27, 91, 10057, 91, 29, 198, 50256, 198, 27, 91, 7220, 91, 29, 198, 13065, 3876, 1096, 262, 1708, 8100, 2708, 25, 198, 3886, 764, 13524, 4529, 25869, 764, 383, 6478, 286, 262, 2995, 1664, 326, 20325, 257, 2318, 27318, 1141, 543, 257, 15287, 373, 18976, 9489, 257, 1714, 719, 319, 1987, 1450, 468, 531, 339, 481, 407, 39012, 284, 262, 2415, 338, 1641, 13, 3362, 4176, 11, 422, 3576, 11, 1182, 286, 44177, 18715, 2944, 439, 3046, 11, 13768, 465, 2240, 27784, 7278, 2282, 326, 339, 550, 645, 705, 41996, 5798, 6, 329, 262, 3517, 2415, 338, 4028, 532, 290, 531, 673, 815, 307, 9635, 284, 416, 607, 3397, 13, 4176, 2714, 257, 1803, 4495, 379, 530, 286, 465, 9210, 287, 2944, 282, 3046, 1909, 532, 24630, 262, 8342, 8685, 15287, 338, 4028, 319, 607, 705, 929, 35749, 4458, 17428, 866, 329, 2008, 764, 3362, 4176, 357, 3506, 828, 508, 4539, 44177, 2944, 439, 3046, 11, 13768, 465, 2240, 27784, 7278, 2282, 326, 339, 550, 645, 705, 41996, 5798, 6, 329, 262, 4028, 286, 257, 3517, 2415, 357, 9464, 8, 508, 6157, 257, 1714, 719, 319, 1987, 1450, 379, 530, 286, 262, 2995, 764, 46180, 866, 25, 968, 3173, 2689, 2318, 27784, 7278, 287, 2944, 282, 3046, 706, 10386, 7346, 1714, 719, 2008, 357, 7753, 4590, 8, 679, 531, 286, 262, 2008, 11, 543, 373, 4481, 319, 7444, 290, 1816, 14416, 938, 1285, 25, 705, 40, 373, 36943, 416, 340, 13, 3167, 70, 8459, 416, 262, 1862, 10846, 508, 373, 1804, 340, 13, 705, 40]\n",
            "sample length: 7647\n",
            "token length:1757\n"
          ]
        }
      ]
    },
    {
      "cell_type": "code",
      "source": [
        "torch.cuda.empty_cache()\n",
        "gc.collect()"
      ],
      "metadata": {
        "colab": {
          "base_uri": "https://localhost:8080/"
        },
        "id": "jg0MOKomarrU",
        "executionInfo": {
          "status": "ok",
          "timestamp": 1713745281737,
          "user_tz": 240,
          "elapsed": 138,
          "user": {
            "displayName": "Shan",
            "userId": "15679072090177990254"
          }
        },
        "outputId": "44c91645-3632-4686-9eca-fcc30fc2c899"
      },
      "execution_count": null,
      "outputs": [
        {
          "output_type": "execute_result",
          "data": {
            "text/plain": [
              "229"
            ]
          },
          "metadata": {},
          "execution_count": 37
        }
      ]
    },
    {
      "cell_type": "code",
      "source": [
        "# save dataset\n",
        "\n",
        "def save_dataset(dataset, filename):\n",
        "    with open(filename, 'wb') as f:\n",
        "        pickle.dump(dataset, f)\n",
        "save_dataset(datasets_train, '/content/hw5/train.bin')\n",
        "save_dataset(datasets_val, '/content/hw5/val.bin')\n",
        "save_dataset(datasets_test, '/content/hw5/test.bin')"
      ],
      "metadata": {
        "id": "hrfc-IpwOrFY"
      },
      "execution_count": null,
      "outputs": []
    },
    {
      "cell_type": "markdown",
      "metadata": {
        "id": "AghJe4bCQLUa"
      },
      "source": [
        "## Pytorch Dataset"
      ]
    },
    {
      "cell_type": "code",
      "source": [
        "class TrainDataset(Dataset):\n",
        "    def __init__(self, root_dir, split):\n",
        "        \"\"\"\n",
        "        Args:\n",
        "            root_dir (str): Dataset root directory containing the data files.\n",
        "        \"\"\"\n",
        "        file_path = os.path.join(root_dir, \"train.bin\") if split == 'train' else os.path.join(root_dir, \"val.bin\")\n",
        "        with open(file_path, 'rb') as f:\n",
        "            data = pickle.load(f)\n",
        "        self.data = data\n",
        "\n",
        "    def __len__(self):\n",
        "        return len(self.data)\n",
        "\n",
        "    def __getitem__(self, idx):\n",
        "        sample = self.data[idx]\n",
        "        tokens = sample['tokens']\n",
        "\n",
        "        if len(tokens) < config.sequence_length + 1:\n",
        "            padded_tokens = np.pad(tokens, (0, config.sequence_length + 1 - len(tokens)), 'constant', constant_values=tokenizer.pad_token_id)\n",
        "        else:\n",
        "            padded_tokens = tokens[:config.sequence_length + 1]\n",
        "\n",
        "        xb = torch.tensor(padded_tokens[:-1], dtype=torch.int64)\n",
        "        yb = torch.tensor(padded_tokens[1:], dtype=torch.int64)\n",
        "        return xb, yb\n"
      ],
      "metadata": {
        "id": "sTYPPcyx6OtP"
      },
      "execution_count": null,
      "outputs": []
    },
    {
      "cell_type": "code",
      "source": [
        "class TestDataset(Dataset):\n",
        "    def __init__(self, root_dir):\n",
        "        \"\"\"\n",
        "        Args:\n",
        "            root_dir (str): Dataset root directory containing the data files.\n",
        "        \"\"\"\n",
        "        file_path = os.path.join(root_dir, \"test.bin\")\n",
        "        with open(file_path, 'rb') as f:\n",
        "            data = pickle.load(f)\n",
        "        self.data = data\n",
        "\n",
        "    def __len__(self):\n",
        "        return len(self.data)\n",
        "\n",
        "    def __getitem__(self, idx):\n",
        "        sample = self.data[idx]\n",
        "        tokens = sample['tokens']\n",
        "        if len(tokens) < config.sequence_length + 1:\n",
        "            padded_tokens = np.pad(tokens, (0, config.sequence_length + 1 - len(tokens)), 'constant', constant_values=tokenizer.pad_token_id)\n",
        "        else:\n",
        "            padded_tokens = tokens[:config.sequence_length + 1]\n",
        "\n",
        "        xb = torch.tensor(padded_tokens[:-1], dtype=torch.int64)\n",
        "        return xb\n"
      ],
      "metadata": {
        "id": "XQJEY7Ye_v9t"
      },
      "execution_count": null,
      "outputs": []
    },
    {
      "cell_type": "markdown",
      "metadata": {
        "id": "Y3HIbJmBQLUa"
      },
      "source": [
        "## Dataloader"
      ]
    },
    {
      "cell_type": "code",
      "execution_count": null,
      "metadata": {
        "id": "y8HvMPG8QLUa"
      },
      "outputs": [],
      "source": [
        "# train_loader = DataLoader(train_dataset, batch_size=config.batch_size, shuffle=True, num_workers=1)\n",
        "# val_loader = DataLoader(val_dataset, batch_size=config.batch_size, shuffle=True, num_workers=config.num_workers)"
      ]
    },
    {
      "cell_type": "code",
      "execution_count": null,
      "metadata": {
        "scrolled": true,
        "id": "zI90SEqFQLUb"
      },
      "outputs": [],
      "source": [
        "# for x, y in train_loader:\n",
        "#     print(x.shape, y.shape)\n",
        "#     break"
      ]
    },
    {
      "cell_type": "code",
      "execution_count": null,
      "metadata": {
        "id": "q5oYgzrkQLUb"
      },
      "outputs": [],
      "source": [
        "'''\n",
        "# poor man's dataloader\n",
        "# but actual motivation is - im too lazy to write and deal with pad tokens in above method to read data\n",
        "# since there are documents which are less than sequence length and they mess up the batch\n",
        "# this method is cleaner, i get to learn something new (np.memmap!) and it's fun!\n",
        "\n",
        "data_dir = os.path.join('data', 'owt')\n",
        "\n",
        "def get_batch(split):\n",
        "    file_path = os.path.join(data_dir, 'val' if split == 'val.bin' else 'train.bin')\n",
        "    # memmap allows to read huge .bin files without loading entire thing. magic?\n",
        "    data = np.memmap(file_path, mode='r', dtype=np.uint16) # fp16?\n",
        "    idx = torch.randint(len(data) - config.sequence_length, (config.batch_size, ))\n",
        "    xb = torch.stack([torch.from_numpy(data[i:i+config.sequence_length].astype(np.int64)) for i in idx], dim=0)\n",
        "    yb = torch.stack([torch.from_numpy(data[i+1:i+config.sequence_length+1].astype(np.int64)) for i in idx], dim=0)\n",
        "    if device == 'cuda':\n",
        "        # pin_memory is an optimization to reserve some space in cpu mem which is used for moving to gpu\n",
        "        # reduces overhead -> increases perf\n",
        "        # non_blocking = True is async data transfer\n",
        "        xb, yb = xb.pin_memory().to(device, non_blocking=True), yb.pin_memory().to(device, non_blocking=True)\n",
        "    return xb, yb\n",
        "'''"
      ]
    },
    {
      "cell_type": "code",
      "source": [
        "\n",
        "DATA_DIR        = '/content/hw5/'\n",
        "\n",
        "train_dataset   = TrainDataset(\n",
        "    root_dir    = DATA_DIR,\n",
        "    split   = \"train\"\n",
        ")\n",
        "\n",
        "val_dataset     = TrainDataset(\n",
        "    root_dir    = DATA_DIR,\n",
        "    split   = \"val\"\n",
        ")\n",
        "\n",
        "test_dataset    = TestDataset(\n",
        "    root_dir    = DATA_DIR\n",
        ")\n",
        "gc.collect()\n"
      ],
      "metadata": {
        "colab": {
          "base_uri": "https://localhost:8080/"
        },
        "id": "DXmyEb8b9PyQ",
        "executionInfo": {
          "status": "ok",
          "timestamp": 1713762193739,
          "user_tz": 240,
          "elapsed": 943,
          "user": {
            "displayName": "",
            "userId": ""
          }
        },
        "outputId": "5d183473-5fd9-4d22-e07a-bf8ea14b3815"
      },
      "execution_count": null,
      "outputs": [
        {
          "output_type": "execute_result",
          "data": {
            "text/plain": [
              "30"
            ]
          },
          "metadata": {},
          "execution_count": 8
        }
      ]
    },
    {
      "cell_type": "code",
      "source": [
        "train_loader    = torch.utils.data.DataLoader(\n",
        "    dataset     = train_dataset,\n",
        "    batch_size  = config.batch_size,\n",
        "    shuffle     = True,\n",
        "    num_workers = 2,\n",
        "    pin_memory  = True\n",
        ")\n",
        "\n",
        "val_loader      = torch.utils.data.DataLoader(\n",
        "    dataset     = val_dataset,\n",
        "    batch_size  = config.batch_size,\n",
        "    shuffle     = False,\n",
        "    num_workers = 1,\n",
        "    pin_memory  = True\n",
        ")\n",
        "\n",
        "test_loader     = torch.utils.data.DataLoader(\n",
        "    dataset     = test_dataset,\n",
        "    batch_size  = config.batch_size,\n",
        "    shuffle     = False,\n",
        "    num_workers = 1,\n",
        "    pin_memory  = True\n",
        ")\n",
        "\n",
        "print(\"Batch Size           : \", config.batch_size)\n",
        "print(\"Train Batches        : \", train_loader.__len__())\n",
        "print(\"Val Batches          : \", val_loader.__len__())\n",
        "print(\"Test Batches         : \", test_loader.__len__())\n"
      ],
      "metadata": {
        "colab": {
          "base_uri": "https://localhost:8080/"
        },
        "id": "1itLTzKtB7e-",
        "executionInfo": {
          "status": "ok",
          "timestamp": 1713762196600,
          "user_tz": 240,
          "elapsed": 172,
          "user": {
            "displayName": "",
            "userId": ""
          }
        },
        "outputId": "63db822e-861f-454e-9fa0-5c6e3fbcbe34"
      },
      "execution_count": null,
      "outputs": [
        {
          "output_type": "stream",
          "name": "stdout",
          "text": [
            "Batch Size           :  64\n",
            "Train Batches        :  6135\n",
            "Val Batches          :  433\n",
            "Test Batches         :  242\n"
          ]
        }
      ]
    },
    {
      "cell_type": "code",
      "source": [
        "''' Sanity Check '''\n",
        "\n",
        "print(\"Checking the Shapes of the Data --\\n\")\n",
        "\n",
        "for batch in train_loader:\n",
        "    xb, yb = batch\n",
        "\n",
        "    print(f\"xb shape:\\t\\t{xb.shape}\")\n",
        "    print(f\"yb shape:\\t\\t{yb.shape}\\n\")\n",
        "\n",
        "\n",
        "    break"
      ],
      "metadata": {
        "colab": {
          "base_uri": "https://localhost:8080/"
        },
        "id": "VIYb0gtYFenJ",
        "executionInfo": {
          "status": "ok",
          "timestamp": 1713762202828,
          "user_tz": 240,
          "elapsed": 3951,
          "user": {
            "displayName": "",
            "userId": ""
          }
        },
        "outputId": "8134ef55-f343-43be-b9f7-5ce53be46b15"
      },
      "execution_count": null,
      "outputs": [
        {
          "output_type": "stream",
          "name": "stdout",
          "text": [
            "Checking the Shapes of the Data --\n",
            "\n",
            "xb shape:\t\ttorch.Size([64, 256])\n",
            "yb shape:\t\ttorch.Size([64, 256])\n",
            "\n"
          ]
        }
      ]
    },
    {
      "cell_type": "code",
      "source": [
        "# I tried it, but failed.QAQ. It seems that using np.memmap requires synchronously recording the length of each data entry, which makes padding inconvenient.\n",
        "'''\n",
        "data_dir = '/content/hw5/'\n",
        "def get_batch(split):\n",
        "    file_path = os.path.join(data_dir, 'val.bin' if split == 'val' else 'train.bin')\n",
        "\n",
        "\n",
        "    with open(file_path, 'rb') as f:\n",
        "        data = pickle.load(f)\n",
        "\n",
        "    xb = torch.empty((config.batch_size, config.sequence_length), dtype=torch.int64)\n",
        "    yb = torch.empty((config.batch_size, config.sequence_length), dtype=torch.int64)\n",
        "\n",
        "    for b in range(config.batch_size):\n",
        "        tokens = data[b]['tokens']\n",
        "        if len(tokens) < config.sequence_length:\n",
        "            padded_tokens = np.pad(tokens, (0, config.sequence_length - len(tokens)), 'constant', constant_values=tokenizer.pad_token_id)\n",
        "        else:\n",
        "            padded_tokens = tokens[:config.sequence_length]\n",
        "\n",
        "\n",
        "        xb[b] = torch.tensor(padded_tokens[:-1], dtype=torch.int64)\n",
        "        yb[b] = torch.tensor(padded_tokens[1:], dtype=torch.int64)\n",
        "\n",
        "    if device == 'cuda':\n",
        "        xb, yb = xb.pin_memory().to(device, non_blocking=True), yb.pin_memory().to(device, non_blocking=True)\n",
        "\n",
        "    return xb, yb\n",
        "'''"
      ],
      "metadata": {
        "id": "1mmd9hflKQjF"
      },
      "execution_count": null,
      "outputs": []
    },
    {
      "cell_type": "markdown",
      "metadata": {
        "id": "RQ3b6b23QLUb"
      },
      "source": [
        "# Model"
      ]
    },
    {
      "cell_type": "code",
      "execution_count": null,
      "metadata": {
        "id": "FsZa23FJQLUb"
      },
      "outputs": [],
      "source": [
        "class Head(nn.Module):\n",
        "    # def __init__(self, embed_dim, head_size, sequence_length, dropout):\n",
        "    def __init__(self, config, interim_head_size):\n",
        "        super().__init__()\n",
        "        self.embed_dim = config.embed_dim\n",
        "        self.interim_head_size = interim_head_size # say embed_dim = 32 -> broken into say 4 heads, so this will be 8, to be concated back to 32\n",
        "        self.key = nn.Linear(config.embed_dim, interim_head_size, bias=config.bias)\n",
        "        self.query = nn.Linear(config.embed_dim, interim_head_size, bias=config.bias)\n",
        "        self.value = nn.Linear(config.embed_dim, interim_head_size, bias=config.bias)\n",
        "        self.register_buffer('tril', torch.tril(torch.ones((config.sequence_length, config.sequence_length))))\n",
        "\n",
        "        self.dropout = nn.Dropout(config.dropout)\n",
        "\n",
        "    def forward(self, x):\n",
        "        B, T, C = x.shape\n",
        "        k = self.key(x) # (b,t,c) -> (b,t,h)\n",
        "        q = self.query(x) # (b,t,c) -> (b,t,h)\n",
        "        v = self.value(x) # (b,t,c) -> (b,t,h)\n",
        "        wei = k @ q.transpose(-2, -1) * self.embed_dim**(-0.5) # (b,t,h) @ (b,h,t) -> (b,t,t)\n",
        "\n",
        "        wei = wei.masked_fill((self.tril[:T, :T] == 0.), -torch.inf) # type: ignore\n",
        "        wei = F.softmax(wei, dim=-1)\n",
        "        wei = self.dropout(wei)\n",
        "\n",
        "        xbow = wei @ v # (b,t,t) @ (b,t,h) -> (b,t,h)\n",
        "        return xbow\n",
        "\n",
        "class MultiHeadAttention(nn.Module):\n",
        "    # def __init__(self, num_heads, embed_dim, head_size, sequence_length, dropout):\n",
        "    def __init__(self, config, interim_head_size):\n",
        "        super().__init__()\n",
        "        self.head_list = nn.ModuleList([Head(config, interim_head_size) for _ in range(config.num_heads)])\n",
        "        self.proj = nn.Linear(config.embed_dim, config.embed_dim)\n",
        "        self.dropout = nn.Dropout(config.dropout)\n",
        "\n",
        "    def forward(self, x):\n",
        "        out = torch.cat([h(x) for h in self.head_list], dim=-1)\n",
        "        out = self.dropout(self.proj(out))\n",
        "        return out\n",
        "\n",
        "class FeedForward(nn.Module):\n",
        "    def __init__(self, config):\n",
        "        super().__init__()\n",
        "\n",
        "        self.layers = nn.Sequential(\n",
        "            nn.Linear(config.embed_dim, 4*config.embed_dim),\n",
        "            nn.GELU(),\n",
        "            nn.Linear(4*config.embed_dim, config.embed_dim),\n",
        "            nn.Dropout(config.dropout)\n",
        "        )\n",
        "\n",
        "    def forward(self, x):\n",
        "        return self.layers(x)\n",
        "\n",
        "class Block(nn.Module):\n",
        "    # def __init__(self, num_heads, embed_dim, sequence_length, dropout):\n",
        "    def __init__(self, config):\n",
        "        super().__init__()\n",
        "        self.interim_head_size = config.embed_dim // config.num_heads\n",
        "        self.sa = MultiHeadAttention(config, self.interim_head_size)\n",
        "        self.ff = FeedForward(config)\n",
        "        self.ln1 = nn.LayerNorm(config.embed_dim)\n",
        "        self.ln2 = nn.LayerNorm(config.embed_dim)\n",
        "\n",
        "    def forward(self, x):\n",
        "        x = x + self.sa(self.ln1(x)) # communication\n",
        "        x = x + self.ff(self.ln2(x)) # computation\n",
        "        return x\n",
        "\n",
        "\n",
        "class Transformer(torch.nn.Module):\n",
        "    # def __init__(self, embed_dim, vocab_size, sequence_length, num_heads, num_blocks, dropout):\n",
        "    def __init__(self, config):\n",
        "        super().__init__()\n",
        "        self.sequence_length = config.sequence_length\n",
        "        self.token_embeddings = torch.nn.Embedding(config.vocab_size, config.embed_dim)\n",
        "        self.position_embeddings = nn.Embedding(config.sequence_length, config.embed_dim)\n",
        "        self.block_list = nn.Sequential(*[Block(config)\n",
        "                                          for _ in range(config.num_blocks)])\n",
        "        self.final_ln = nn.LayerNorm(config.embed_dim)\n",
        "        self.lm_head = nn.Linear(config.embed_dim, config.vocab_size)\n",
        "\n",
        "    def forward(self, ixs, targets=None):\n",
        "        # ixs: (b,t)\n",
        "        # targets: (b,t)\n",
        "        B, T = ixs.shape\n",
        "        x = self.token_embeddings(ixs) # (b,t,c=embed_dim)\n",
        "        pos_embeds = self.position_embeddings(torch.arange(T, device=device)) # (t,c=embed_dim)\n",
        "        x += pos_embeds\n",
        "        x = self.block_list(x)\n",
        "        x = self.final_ln(x)\n",
        "        logits = self.lm_head(x) # (b,t,c=vocab_size)\n",
        "        if targets is None:\n",
        "            loss = None\n",
        "        else:\n",
        "            logits = logits.permute(0,2,1) # (b,c,t)\n",
        "            loss = F.cross_entropy(logits, targets)\n",
        "            logits = logits.permute(0,2,1) # back to (b,t,c)\n",
        "        return logits, loss\n",
        "\n",
        "    def generate(self, ixs, max_len):\n",
        "        \"\"\"\n",
        "        ixs: (b,t) - input sequence to start generating from\n",
        "        max_len: int - maximum length of the generated sequence\n",
        "        \"\"\"\n",
        "        b, t = ixs.shape\n",
        "        for _ in range(max_len):\n",
        "            # generation (b, ) next tokens in parallel\n",
        "            ixs_cond = ixs[:, -self.sequence_length:] # consider only the last sequence_length tokens\n",
        "            logits, loss = self.forward(ixs_cond) # logits=(b,t,c), loss is ignored\n",
        "            # get juse the final timestep\n",
        "            last_logits = logits[:, -1, :] # (b,c)\n",
        "            # normalize\n",
        "            last_probs = F.softmax(last_logits, dim=-1) # across c\n",
        "            next_tokens = torch.multinomial(last_probs, 1) # (b,c) -> (b)\n",
        "            ixs = torch.cat((ixs, next_tokens), dim=1) # across t so (b,t) -> (b, t+1)\n",
        "        return ixs\n"
      ]
    },
    {
      "cell_type": "markdown",
      "metadata": {
        "id": "Mlj4sY57QLUb"
      },
      "source": [
        "# Training"
      ]
    },
    {
      "cell_type": "code",
      "execution_count": null,
      "metadata": {
        "id": "uM9xrNVCQLUb"
      },
      "outputs": [],
      "source": [
        "# model = Transformer(embed_dim, vocab_size, sequence_length, num_heads, num_blocks, dropout).to(device)\n",
        "model = Transformer(config).to(device)"
      ]
    },
    {
      "cell_type": "code",
      "execution_count": null,
      "metadata": {
        "scrolled": true,
        "id": "RXZIOVpRQLUc",
        "outputId": "f90cbcff-005c-4288-8a59-76a94ebc5ebc",
        "colab": {
          "base_uri": "https://localhost:8080/",
          "height": 1000
        },
        "executionInfo": {
          "status": "ok",
          "timestamp": 1713745361908,
          "user_tz": 240,
          "elapsed": 641,
          "user": {
            "displayName": "Shan",
            "userId": "15679072090177990254"
          }
        }
      },
      "outputs": [
        {
          "output_type": "stream",
          "name": "stderr",
          "text": [
            "/usr/local/lib/python3.10/dist-packages/torchsummaryX/torchsummaryX.py:101: FutureWarning: The default value of numeric_only in DataFrame.sum is deprecated. In a future version, it will default to False. In addition, specifying 'numeric_only=None' is deprecated. Select only valid columns or specify the value of numeric_only to silence this warning.\n",
            "  df_sum = df.sum()\n"
          ]
        },
        {
          "output_type": "stream",
          "name": "stdout",
          "text": [
            "=======================================================================================================\n",
            "                                                 Kernel Shape  \\\n",
            "Layer                                                           \n",
            "0_token_embeddings                               [512, 50257]   \n",
            "1_position_embeddings                              [512, 256]   \n",
            "2_block_list.0.LayerNorm_ln1                            [512]   \n",
            "3_block_list.0.sa.head_list.0.Linear_key            [512, 64]   \n",
            "4_block_list.0.sa.head_list.0.Linear_query          [512, 64]   \n",
            "5_block_list.0.sa.head_list.0.Linear_value          [512, 64]   \n",
            "6_block_list.0.sa.head_list.0.Dropout_dropout               -   \n",
            "7_block_list.0.sa.head_list.1.Linear_key            [512, 64]   \n",
            "8_block_list.0.sa.head_list.1.Linear_query          [512, 64]   \n",
            "9_block_list.0.sa.head_list.1.Linear_value          [512, 64]   \n",
            "10_block_list.0.sa.head_list.1.Dropout_dropout              -   \n",
            "11_block_list.0.sa.head_list.2.Linear_key           [512, 64]   \n",
            "12_block_list.0.sa.head_list.2.Linear_query         [512, 64]   \n",
            "13_block_list.0.sa.head_list.2.Linear_value         [512, 64]   \n",
            "14_block_list.0.sa.head_list.2.Dropout_dropout              -   \n",
            "15_block_list.0.sa.head_list.3.Linear_key           [512, 64]   \n",
            "16_block_list.0.sa.head_list.3.Linear_query         [512, 64]   \n",
            "17_block_list.0.sa.head_list.3.Linear_value         [512, 64]   \n",
            "18_block_list.0.sa.head_list.3.Dropout_dropout              -   \n",
            "19_block_list.0.sa.head_list.4.Linear_key           [512, 64]   \n",
            "20_block_list.0.sa.head_list.4.Linear_query         [512, 64]   \n",
            "21_block_list.0.sa.head_list.4.Linear_value         [512, 64]   \n",
            "22_block_list.0.sa.head_list.4.Dropout_dropout              -   \n",
            "23_block_list.0.sa.head_list.5.Linear_key           [512, 64]   \n",
            "24_block_list.0.sa.head_list.5.Linear_query         [512, 64]   \n",
            "25_block_list.0.sa.head_list.5.Linear_value         [512, 64]   \n",
            "26_block_list.0.sa.head_list.5.Dropout_dropout              -   \n",
            "27_block_list.0.sa.head_list.6.Linear_key           [512, 64]   \n",
            "28_block_list.0.sa.head_list.6.Linear_query         [512, 64]   \n",
            "29_block_list.0.sa.head_list.6.Linear_value         [512, 64]   \n",
            "30_block_list.0.sa.head_list.6.Dropout_dropout              -   \n",
            "31_block_list.0.sa.head_list.7.Linear_key           [512, 64]   \n",
            "32_block_list.0.sa.head_list.7.Linear_query         [512, 64]   \n",
            "33_block_list.0.sa.head_list.7.Linear_value         [512, 64]   \n",
            "34_block_list.0.sa.head_list.7.Dropout_dropout              -   \n",
            "35_block_list.0.sa.Linear_proj                     [512, 512]   \n",
            "36_block_list.0.sa.Dropout_dropout                          -   \n",
            "37_block_list.0.LayerNorm_ln2                           [512]   \n",
            "38_block_list.0.ff.layers.Linear_0                [512, 2048]   \n",
            "39_block_list.0.ff.layers.GELU_1                            -   \n",
            "40_block_list.0.ff.layers.Linear_2                [2048, 512]   \n",
            "41_block_list.0.ff.layers.Dropout_3                         -   \n",
            "42_block_list.1.LayerNorm_ln1                           [512]   \n",
            "43_block_list.1.sa.head_list.0.Linear_key           [512, 64]   \n",
            "44_block_list.1.sa.head_list.0.Linear_query         [512, 64]   \n",
            "45_block_list.1.sa.head_list.0.Linear_value         [512, 64]   \n",
            "46_block_list.1.sa.head_list.0.Dropout_dropout              -   \n",
            "47_block_list.1.sa.head_list.1.Linear_key           [512, 64]   \n",
            "48_block_list.1.sa.head_list.1.Linear_query         [512, 64]   \n",
            "49_block_list.1.sa.head_list.1.Linear_value         [512, 64]   \n",
            "50_block_list.1.sa.head_list.1.Dropout_dropout              -   \n",
            "51_block_list.1.sa.head_list.2.Linear_key           [512, 64]   \n",
            "52_block_list.1.sa.head_list.2.Linear_query         [512, 64]   \n",
            "53_block_list.1.sa.head_list.2.Linear_value         [512, 64]   \n",
            "54_block_list.1.sa.head_list.2.Dropout_dropout              -   \n",
            "55_block_list.1.sa.head_list.3.Linear_key           [512, 64]   \n",
            "56_block_list.1.sa.head_list.3.Linear_query         [512, 64]   \n",
            "57_block_list.1.sa.head_list.3.Linear_value         [512, 64]   \n",
            "58_block_list.1.sa.head_list.3.Dropout_dropout              -   \n",
            "59_block_list.1.sa.head_list.4.Linear_key           [512, 64]   \n",
            "60_block_list.1.sa.head_list.4.Linear_query         [512, 64]   \n",
            "61_block_list.1.sa.head_list.4.Linear_value         [512, 64]   \n",
            "62_block_list.1.sa.head_list.4.Dropout_dropout              -   \n",
            "63_block_list.1.sa.head_list.5.Linear_key           [512, 64]   \n",
            "64_block_list.1.sa.head_list.5.Linear_query         [512, 64]   \n",
            "65_block_list.1.sa.head_list.5.Linear_value         [512, 64]   \n",
            "66_block_list.1.sa.head_list.5.Dropout_dropout              -   \n",
            "67_block_list.1.sa.head_list.6.Linear_key           [512, 64]   \n",
            "68_block_list.1.sa.head_list.6.Linear_query         [512, 64]   \n",
            "69_block_list.1.sa.head_list.6.Linear_value         [512, 64]   \n",
            "70_block_list.1.sa.head_list.6.Dropout_dropout              -   \n",
            "71_block_list.1.sa.head_list.7.Linear_key           [512, 64]   \n",
            "72_block_list.1.sa.head_list.7.Linear_query         [512, 64]   \n",
            "73_block_list.1.sa.head_list.7.Linear_value         [512, 64]   \n",
            "74_block_list.1.sa.head_list.7.Dropout_dropout              -   \n",
            "75_block_list.1.sa.Linear_proj                     [512, 512]   \n",
            "76_block_list.1.sa.Dropout_dropout                          -   \n",
            "77_block_list.1.LayerNorm_ln2                           [512]   \n",
            "78_block_list.1.ff.layers.Linear_0                [512, 2048]   \n",
            "79_block_list.1.ff.layers.GELU_1                            -   \n",
            "80_block_list.1.ff.layers.Linear_2                [2048, 512]   \n",
            "81_block_list.1.ff.layers.Dropout_3                         -   \n",
            "82_block_list.2.LayerNorm_ln1                           [512]   \n",
            "83_block_list.2.sa.head_list.0.Linear_key           [512, 64]   \n",
            "84_block_list.2.sa.head_list.0.Linear_query         [512, 64]   \n",
            "85_block_list.2.sa.head_list.0.Linear_value         [512, 64]   \n",
            "86_block_list.2.sa.head_list.0.Dropout_dropout              -   \n",
            "87_block_list.2.sa.head_list.1.Linear_key           [512, 64]   \n",
            "88_block_list.2.sa.head_list.1.Linear_query         [512, 64]   \n",
            "89_block_list.2.sa.head_list.1.Linear_value         [512, 64]   \n",
            "90_block_list.2.sa.head_list.1.Dropout_dropout              -   \n",
            "91_block_list.2.sa.head_list.2.Linear_key           [512, 64]   \n",
            "92_block_list.2.sa.head_list.2.Linear_query         [512, 64]   \n",
            "93_block_list.2.sa.head_list.2.Linear_value         [512, 64]   \n",
            "94_block_list.2.sa.head_list.2.Dropout_dropout              -   \n",
            "95_block_list.2.sa.head_list.3.Linear_key           [512, 64]   \n",
            "96_block_list.2.sa.head_list.3.Linear_query         [512, 64]   \n",
            "97_block_list.2.sa.head_list.3.Linear_value         [512, 64]   \n",
            "98_block_list.2.sa.head_list.3.Dropout_dropout              -   \n",
            "99_block_list.2.sa.head_list.4.Linear_key           [512, 64]   \n",
            "100_block_list.2.sa.head_list.4.Linear_query        [512, 64]   \n",
            "101_block_list.2.sa.head_list.4.Linear_value        [512, 64]   \n",
            "102_block_list.2.sa.head_list.4.Dropout_dropout             -   \n",
            "103_block_list.2.sa.head_list.5.Linear_key          [512, 64]   \n",
            "104_block_list.2.sa.head_list.5.Linear_query        [512, 64]   \n",
            "105_block_list.2.sa.head_list.5.Linear_value        [512, 64]   \n",
            "106_block_list.2.sa.head_list.5.Dropout_dropout             -   \n",
            "107_block_list.2.sa.head_list.6.Linear_key          [512, 64]   \n",
            "108_block_list.2.sa.head_list.6.Linear_query        [512, 64]   \n",
            "109_block_list.2.sa.head_list.6.Linear_value        [512, 64]   \n",
            "110_block_list.2.sa.head_list.6.Dropout_dropout             -   \n",
            "111_block_list.2.sa.head_list.7.Linear_key          [512, 64]   \n",
            "112_block_list.2.sa.head_list.7.Linear_query        [512, 64]   \n",
            "113_block_list.2.sa.head_list.7.Linear_value        [512, 64]   \n",
            "114_block_list.2.sa.head_list.7.Dropout_dropout             -   \n",
            "115_block_list.2.sa.Linear_proj                    [512, 512]   \n",
            "116_block_list.2.sa.Dropout_dropout                         -   \n",
            "117_block_list.2.LayerNorm_ln2                          [512]   \n",
            "118_block_list.2.ff.layers.Linear_0               [512, 2048]   \n",
            "119_block_list.2.ff.layers.GELU_1                           -   \n",
            "120_block_list.2.ff.layers.Linear_2               [2048, 512]   \n",
            "121_block_list.2.ff.layers.Dropout_3                        -   \n",
            "122_block_list.3.LayerNorm_ln1                          [512]   \n",
            "123_block_list.3.sa.head_list.0.Linear_key          [512, 64]   \n",
            "124_block_list.3.sa.head_list.0.Linear_query        [512, 64]   \n",
            "125_block_list.3.sa.head_list.0.Linear_value        [512, 64]   \n",
            "126_block_list.3.sa.head_list.0.Dropout_dropout             -   \n",
            "127_block_list.3.sa.head_list.1.Linear_key          [512, 64]   \n",
            "128_block_list.3.sa.head_list.1.Linear_query        [512, 64]   \n",
            "129_block_list.3.sa.head_list.1.Linear_value        [512, 64]   \n",
            "130_block_list.3.sa.head_list.1.Dropout_dropout             -   \n",
            "131_block_list.3.sa.head_list.2.Linear_key          [512, 64]   \n",
            "132_block_list.3.sa.head_list.2.Linear_query        [512, 64]   \n",
            "133_block_list.3.sa.head_list.2.Linear_value        [512, 64]   \n",
            "134_block_list.3.sa.head_list.2.Dropout_dropout             -   \n",
            "135_block_list.3.sa.head_list.3.Linear_key          [512, 64]   \n",
            "136_block_list.3.sa.head_list.3.Linear_query        [512, 64]   \n",
            "137_block_list.3.sa.head_list.3.Linear_value        [512, 64]   \n",
            "138_block_list.3.sa.head_list.3.Dropout_dropout             -   \n",
            "139_block_list.3.sa.head_list.4.Linear_key          [512, 64]   \n",
            "140_block_list.3.sa.head_list.4.Linear_query        [512, 64]   \n",
            "141_block_list.3.sa.head_list.4.Linear_value        [512, 64]   \n",
            "142_block_list.3.sa.head_list.4.Dropout_dropout             -   \n",
            "143_block_list.3.sa.head_list.5.Linear_key          [512, 64]   \n",
            "144_block_list.3.sa.head_list.5.Linear_query        [512, 64]   \n",
            "145_block_list.3.sa.head_list.5.Linear_value        [512, 64]   \n",
            "146_block_list.3.sa.head_list.5.Dropout_dropout             -   \n",
            "147_block_list.3.sa.head_list.6.Linear_key          [512, 64]   \n",
            "148_block_list.3.sa.head_list.6.Linear_query        [512, 64]   \n",
            "149_block_list.3.sa.head_list.6.Linear_value        [512, 64]   \n",
            "150_block_list.3.sa.head_list.6.Dropout_dropout             -   \n",
            "151_block_list.3.sa.head_list.7.Linear_key          [512, 64]   \n",
            "152_block_list.3.sa.head_list.7.Linear_query        [512, 64]   \n",
            "153_block_list.3.sa.head_list.7.Linear_value        [512, 64]   \n",
            "154_block_list.3.sa.head_list.7.Dropout_dropout             -   \n",
            "155_block_list.3.sa.Linear_proj                    [512, 512]   \n",
            "156_block_list.3.sa.Dropout_dropout                         -   \n",
            "157_block_list.3.LayerNorm_ln2                          [512]   \n",
            "158_block_list.3.ff.layers.Linear_0               [512, 2048]   \n",
            "159_block_list.3.ff.layers.GELU_1                           -   \n",
            "160_block_list.3.ff.layers.Linear_2               [2048, 512]   \n",
            "161_block_list.3.ff.layers.Dropout_3                        -   \n",
            "162_block_list.4.LayerNorm_ln1                          [512]   \n",
            "163_block_list.4.sa.head_list.0.Linear_key          [512, 64]   \n",
            "164_block_list.4.sa.head_list.0.Linear_query        [512, 64]   \n",
            "165_block_list.4.sa.head_list.0.Linear_value        [512, 64]   \n",
            "166_block_list.4.sa.head_list.0.Dropout_dropout             -   \n",
            "167_block_list.4.sa.head_list.1.Linear_key          [512, 64]   \n",
            "168_block_list.4.sa.head_list.1.Linear_query        [512, 64]   \n",
            "169_block_list.4.sa.head_list.1.Linear_value        [512, 64]   \n",
            "170_block_list.4.sa.head_list.1.Dropout_dropout             -   \n",
            "171_block_list.4.sa.head_list.2.Linear_key          [512, 64]   \n",
            "172_block_list.4.sa.head_list.2.Linear_query        [512, 64]   \n",
            "173_block_list.4.sa.head_list.2.Linear_value        [512, 64]   \n",
            "174_block_list.4.sa.head_list.2.Dropout_dropout             -   \n",
            "175_block_list.4.sa.head_list.3.Linear_key          [512, 64]   \n",
            "176_block_list.4.sa.head_list.3.Linear_query        [512, 64]   \n",
            "177_block_list.4.sa.head_list.3.Linear_value        [512, 64]   \n",
            "178_block_list.4.sa.head_list.3.Dropout_dropout             -   \n",
            "179_block_list.4.sa.head_list.4.Linear_key          [512, 64]   \n",
            "180_block_list.4.sa.head_list.4.Linear_query        [512, 64]   \n",
            "181_block_list.4.sa.head_list.4.Linear_value        [512, 64]   \n",
            "182_block_list.4.sa.head_list.4.Dropout_dropout             -   \n",
            "183_block_list.4.sa.head_list.5.Linear_key          [512, 64]   \n",
            "184_block_list.4.sa.head_list.5.Linear_query        [512, 64]   \n",
            "185_block_list.4.sa.head_list.5.Linear_value        [512, 64]   \n",
            "186_block_list.4.sa.head_list.5.Dropout_dropout             -   \n",
            "187_block_list.4.sa.head_list.6.Linear_key          [512, 64]   \n",
            "188_block_list.4.sa.head_list.6.Linear_query        [512, 64]   \n",
            "189_block_list.4.sa.head_list.6.Linear_value        [512, 64]   \n",
            "190_block_list.4.sa.head_list.6.Dropout_dropout             -   \n",
            "191_block_list.4.sa.head_list.7.Linear_key          [512, 64]   \n",
            "192_block_list.4.sa.head_list.7.Linear_query        [512, 64]   \n",
            "193_block_list.4.sa.head_list.7.Linear_value        [512, 64]   \n",
            "194_block_list.4.sa.head_list.7.Dropout_dropout             -   \n",
            "195_block_list.4.sa.Linear_proj                    [512, 512]   \n",
            "196_block_list.4.sa.Dropout_dropout                         -   \n",
            "197_block_list.4.LayerNorm_ln2                          [512]   \n",
            "198_block_list.4.ff.layers.Linear_0               [512, 2048]   \n",
            "199_block_list.4.ff.layers.GELU_1                           -   \n",
            "200_block_list.4.ff.layers.Linear_2               [2048, 512]   \n",
            "201_block_list.4.ff.layers.Dropout_3                        -   \n",
            "202_block_list.5.LayerNorm_ln1                          [512]   \n",
            "203_block_list.5.sa.head_list.0.Linear_key          [512, 64]   \n",
            "204_block_list.5.sa.head_list.0.Linear_query        [512, 64]   \n",
            "205_block_list.5.sa.head_list.0.Linear_value        [512, 64]   \n",
            "206_block_list.5.sa.head_list.0.Dropout_dropout             -   \n",
            "207_block_list.5.sa.head_list.1.Linear_key          [512, 64]   \n",
            "208_block_list.5.sa.head_list.1.Linear_query        [512, 64]   \n",
            "209_block_list.5.sa.head_list.1.Linear_value        [512, 64]   \n",
            "210_block_list.5.sa.head_list.1.Dropout_dropout             -   \n",
            "211_block_list.5.sa.head_list.2.Linear_key          [512, 64]   \n",
            "212_block_list.5.sa.head_list.2.Linear_query        [512, 64]   \n",
            "213_block_list.5.sa.head_list.2.Linear_value        [512, 64]   \n",
            "214_block_list.5.sa.head_list.2.Dropout_dropout             -   \n",
            "215_block_list.5.sa.head_list.3.Linear_key          [512, 64]   \n",
            "216_block_list.5.sa.head_list.3.Linear_query        [512, 64]   \n",
            "217_block_list.5.sa.head_list.3.Linear_value        [512, 64]   \n",
            "218_block_list.5.sa.head_list.3.Dropout_dropout             -   \n",
            "219_block_list.5.sa.head_list.4.Linear_key          [512, 64]   \n",
            "220_block_list.5.sa.head_list.4.Linear_query        [512, 64]   \n",
            "221_block_list.5.sa.head_list.4.Linear_value        [512, 64]   \n",
            "222_block_list.5.sa.head_list.4.Dropout_dropout             -   \n",
            "223_block_list.5.sa.head_list.5.Linear_key          [512, 64]   \n",
            "224_block_list.5.sa.head_list.5.Linear_query        [512, 64]   \n",
            "225_block_list.5.sa.head_list.5.Linear_value        [512, 64]   \n",
            "226_block_list.5.sa.head_list.5.Dropout_dropout             -   \n",
            "227_block_list.5.sa.head_list.6.Linear_key          [512, 64]   \n",
            "228_block_list.5.sa.head_list.6.Linear_query        [512, 64]   \n",
            "229_block_list.5.sa.head_list.6.Linear_value        [512, 64]   \n",
            "230_block_list.5.sa.head_list.6.Dropout_dropout             -   \n",
            "231_block_list.5.sa.head_list.7.Linear_key          [512, 64]   \n",
            "232_block_list.5.sa.head_list.7.Linear_query        [512, 64]   \n",
            "233_block_list.5.sa.head_list.7.Linear_value        [512, 64]   \n",
            "234_block_list.5.sa.head_list.7.Dropout_dropout             -   \n",
            "235_block_list.5.sa.Linear_proj                    [512, 512]   \n",
            "236_block_list.5.sa.Dropout_dropout                         -   \n",
            "237_block_list.5.LayerNorm_ln2                          [512]   \n",
            "238_block_list.5.ff.layers.Linear_0               [512, 2048]   \n",
            "239_block_list.5.ff.layers.GELU_1                           -   \n",
            "240_block_list.5.ff.layers.Linear_2               [2048, 512]   \n",
            "241_block_list.5.ff.layers.Dropout_3                        -   \n",
            "242_block_list.6.LayerNorm_ln1                          [512]   \n",
            "243_block_list.6.sa.head_list.0.Linear_key          [512, 64]   \n",
            "244_block_list.6.sa.head_list.0.Linear_query        [512, 64]   \n",
            "245_block_list.6.sa.head_list.0.Linear_value        [512, 64]   \n",
            "246_block_list.6.sa.head_list.0.Dropout_dropout             -   \n",
            "247_block_list.6.sa.head_list.1.Linear_key          [512, 64]   \n",
            "248_block_list.6.sa.head_list.1.Linear_query        [512, 64]   \n",
            "249_block_list.6.sa.head_list.1.Linear_value        [512, 64]   \n",
            "250_block_list.6.sa.head_list.1.Dropout_dropout             -   \n",
            "251_block_list.6.sa.head_list.2.Linear_key          [512, 64]   \n",
            "252_block_list.6.sa.head_list.2.Linear_query        [512, 64]   \n",
            "253_block_list.6.sa.head_list.2.Linear_value        [512, 64]   \n",
            "254_block_list.6.sa.head_list.2.Dropout_dropout             -   \n",
            "255_block_list.6.sa.head_list.3.Linear_key          [512, 64]   \n",
            "256_block_list.6.sa.head_list.3.Linear_query        [512, 64]   \n",
            "257_block_list.6.sa.head_list.3.Linear_value        [512, 64]   \n",
            "258_block_list.6.sa.head_list.3.Dropout_dropout             -   \n",
            "259_block_list.6.sa.head_list.4.Linear_key          [512, 64]   \n",
            "260_block_list.6.sa.head_list.4.Linear_query        [512, 64]   \n",
            "261_block_list.6.sa.head_list.4.Linear_value        [512, 64]   \n",
            "262_block_list.6.sa.head_list.4.Dropout_dropout             -   \n",
            "263_block_list.6.sa.head_list.5.Linear_key          [512, 64]   \n",
            "264_block_list.6.sa.head_list.5.Linear_query        [512, 64]   \n",
            "265_block_list.6.sa.head_list.5.Linear_value        [512, 64]   \n",
            "266_block_list.6.sa.head_list.5.Dropout_dropout             -   \n",
            "267_block_list.6.sa.head_list.6.Linear_key          [512, 64]   \n",
            "268_block_list.6.sa.head_list.6.Linear_query        [512, 64]   \n",
            "269_block_list.6.sa.head_list.6.Linear_value        [512, 64]   \n",
            "270_block_list.6.sa.head_list.6.Dropout_dropout             -   \n",
            "271_block_list.6.sa.head_list.7.Linear_key          [512, 64]   \n",
            "272_block_list.6.sa.head_list.7.Linear_query        [512, 64]   \n",
            "273_block_list.6.sa.head_list.7.Linear_value        [512, 64]   \n",
            "274_block_list.6.sa.head_list.7.Dropout_dropout             -   \n",
            "275_block_list.6.sa.Linear_proj                    [512, 512]   \n",
            "276_block_list.6.sa.Dropout_dropout                         -   \n",
            "277_block_list.6.LayerNorm_ln2                          [512]   \n",
            "278_block_list.6.ff.layers.Linear_0               [512, 2048]   \n",
            "279_block_list.6.ff.layers.GELU_1                           -   \n",
            "280_block_list.6.ff.layers.Linear_2               [2048, 512]   \n",
            "281_block_list.6.ff.layers.Dropout_3                        -   \n",
            "282_block_list.7.LayerNorm_ln1                          [512]   \n",
            "283_block_list.7.sa.head_list.0.Linear_key          [512, 64]   \n",
            "284_block_list.7.sa.head_list.0.Linear_query        [512, 64]   \n",
            "285_block_list.7.sa.head_list.0.Linear_value        [512, 64]   \n",
            "286_block_list.7.sa.head_list.0.Dropout_dropout             -   \n",
            "287_block_list.7.sa.head_list.1.Linear_key          [512, 64]   \n",
            "288_block_list.7.sa.head_list.1.Linear_query        [512, 64]   \n",
            "289_block_list.7.sa.head_list.1.Linear_value        [512, 64]   \n",
            "290_block_list.7.sa.head_list.1.Dropout_dropout             -   \n",
            "291_block_list.7.sa.head_list.2.Linear_key          [512, 64]   \n",
            "292_block_list.7.sa.head_list.2.Linear_query        [512, 64]   \n",
            "293_block_list.7.sa.head_list.2.Linear_value        [512, 64]   \n",
            "294_block_list.7.sa.head_list.2.Dropout_dropout             -   \n",
            "295_block_list.7.sa.head_list.3.Linear_key          [512, 64]   \n",
            "296_block_list.7.sa.head_list.3.Linear_query        [512, 64]   \n",
            "297_block_list.7.sa.head_list.3.Linear_value        [512, 64]   \n",
            "298_block_list.7.sa.head_list.3.Dropout_dropout             -   \n",
            "299_block_list.7.sa.head_list.4.Linear_key          [512, 64]   \n",
            "300_block_list.7.sa.head_list.4.Linear_query        [512, 64]   \n",
            "301_block_list.7.sa.head_list.4.Linear_value        [512, 64]   \n",
            "302_block_list.7.sa.head_list.4.Dropout_dropout             -   \n",
            "303_block_list.7.sa.head_list.5.Linear_key          [512, 64]   \n",
            "304_block_list.7.sa.head_list.5.Linear_query        [512, 64]   \n",
            "305_block_list.7.sa.head_list.5.Linear_value        [512, 64]   \n",
            "306_block_list.7.sa.head_list.5.Dropout_dropout             -   \n",
            "307_block_list.7.sa.head_list.6.Linear_key          [512, 64]   \n",
            "308_block_list.7.sa.head_list.6.Linear_query        [512, 64]   \n",
            "309_block_list.7.sa.head_list.6.Linear_value        [512, 64]   \n",
            "310_block_list.7.sa.head_list.6.Dropout_dropout             -   \n",
            "311_block_list.7.sa.head_list.7.Linear_key          [512, 64]   \n",
            "312_block_list.7.sa.head_list.7.Linear_query        [512, 64]   \n",
            "313_block_list.7.sa.head_list.7.Linear_value        [512, 64]   \n",
            "314_block_list.7.sa.head_list.7.Dropout_dropout             -   \n",
            "315_block_list.7.sa.Linear_proj                    [512, 512]   \n",
            "316_block_list.7.sa.Dropout_dropout                         -   \n",
            "317_block_list.7.LayerNorm_ln2                          [512]   \n",
            "318_block_list.7.ff.layers.Linear_0               [512, 2048]   \n",
            "319_block_list.7.ff.layers.GELU_1                           -   \n",
            "320_block_list.7.ff.layers.Linear_2               [2048, 512]   \n",
            "321_block_list.7.ff.layers.Dropout_3                        -   \n",
            "322_final_ln                                            [512]   \n",
            "323_lm_head                                      [512, 50257]   \n",
            "\n",
            "                                                     Output Shape      Params  \\\n",
            "Layer                                                                           \n",
            "0_token_embeddings                                 [64, 256, 512]  25.731584M   \n",
            "1_position_embeddings                                  [256, 512]    131.072k   \n",
            "2_block_list.0.LayerNorm_ln1                       [64, 256, 512]      1.024k   \n",
            "3_block_list.0.sa.head_list.0.Linear_key            [64, 256, 64]     32.768k   \n",
            "4_block_list.0.sa.head_list.0.Linear_query          [64, 256, 64]     32.768k   \n",
            "5_block_list.0.sa.head_list.0.Linear_value          [64, 256, 64]     32.768k   \n",
            "6_block_list.0.sa.head_list.0.Dropout_dropout      [64, 256, 256]           -   \n",
            "7_block_list.0.sa.head_list.1.Linear_key            [64, 256, 64]     32.768k   \n",
            "8_block_list.0.sa.head_list.1.Linear_query          [64, 256, 64]     32.768k   \n",
            "9_block_list.0.sa.head_list.1.Linear_value          [64, 256, 64]     32.768k   \n",
            "10_block_list.0.sa.head_list.1.Dropout_dropout     [64, 256, 256]           -   \n",
            "11_block_list.0.sa.head_list.2.Linear_key           [64, 256, 64]     32.768k   \n",
            "12_block_list.0.sa.head_list.2.Linear_query         [64, 256, 64]     32.768k   \n",
            "13_block_list.0.sa.head_list.2.Linear_value         [64, 256, 64]     32.768k   \n",
            "14_block_list.0.sa.head_list.2.Dropout_dropout     [64, 256, 256]           -   \n",
            "15_block_list.0.sa.head_list.3.Linear_key           [64, 256, 64]     32.768k   \n",
            "16_block_list.0.sa.head_list.3.Linear_query         [64, 256, 64]     32.768k   \n",
            "17_block_list.0.sa.head_list.3.Linear_value         [64, 256, 64]     32.768k   \n",
            "18_block_list.0.sa.head_list.3.Dropout_dropout     [64, 256, 256]           -   \n",
            "19_block_list.0.sa.head_list.4.Linear_key           [64, 256, 64]     32.768k   \n",
            "20_block_list.0.sa.head_list.4.Linear_query         [64, 256, 64]     32.768k   \n",
            "21_block_list.0.sa.head_list.4.Linear_value         [64, 256, 64]     32.768k   \n",
            "22_block_list.0.sa.head_list.4.Dropout_dropout     [64, 256, 256]           -   \n",
            "23_block_list.0.sa.head_list.5.Linear_key           [64, 256, 64]     32.768k   \n",
            "24_block_list.0.sa.head_list.5.Linear_query         [64, 256, 64]     32.768k   \n",
            "25_block_list.0.sa.head_list.5.Linear_value         [64, 256, 64]     32.768k   \n",
            "26_block_list.0.sa.head_list.5.Dropout_dropout     [64, 256, 256]           -   \n",
            "27_block_list.0.sa.head_list.6.Linear_key           [64, 256, 64]     32.768k   \n",
            "28_block_list.0.sa.head_list.6.Linear_query         [64, 256, 64]     32.768k   \n",
            "29_block_list.0.sa.head_list.6.Linear_value         [64, 256, 64]     32.768k   \n",
            "30_block_list.0.sa.head_list.6.Dropout_dropout     [64, 256, 256]           -   \n",
            "31_block_list.0.sa.head_list.7.Linear_key           [64, 256, 64]     32.768k   \n",
            "32_block_list.0.sa.head_list.7.Linear_query         [64, 256, 64]     32.768k   \n",
            "33_block_list.0.sa.head_list.7.Linear_value         [64, 256, 64]     32.768k   \n",
            "34_block_list.0.sa.head_list.7.Dropout_dropout     [64, 256, 256]           -   \n",
            "35_block_list.0.sa.Linear_proj                     [64, 256, 512]    262.656k   \n",
            "36_block_list.0.sa.Dropout_dropout                 [64, 256, 512]           -   \n",
            "37_block_list.0.LayerNorm_ln2                      [64, 256, 512]      1.024k   \n",
            "38_block_list.0.ff.layers.Linear_0                [64, 256, 2048]   1.050624M   \n",
            "39_block_list.0.ff.layers.GELU_1                  [64, 256, 2048]           -   \n",
            "40_block_list.0.ff.layers.Linear_2                 [64, 256, 512]   1.049088M   \n",
            "41_block_list.0.ff.layers.Dropout_3                [64, 256, 512]           -   \n",
            "42_block_list.1.LayerNorm_ln1                      [64, 256, 512]      1.024k   \n",
            "43_block_list.1.sa.head_list.0.Linear_key           [64, 256, 64]     32.768k   \n",
            "44_block_list.1.sa.head_list.0.Linear_query         [64, 256, 64]     32.768k   \n",
            "45_block_list.1.sa.head_list.0.Linear_value         [64, 256, 64]     32.768k   \n",
            "46_block_list.1.sa.head_list.0.Dropout_dropout     [64, 256, 256]           -   \n",
            "47_block_list.1.sa.head_list.1.Linear_key           [64, 256, 64]     32.768k   \n",
            "48_block_list.1.sa.head_list.1.Linear_query         [64, 256, 64]     32.768k   \n",
            "49_block_list.1.sa.head_list.1.Linear_value         [64, 256, 64]     32.768k   \n",
            "50_block_list.1.sa.head_list.1.Dropout_dropout     [64, 256, 256]           -   \n",
            "51_block_list.1.sa.head_list.2.Linear_key           [64, 256, 64]     32.768k   \n",
            "52_block_list.1.sa.head_list.2.Linear_query         [64, 256, 64]     32.768k   \n",
            "53_block_list.1.sa.head_list.2.Linear_value         [64, 256, 64]     32.768k   \n",
            "54_block_list.1.sa.head_list.2.Dropout_dropout     [64, 256, 256]           -   \n",
            "55_block_list.1.sa.head_list.3.Linear_key           [64, 256, 64]     32.768k   \n",
            "56_block_list.1.sa.head_list.3.Linear_query         [64, 256, 64]     32.768k   \n",
            "57_block_list.1.sa.head_list.3.Linear_value         [64, 256, 64]     32.768k   \n",
            "58_block_list.1.sa.head_list.3.Dropout_dropout     [64, 256, 256]           -   \n",
            "59_block_list.1.sa.head_list.4.Linear_key           [64, 256, 64]     32.768k   \n",
            "60_block_list.1.sa.head_list.4.Linear_query         [64, 256, 64]     32.768k   \n",
            "61_block_list.1.sa.head_list.4.Linear_value         [64, 256, 64]     32.768k   \n",
            "62_block_list.1.sa.head_list.4.Dropout_dropout     [64, 256, 256]           -   \n",
            "63_block_list.1.sa.head_list.5.Linear_key           [64, 256, 64]     32.768k   \n",
            "64_block_list.1.sa.head_list.5.Linear_query         [64, 256, 64]     32.768k   \n",
            "65_block_list.1.sa.head_list.5.Linear_value         [64, 256, 64]     32.768k   \n",
            "66_block_list.1.sa.head_list.5.Dropout_dropout     [64, 256, 256]           -   \n",
            "67_block_list.1.sa.head_list.6.Linear_key           [64, 256, 64]     32.768k   \n",
            "68_block_list.1.sa.head_list.6.Linear_query         [64, 256, 64]     32.768k   \n",
            "69_block_list.1.sa.head_list.6.Linear_value         [64, 256, 64]     32.768k   \n",
            "70_block_list.1.sa.head_list.6.Dropout_dropout     [64, 256, 256]           -   \n",
            "71_block_list.1.sa.head_list.7.Linear_key           [64, 256, 64]     32.768k   \n",
            "72_block_list.1.sa.head_list.7.Linear_query         [64, 256, 64]     32.768k   \n",
            "73_block_list.1.sa.head_list.7.Linear_value         [64, 256, 64]     32.768k   \n",
            "74_block_list.1.sa.head_list.7.Dropout_dropout     [64, 256, 256]           -   \n",
            "75_block_list.1.sa.Linear_proj                     [64, 256, 512]    262.656k   \n",
            "76_block_list.1.sa.Dropout_dropout                 [64, 256, 512]           -   \n",
            "77_block_list.1.LayerNorm_ln2                      [64, 256, 512]      1.024k   \n",
            "78_block_list.1.ff.layers.Linear_0                [64, 256, 2048]   1.050624M   \n",
            "79_block_list.1.ff.layers.GELU_1                  [64, 256, 2048]           -   \n",
            "80_block_list.1.ff.layers.Linear_2                 [64, 256, 512]   1.049088M   \n",
            "81_block_list.1.ff.layers.Dropout_3                [64, 256, 512]           -   \n",
            "82_block_list.2.LayerNorm_ln1                      [64, 256, 512]      1.024k   \n",
            "83_block_list.2.sa.head_list.0.Linear_key           [64, 256, 64]     32.768k   \n",
            "84_block_list.2.sa.head_list.0.Linear_query         [64, 256, 64]     32.768k   \n",
            "85_block_list.2.sa.head_list.0.Linear_value         [64, 256, 64]     32.768k   \n",
            "86_block_list.2.sa.head_list.0.Dropout_dropout     [64, 256, 256]           -   \n",
            "87_block_list.2.sa.head_list.1.Linear_key           [64, 256, 64]     32.768k   \n",
            "88_block_list.2.sa.head_list.1.Linear_query         [64, 256, 64]     32.768k   \n",
            "89_block_list.2.sa.head_list.1.Linear_value         [64, 256, 64]     32.768k   \n",
            "90_block_list.2.sa.head_list.1.Dropout_dropout     [64, 256, 256]           -   \n",
            "91_block_list.2.sa.head_list.2.Linear_key           [64, 256, 64]     32.768k   \n",
            "92_block_list.2.sa.head_list.2.Linear_query         [64, 256, 64]     32.768k   \n",
            "93_block_list.2.sa.head_list.2.Linear_value         [64, 256, 64]     32.768k   \n",
            "94_block_list.2.sa.head_list.2.Dropout_dropout     [64, 256, 256]           -   \n",
            "95_block_list.2.sa.head_list.3.Linear_key           [64, 256, 64]     32.768k   \n",
            "96_block_list.2.sa.head_list.3.Linear_query         [64, 256, 64]     32.768k   \n",
            "97_block_list.2.sa.head_list.3.Linear_value         [64, 256, 64]     32.768k   \n",
            "98_block_list.2.sa.head_list.3.Dropout_dropout     [64, 256, 256]           -   \n",
            "99_block_list.2.sa.head_list.4.Linear_key           [64, 256, 64]     32.768k   \n",
            "100_block_list.2.sa.head_list.4.Linear_query        [64, 256, 64]     32.768k   \n",
            "101_block_list.2.sa.head_list.4.Linear_value        [64, 256, 64]     32.768k   \n",
            "102_block_list.2.sa.head_list.4.Dropout_dropout    [64, 256, 256]           -   \n",
            "103_block_list.2.sa.head_list.5.Linear_key          [64, 256, 64]     32.768k   \n",
            "104_block_list.2.sa.head_list.5.Linear_query        [64, 256, 64]     32.768k   \n",
            "105_block_list.2.sa.head_list.5.Linear_value        [64, 256, 64]     32.768k   \n",
            "106_block_list.2.sa.head_list.5.Dropout_dropout    [64, 256, 256]           -   \n",
            "107_block_list.2.sa.head_list.6.Linear_key          [64, 256, 64]     32.768k   \n",
            "108_block_list.2.sa.head_list.6.Linear_query        [64, 256, 64]     32.768k   \n",
            "109_block_list.2.sa.head_list.6.Linear_value        [64, 256, 64]     32.768k   \n",
            "110_block_list.2.sa.head_list.6.Dropout_dropout    [64, 256, 256]           -   \n",
            "111_block_list.2.sa.head_list.7.Linear_key          [64, 256, 64]     32.768k   \n",
            "112_block_list.2.sa.head_list.7.Linear_query        [64, 256, 64]     32.768k   \n",
            "113_block_list.2.sa.head_list.7.Linear_value        [64, 256, 64]     32.768k   \n",
            "114_block_list.2.sa.head_list.7.Dropout_dropout    [64, 256, 256]           -   \n",
            "115_block_list.2.sa.Linear_proj                    [64, 256, 512]    262.656k   \n",
            "116_block_list.2.sa.Dropout_dropout                [64, 256, 512]           -   \n",
            "117_block_list.2.LayerNorm_ln2                     [64, 256, 512]      1.024k   \n",
            "118_block_list.2.ff.layers.Linear_0               [64, 256, 2048]   1.050624M   \n",
            "119_block_list.2.ff.layers.GELU_1                 [64, 256, 2048]           -   \n",
            "120_block_list.2.ff.layers.Linear_2                [64, 256, 512]   1.049088M   \n",
            "121_block_list.2.ff.layers.Dropout_3               [64, 256, 512]           -   \n",
            "122_block_list.3.LayerNorm_ln1                     [64, 256, 512]      1.024k   \n",
            "123_block_list.3.sa.head_list.0.Linear_key          [64, 256, 64]     32.768k   \n",
            "124_block_list.3.sa.head_list.0.Linear_query        [64, 256, 64]     32.768k   \n",
            "125_block_list.3.sa.head_list.0.Linear_value        [64, 256, 64]     32.768k   \n",
            "126_block_list.3.sa.head_list.0.Dropout_dropout    [64, 256, 256]           -   \n",
            "127_block_list.3.sa.head_list.1.Linear_key          [64, 256, 64]     32.768k   \n",
            "128_block_list.3.sa.head_list.1.Linear_query        [64, 256, 64]     32.768k   \n",
            "129_block_list.3.sa.head_list.1.Linear_value        [64, 256, 64]     32.768k   \n",
            "130_block_list.3.sa.head_list.1.Dropout_dropout    [64, 256, 256]           -   \n",
            "131_block_list.3.sa.head_list.2.Linear_key          [64, 256, 64]     32.768k   \n",
            "132_block_list.3.sa.head_list.2.Linear_query        [64, 256, 64]     32.768k   \n",
            "133_block_list.3.sa.head_list.2.Linear_value        [64, 256, 64]     32.768k   \n",
            "134_block_list.3.sa.head_list.2.Dropout_dropout    [64, 256, 256]           -   \n",
            "135_block_list.3.sa.head_list.3.Linear_key          [64, 256, 64]     32.768k   \n",
            "136_block_list.3.sa.head_list.3.Linear_query        [64, 256, 64]     32.768k   \n",
            "137_block_list.3.sa.head_list.3.Linear_value        [64, 256, 64]     32.768k   \n",
            "138_block_list.3.sa.head_list.3.Dropout_dropout    [64, 256, 256]           -   \n",
            "139_block_list.3.sa.head_list.4.Linear_key          [64, 256, 64]     32.768k   \n",
            "140_block_list.3.sa.head_list.4.Linear_query        [64, 256, 64]     32.768k   \n",
            "141_block_list.3.sa.head_list.4.Linear_value        [64, 256, 64]     32.768k   \n",
            "142_block_list.3.sa.head_list.4.Dropout_dropout    [64, 256, 256]           -   \n",
            "143_block_list.3.sa.head_list.5.Linear_key          [64, 256, 64]     32.768k   \n",
            "144_block_list.3.sa.head_list.5.Linear_query        [64, 256, 64]     32.768k   \n",
            "145_block_list.3.sa.head_list.5.Linear_value        [64, 256, 64]     32.768k   \n",
            "146_block_list.3.sa.head_list.5.Dropout_dropout    [64, 256, 256]           -   \n",
            "147_block_list.3.sa.head_list.6.Linear_key          [64, 256, 64]     32.768k   \n",
            "148_block_list.3.sa.head_list.6.Linear_query        [64, 256, 64]     32.768k   \n",
            "149_block_list.3.sa.head_list.6.Linear_value        [64, 256, 64]     32.768k   \n",
            "150_block_list.3.sa.head_list.6.Dropout_dropout    [64, 256, 256]           -   \n",
            "151_block_list.3.sa.head_list.7.Linear_key          [64, 256, 64]     32.768k   \n",
            "152_block_list.3.sa.head_list.7.Linear_query        [64, 256, 64]     32.768k   \n",
            "153_block_list.3.sa.head_list.7.Linear_value        [64, 256, 64]     32.768k   \n",
            "154_block_list.3.sa.head_list.7.Dropout_dropout    [64, 256, 256]           -   \n",
            "155_block_list.3.sa.Linear_proj                    [64, 256, 512]    262.656k   \n",
            "156_block_list.3.sa.Dropout_dropout                [64, 256, 512]           -   \n",
            "157_block_list.3.LayerNorm_ln2                     [64, 256, 512]      1.024k   \n",
            "158_block_list.3.ff.layers.Linear_0               [64, 256, 2048]   1.050624M   \n",
            "159_block_list.3.ff.layers.GELU_1                 [64, 256, 2048]           -   \n",
            "160_block_list.3.ff.layers.Linear_2                [64, 256, 512]   1.049088M   \n",
            "161_block_list.3.ff.layers.Dropout_3               [64, 256, 512]           -   \n",
            "162_block_list.4.LayerNorm_ln1                     [64, 256, 512]      1.024k   \n",
            "163_block_list.4.sa.head_list.0.Linear_key          [64, 256, 64]     32.768k   \n",
            "164_block_list.4.sa.head_list.0.Linear_query        [64, 256, 64]     32.768k   \n",
            "165_block_list.4.sa.head_list.0.Linear_value        [64, 256, 64]     32.768k   \n",
            "166_block_list.4.sa.head_list.0.Dropout_dropout    [64, 256, 256]           -   \n",
            "167_block_list.4.sa.head_list.1.Linear_key          [64, 256, 64]     32.768k   \n",
            "168_block_list.4.sa.head_list.1.Linear_query        [64, 256, 64]     32.768k   \n",
            "169_block_list.4.sa.head_list.1.Linear_value        [64, 256, 64]     32.768k   \n",
            "170_block_list.4.sa.head_list.1.Dropout_dropout    [64, 256, 256]           -   \n",
            "171_block_list.4.sa.head_list.2.Linear_key          [64, 256, 64]     32.768k   \n",
            "172_block_list.4.sa.head_list.2.Linear_query        [64, 256, 64]     32.768k   \n",
            "173_block_list.4.sa.head_list.2.Linear_value        [64, 256, 64]     32.768k   \n",
            "174_block_list.4.sa.head_list.2.Dropout_dropout    [64, 256, 256]           -   \n",
            "175_block_list.4.sa.head_list.3.Linear_key          [64, 256, 64]     32.768k   \n",
            "176_block_list.4.sa.head_list.3.Linear_query        [64, 256, 64]     32.768k   \n",
            "177_block_list.4.sa.head_list.3.Linear_value        [64, 256, 64]     32.768k   \n",
            "178_block_list.4.sa.head_list.3.Dropout_dropout    [64, 256, 256]           -   \n",
            "179_block_list.4.sa.head_list.4.Linear_key          [64, 256, 64]     32.768k   \n",
            "180_block_list.4.sa.head_list.4.Linear_query        [64, 256, 64]     32.768k   \n",
            "181_block_list.4.sa.head_list.4.Linear_value        [64, 256, 64]     32.768k   \n",
            "182_block_list.4.sa.head_list.4.Dropout_dropout    [64, 256, 256]           -   \n",
            "183_block_list.4.sa.head_list.5.Linear_key          [64, 256, 64]     32.768k   \n",
            "184_block_list.4.sa.head_list.5.Linear_query        [64, 256, 64]     32.768k   \n",
            "185_block_list.4.sa.head_list.5.Linear_value        [64, 256, 64]     32.768k   \n",
            "186_block_list.4.sa.head_list.5.Dropout_dropout    [64, 256, 256]           -   \n",
            "187_block_list.4.sa.head_list.6.Linear_key          [64, 256, 64]     32.768k   \n",
            "188_block_list.4.sa.head_list.6.Linear_query        [64, 256, 64]     32.768k   \n",
            "189_block_list.4.sa.head_list.6.Linear_value        [64, 256, 64]     32.768k   \n",
            "190_block_list.4.sa.head_list.6.Dropout_dropout    [64, 256, 256]           -   \n",
            "191_block_list.4.sa.head_list.7.Linear_key          [64, 256, 64]     32.768k   \n",
            "192_block_list.4.sa.head_list.7.Linear_query        [64, 256, 64]     32.768k   \n",
            "193_block_list.4.sa.head_list.7.Linear_value        [64, 256, 64]     32.768k   \n",
            "194_block_list.4.sa.head_list.7.Dropout_dropout    [64, 256, 256]           -   \n",
            "195_block_list.4.sa.Linear_proj                    [64, 256, 512]    262.656k   \n",
            "196_block_list.4.sa.Dropout_dropout                [64, 256, 512]           -   \n",
            "197_block_list.4.LayerNorm_ln2                     [64, 256, 512]      1.024k   \n",
            "198_block_list.4.ff.layers.Linear_0               [64, 256, 2048]   1.050624M   \n",
            "199_block_list.4.ff.layers.GELU_1                 [64, 256, 2048]           -   \n",
            "200_block_list.4.ff.layers.Linear_2                [64, 256, 512]   1.049088M   \n",
            "201_block_list.4.ff.layers.Dropout_3               [64, 256, 512]           -   \n",
            "202_block_list.5.LayerNorm_ln1                     [64, 256, 512]      1.024k   \n",
            "203_block_list.5.sa.head_list.0.Linear_key          [64, 256, 64]     32.768k   \n",
            "204_block_list.5.sa.head_list.0.Linear_query        [64, 256, 64]     32.768k   \n",
            "205_block_list.5.sa.head_list.0.Linear_value        [64, 256, 64]     32.768k   \n",
            "206_block_list.5.sa.head_list.0.Dropout_dropout    [64, 256, 256]           -   \n",
            "207_block_list.5.sa.head_list.1.Linear_key          [64, 256, 64]     32.768k   \n",
            "208_block_list.5.sa.head_list.1.Linear_query        [64, 256, 64]     32.768k   \n",
            "209_block_list.5.sa.head_list.1.Linear_value        [64, 256, 64]     32.768k   \n",
            "210_block_list.5.sa.head_list.1.Dropout_dropout    [64, 256, 256]           -   \n",
            "211_block_list.5.sa.head_list.2.Linear_key          [64, 256, 64]     32.768k   \n",
            "212_block_list.5.sa.head_list.2.Linear_query        [64, 256, 64]     32.768k   \n",
            "213_block_list.5.sa.head_list.2.Linear_value        [64, 256, 64]     32.768k   \n",
            "214_block_list.5.sa.head_list.2.Dropout_dropout    [64, 256, 256]           -   \n",
            "215_block_list.5.sa.head_list.3.Linear_key          [64, 256, 64]     32.768k   \n",
            "216_block_list.5.sa.head_list.3.Linear_query        [64, 256, 64]     32.768k   \n",
            "217_block_list.5.sa.head_list.3.Linear_value        [64, 256, 64]     32.768k   \n",
            "218_block_list.5.sa.head_list.3.Dropout_dropout    [64, 256, 256]           -   \n",
            "219_block_list.5.sa.head_list.4.Linear_key          [64, 256, 64]     32.768k   \n",
            "220_block_list.5.sa.head_list.4.Linear_query        [64, 256, 64]     32.768k   \n",
            "221_block_list.5.sa.head_list.4.Linear_value        [64, 256, 64]     32.768k   \n",
            "222_block_list.5.sa.head_list.4.Dropout_dropout    [64, 256, 256]           -   \n",
            "223_block_list.5.sa.head_list.5.Linear_key          [64, 256, 64]     32.768k   \n",
            "224_block_list.5.sa.head_list.5.Linear_query        [64, 256, 64]     32.768k   \n",
            "225_block_list.5.sa.head_list.5.Linear_value        [64, 256, 64]     32.768k   \n",
            "226_block_list.5.sa.head_list.5.Dropout_dropout    [64, 256, 256]           -   \n",
            "227_block_list.5.sa.head_list.6.Linear_key          [64, 256, 64]     32.768k   \n",
            "228_block_list.5.sa.head_list.6.Linear_query        [64, 256, 64]     32.768k   \n",
            "229_block_list.5.sa.head_list.6.Linear_value        [64, 256, 64]     32.768k   \n",
            "230_block_list.5.sa.head_list.6.Dropout_dropout    [64, 256, 256]           -   \n",
            "231_block_list.5.sa.head_list.7.Linear_key          [64, 256, 64]     32.768k   \n",
            "232_block_list.5.sa.head_list.7.Linear_query        [64, 256, 64]     32.768k   \n",
            "233_block_list.5.sa.head_list.7.Linear_value        [64, 256, 64]     32.768k   \n",
            "234_block_list.5.sa.head_list.7.Dropout_dropout    [64, 256, 256]           -   \n",
            "235_block_list.5.sa.Linear_proj                    [64, 256, 512]    262.656k   \n",
            "236_block_list.5.sa.Dropout_dropout                [64, 256, 512]           -   \n",
            "237_block_list.5.LayerNorm_ln2                     [64, 256, 512]      1.024k   \n",
            "238_block_list.5.ff.layers.Linear_0               [64, 256, 2048]   1.050624M   \n",
            "239_block_list.5.ff.layers.GELU_1                 [64, 256, 2048]           -   \n",
            "240_block_list.5.ff.layers.Linear_2                [64, 256, 512]   1.049088M   \n",
            "241_block_list.5.ff.layers.Dropout_3               [64, 256, 512]           -   \n",
            "242_block_list.6.LayerNorm_ln1                     [64, 256, 512]      1.024k   \n",
            "243_block_list.6.sa.head_list.0.Linear_key          [64, 256, 64]     32.768k   \n",
            "244_block_list.6.sa.head_list.0.Linear_query        [64, 256, 64]     32.768k   \n",
            "245_block_list.6.sa.head_list.0.Linear_value        [64, 256, 64]     32.768k   \n",
            "246_block_list.6.sa.head_list.0.Dropout_dropout    [64, 256, 256]           -   \n",
            "247_block_list.6.sa.head_list.1.Linear_key          [64, 256, 64]     32.768k   \n",
            "248_block_list.6.sa.head_list.1.Linear_query        [64, 256, 64]     32.768k   \n",
            "249_block_list.6.sa.head_list.1.Linear_value        [64, 256, 64]     32.768k   \n",
            "250_block_list.6.sa.head_list.1.Dropout_dropout    [64, 256, 256]           -   \n",
            "251_block_list.6.sa.head_list.2.Linear_key          [64, 256, 64]     32.768k   \n",
            "252_block_list.6.sa.head_list.2.Linear_query        [64, 256, 64]     32.768k   \n",
            "253_block_list.6.sa.head_list.2.Linear_value        [64, 256, 64]     32.768k   \n",
            "254_block_list.6.sa.head_list.2.Dropout_dropout    [64, 256, 256]           -   \n",
            "255_block_list.6.sa.head_list.3.Linear_key          [64, 256, 64]     32.768k   \n",
            "256_block_list.6.sa.head_list.3.Linear_query        [64, 256, 64]     32.768k   \n",
            "257_block_list.6.sa.head_list.3.Linear_value        [64, 256, 64]     32.768k   \n",
            "258_block_list.6.sa.head_list.3.Dropout_dropout    [64, 256, 256]           -   \n",
            "259_block_list.6.sa.head_list.4.Linear_key          [64, 256, 64]     32.768k   \n",
            "260_block_list.6.sa.head_list.4.Linear_query        [64, 256, 64]     32.768k   \n",
            "261_block_list.6.sa.head_list.4.Linear_value        [64, 256, 64]     32.768k   \n",
            "262_block_list.6.sa.head_list.4.Dropout_dropout    [64, 256, 256]           -   \n",
            "263_block_list.6.sa.head_list.5.Linear_key          [64, 256, 64]     32.768k   \n",
            "264_block_list.6.sa.head_list.5.Linear_query        [64, 256, 64]     32.768k   \n",
            "265_block_list.6.sa.head_list.5.Linear_value        [64, 256, 64]     32.768k   \n",
            "266_block_list.6.sa.head_list.5.Dropout_dropout    [64, 256, 256]           -   \n",
            "267_block_list.6.sa.head_list.6.Linear_key          [64, 256, 64]     32.768k   \n",
            "268_block_list.6.sa.head_list.6.Linear_query        [64, 256, 64]     32.768k   \n",
            "269_block_list.6.sa.head_list.6.Linear_value        [64, 256, 64]     32.768k   \n",
            "270_block_list.6.sa.head_list.6.Dropout_dropout    [64, 256, 256]           -   \n",
            "271_block_list.6.sa.head_list.7.Linear_key          [64, 256, 64]     32.768k   \n",
            "272_block_list.6.sa.head_list.7.Linear_query        [64, 256, 64]     32.768k   \n",
            "273_block_list.6.sa.head_list.7.Linear_value        [64, 256, 64]     32.768k   \n",
            "274_block_list.6.sa.head_list.7.Dropout_dropout    [64, 256, 256]           -   \n",
            "275_block_list.6.sa.Linear_proj                    [64, 256, 512]    262.656k   \n",
            "276_block_list.6.sa.Dropout_dropout                [64, 256, 512]           -   \n",
            "277_block_list.6.LayerNorm_ln2                     [64, 256, 512]      1.024k   \n",
            "278_block_list.6.ff.layers.Linear_0               [64, 256, 2048]   1.050624M   \n",
            "279_block_list.6.ff.layers.GELU_1                 [64, 256, 2048]           -   \n",
            "280_block_list.6.ff.layers.Linear_2                [64, 256, 512]   1.049088M   \n",
            "281_block_list.6.ff.layers.Dropout_3               [64, 256, 512]           -   \n",
            "282_block_list.7.LayerNorm_ln1                     [64, 256, 512]      1.024k   \n",
            "283_block_list.7.sa.head_list.0.Linear_key          [64, 256, 64]     32.768k   \n",
            "284_block_list.7.sa.head_list.0.Linear_query        [64, 256, 64]     32.768k   \n",
            "285_block_list.7.sa.head_list.0.Linear_value        [64, 256, 64]     32.768k   \n",
            "286_block_list.7.sa.head_list.0.Dropout_dropout    [64, 256, 256]           -   \n",
            "287_block_list.7.sa.head_list.1.Linear_key          [64, 256, 64]     32.768k   \n",
            "288_block_list.7.sa.head_list.1.Linear_query        [64, 256, 64]     32.768k   \n",
            "289_block_list.7.sa.head_list.1.Linear_value        [64, 256, 64]     32.768k   \n",
            "290_block_list.7.sa.head_list.1.Dropout_dropout    [64, 256, 256]           -   \n",
            "291_block_list.7.sa.head_list.2.Linear_key          [64, 256, 64]     32.768k   \n",
            "292_block_list.7.sa.head_list.2.Linear_query        [64, 256, 64]     32.768k   \n",
            "293_block_list.7.sa.head_list.2.Linear_value        [64, 256, 64]     32.768k   \n",
            "294_block_list.7.sa.head_list.2.Dropout_dropout    [64, 256, 256]           -   \n",
            "295_block_list.7.sa.head_list.3.Linear_key          [64, 256, 64]     32.768k   \n",
            "296_block_list.7.sa.head_list.3.Linear_query        [64, 256, 64]     32.768k   \n",
            "297_block_list.7.sa.head_list.3.Linear_value        [64, 256, 64]     32.768k   \n",
            "298_block_list.7.sa.head_list.3.Dropout_dropout    [64, 256, 256]           -   \n",
            "299_block_list.7.sa.head_list.4.Linear_key          [64, 256, 64]     32.768k   \n",
            "300_block_list.7.sa.head_list.4.Linear_query        [64, 256, 64]     32.768k   \n",
            "301_block_list.7.sa.head_list.4.Linear_value        [64, 256, 64]     32.768k   \n",
            "302_block_list.7.sa.head_list.4.Dropout_dropout    [64, 256, 256]           -   \n",
            "303_block_list.7.sa.head_list.5.Linear_key          [64, 256, 64]     32.768k   \n",
            "304_block_list.7.sa.head_list.5.Linear_query        [64, 256, 64]     32.768k   \n",
            "305_block_list.7.sa.head_list.5.Linear_value        [64, 256, 64]     32.768k   \n",
            "306_block_list.7.sa.head_list.5.Dropout_dropout    [64, 256, 256]           -   \n",
            "307_block_list.7.sa.head_list.6.Linear_key          [64, 256, 64]     32.768k   \n",
            "308_block_list.7.sa.head_list.6.Linear_query        [64, 256, 64]     32.768k   \n",
            "309_block_list.7.sa.head_list.6.Linear_value        [64, 256, 64]     32.768k   \n",
            "310_block_list.7.sa.head_list.6.Dropout_dropout    [64, 256, 256]           -   \n",
            "311_block_list.7.sa.head_list.7.Linear_key          [64, 256, 64]     32.768k   \n",
            "312_block_list.7.sa.head_list.7.Linear_query        [64, 256, 64]     32.768k   \n",
            "313_block_list.7.sa.head_list.7.Linear_value        [64, 256, 64]     32.768k   \n",
            "314_block_list.7.sa.head_list.7.Dropout_dropout    [64, 256, 256]           -   \n",
            "315_block_list.7.sa.Linear_proj                    [64, 256, 512]    262.656k   \n",
            "316_block_list.7.sa.Dropout_dropout                [64, 256, 512]           -   \n",
            "317_block_list.7.LayerNorm_ln2                     [64, 256, 512]      1.024k   \n",
            "318_block_list.7.ff.layers.Linear_0               [64, 256, 2048]   1.050624M   \n",
            "319_block_list.7.ff.layers.GELU_1                 [64, 256, 2048]           -   \n",
            "320_block_list.7.ff.layers.Linear_2                [64, 256, 512]   1.049088M   \n",
            "321_block_list.7.ff.layers.Dropout_3               [64, 256, 512]           -   \n",
            "322_final_ln                                       [64, 256, 512]      1.024k   \n",
            "323_lm_head                                      [64, 256, 50257]  25.781841M   \n",
            "\n",
            "                                                  Mult-Adds  \n",
            "Layer                                                        \n",
            "0_token_embeddings                               25.731584M  \n",
            "1_position_embeddings                              131.072k  \n",
            "2_block_list.0.LayerNorm_ln1                          512.0  \n",
            "3_block_list.0.sa.head_list.0.Linear_key            32.768k  \n",
            "4_block_list.0.sa.head_list.0.Linear_query          32.768k  \n",
            "5_block_list.0.sa.head_list.0.Linear_value          32.768k  \n",
            "6_block_list.0.sa.head_list.0.Dropout_dropout             -  \n",
            "7_block_list.0.sa.head_list.1.Linear_key            32.768k  \n",
            "8_block_list.0.sa.head_list.1.Linear_query          32.768k  \n",
            "9_block_list.0.sa.head_list.1.Linear_value          32.768k  \n",
            "10_block_list.0.sa.head_list.1.Dropout_dropout            -  \n",
            "11_block_list.0.sa.head_list.2.Linear_key           32.768k  \n",
            "12_block_list.0.sa.head_list.2.Linear_query         32.768k  \n",
            "13_block_list.0.sa.head_list.2.Linear_value         32.768k  \n",
            "14_block_list.0.sa.head_list.2.Dropout_dropout            -  \n",
            "15_block_list.0.sa.head_list.3.Linear_key           32.768k  \n",
            "16_block_list.0.sa.head_list.3.Linear_query         32.768k  \n",
            "17_block_list.0.sa.head_list.3.Linear_value         32.768k  \n",
            "18_block_list.0.sa.head_list.3.Dropout_dropout            -  \n",
            "19_block_list.0.sa.head_list.4.Linear_key           32.768k  \n",
            "20_block_list.0.sa.head_list.4.Linear_query         32.768k  \n",
            "21_block_list.0.sa.head_list.4.Linear_value         32.768k  \n",
            "22_block_list.0.sa.head_list.4.Dropout_dropout            -  \n",
            "23_block_list.0.sa.head_list.5.Linear_key           32.768k  \n",
            "24_block_list.0.sa.head_list.5.Linear_query         32.768k  \n",
            "25_block_list.0.sa.head_list.5.Linear_value         32.768k  \n",
            "26_block_list.0.sa.head_list.5.Dropout_dropout            -  \n",
            "27_block_list.0.sa.head_list.6.Linear_key           32.768k  \n",
            "28_block_list.0.sa.head_list.6.Linear_query         32.768k  \n",
            "29_block_list.0.sa.head_list.6.Linear_value         32.768k  \n",
            "30_block_list.0.sa.head_list.6.Dropout_dropout            -  \n",
            "31_block_list.0.sa.head_list.7.Linear_key           32.768k  \n",
            "32_block_list.0.sa.head_list.7.Linear_query         32.768k  \n",
            "33_block_list.0.sa.head_list.7.Linear_value         32.768k  \n",
            "34_block_list.0.sa.head_list.7.Dropout_dropout            -  \n",
            "35_block_list.0.sa.Linear_proj                     262.144k  \n",
            "36_block_list.0.sa.Dropout_dropout                        -  \n",
            "37_block_list.0.LayerNorm_ln2                         512.0  \n",
            "38_block_list.0.ff.layers.Linear_0                1.048576M  \n",
            "39_block_list.0.ff.layers.GELU_1                          -  \n",
            "40_block_list.0.ff.layers.Linear_2                1.048576M  \n",
            "41_block_list.0.ff.layers.Dropout_3                       -  \n",
            "42_block_list.1.LayerNorm_ln1                         512.0  \n",
            "43_block_list.1.sa.head_list.0.Linear_key           32.768k  \n",
            "44_block_list.1.sa.head_list.0.Linear_query         32.768k  \n",
            "45_block_list.1.sa.head_list.0.Linear_value         32.768k  \n",
            "46_block_list.1.sa.head_list.0.Dropout_dropout            -  \n",
            "47_block_list.1.sa.head_list.1.Linear_key           32.768k  \n",
            "48_block_list.1.sa.head_list.1.Linear_query         32.768k  \n",
            "49_block_list.1.sa.head_list.1.Linear_value         32.768k  \n",
            "50_block_list.1.sa.head_list.1.Dropout_dropout            -  \n",
            "51_block_list.1.sa.head_list.2.Linear_key           32.768k  \n",
            "52_block_list.1.sa.head_list.2.Linear_query         32.768k  \n",
            "53_block_list.1.sa.head_list.2.Linear_value         32.768k  \n",
            "54_block_list.1.sa.head_list.2.Dropout_dropout            -  \n",
            "55_block_list.1.sa.head_list.3.Linear_key           32.768k  \n",
            "56_block_list.1.sa.head_list.3.Linear_query         32.768k  \n",
            "57_block_list.1.sa.head_list.3.Linear_value         32.768k  \n",
            "58_block_list.1.sa.head_list.3.Dropout_dropout            -  \n",
            "59_block_list.1.sa.head_list.4.Linear_key           32.768k  \n",
            "60_block_list.1.sa.head_list.4.Linear_query         32.768k  \n",
            "61_block_list.1.sa.head_list.4.Linear_value         32.768k  \n",
            "62_block_list.1.sa.head_list.4.Dropout_dropout            -  \n",
            "63_block_list.1.sa.head_list.5.Linear_key           32.768k  \n",
            "64_block_list.1.sa.head_list.5.Linear_query         32.768k  \n",
            "65_block_list.1.sa.head_list.5.Linear_value         32.768k  \n",
            "66_block_list.1.sa.head_list.5.Dropout_dropout            -  \n",
            "67_block_list.1.sa.head_list.6.Linear_key           32.768k  \n",
            "68_block_list.1.sa.head_list.6.Linear_query         32.768k  \n",
            "69_block_list.1.sa.head_list.6.Linear_value         32.768k  \n",
            "70_block_list.1.sa.head_list.6.Dropout_dropout            -  \n",
            "71_block_list.1.sa.head_list.7.Linear_key           32.768k  \n",
            "72_block_list.1.sa.head_list.7.Linear_query         32.768k  \n",
            "73_block_list.1.sa.head_list.7.Linear_value         32.768k  \n",
            "74_block_list.1.sa.head_list.7.Dropout_dropout            -  \n",
            "75_block_list.1.sa.Linear_proj                     262.144k  \n",
            "76_block_list.1.sa.Dropout_dropout                        -  \n",
            "77_block_list.1.LayerNorm_ln2                         512.0  \n",
            "78_block_list.1.ff.layers.Linear_0                1.048576M  \n",
            "79_block_list.1.ff.layers.GELU_1                          -  \n",
            "80_block_list.1.ff.layers.Linear_2                1.048576M  \n",
            "81_block_list.1.ff.layers.Dropout_3                       -  \n",
            "82_block_list.2.LayerNorm_ln1                         512.0  \n",
            "83_block_list.2.sa.head_list.0.Linear_key           32.768k  \n",
            "84_block_list.2.sa.head_list.0.Linear_query         32.768k  \n",
            "85_block_list.2.sa.head_list.0.Linear_value         32.768k  \n",
            "86_block_list.2.sa.head_list.0.Dropout_dropout            -  \n",
            "87_block_list.2.sa.head_list.1.Linear_key           32.768k  \n",
            "88_block_list.2.sa.head_list.1.Linear_query         32.768k  \n",
            "89_block_list.2.sa.head_list.1.Linear_value         32.768k  \n",
            "90_block_list.2.sa.head_list.1.Dropout_dropout            -  \n",
            "91_block_list.2.sa.head_list.2.Linear_key           32.768k  \n",
            "92_block_list.2.sa.head_list.2.Linear_query         32.768k  \n",
            "93_block_list.2.sa.head_list.2.Linear_value         32.768k  \n",
            "94_block_list.2.sa.head_list.2.Dropout_dropout            -  \n",
            "95_block_list.2.sa.head_list.3.Linear_key           32.768k  \n",
            "96_block_list.2.sa.head_list.3.Linear_query         32.768k  \n",
            "97_block_list.2.sa.head_list.3.Linear_value         32.768k  \n",
            "98_block_list.2.sa.head_list.3.Dropout_dropout            -  \n",
            "99_block_list.2.sa.head_list.4.Linear_key           32.768k  \n",
            "100_block_list.2.sa.head_list.4.Linear_query        32.768k  \n",
            "101_block_list.2.sa.head_list.4.Linear_value        32.768k  \n",
            "102_block_list.2.sa.head_list.4.Dropout_dropout           -  \n",
            "103_block_list.2.sa.head_list.5.Linear_key          32.768k  \n",
            "104_block_list.2.sa.head_list.5.Linear_query        32.768k  \n",
            "105_block_list.2.sa.head_list.5.Linear_value        32.768k  \n",
            "106_block_list.2.sa.head_list.5.Dropout_dropout           -  \n",
            "107_block_list.2.sa.head_list.6.Linear_key          32.768k  \n",
            "108_block_list.2.sa.head_list.6.Linear_query        32.768k  \n",
            "109_block_list.2.sa.head_list.6.Linear_value        32.768k  \n",
            "110_block_list.2.sa.head_list.6.Dropout_dropout           -  \n",
            "111_block_list.2.sa.head_list.7.Linear_key          32.768k  \n",
            "112_block_list.2.sa.head_list.7.Linear_query        32.768k  \n",
            "113_block_list.2.sa.head_list.7.Linear_value        32.768k  \n",
            "114_block_list.2.sa.head_list.7.Dropout_dropout           -  \n",
            "115_block_list.2.sa.Linear_proj                    262.144k  \n",
            "116_block_list.2.sa.Dropout_dropout                       -  \n",
            "117_block_list.2.LayerNorm_ln2                        512.0  \n",
            "118_block_list.2.ff.layers.Linear_0               1.048576M  \n",
            "119_block_list.2.ff.layers.GELU_1                         -  \n",
            "120_block_list.2.ff.layers.Linear_2               1.048576M  \n",
            "121_block_list.2.ff.layers.Dropout_3                      -  \n",
            "122_block_list.3.LayerNorm_ln1                        512.0  \n",
            "123_block_list.3.sa.head_list.0.Linear_key          32.768k  \n",
            "124_block_list.3.sa.head_list.0.Linear_query        32.768k  \n",
            "125_block_list.3.sa.head_list.0.Linear_value        32.768k  \n",
            "126_block_list.3.sa.head_list.0.Dropout_dropout           -  \n",
            "127_block_list.3.sa.head_list.1.Linear_key          32.768k  \n",
            "128_block_list.3.sa.head_list.1.Linear_query        32.768k  \n",
            "129_block_list.3.sa.head_list.1.Linear_value        32.768k  \n",
            "130_block_list.3.sa.head_list.1.Dropout_dropout           -  \n",
            "131_block_list.3.sa.head_list.2.Linear_key          32.768k  \n",
            "132_block_list.3.sa.head_list.2.Linear_query        32.768k  \n",
            "133_block_list.3.sa.head_list.2.Linear_value        32.768k  \n",
            "134_block_list.3.sa.head_list.2.Dropout_dropout           -  \n",
            "135_block_list.3.sa.head_list.3.Linear_key          32.768k  \n",
            "136_block_list.3.sa.head_list.3.Linear_query        32.768k  \n",
            "137_block_list.3.sa.head_list.3.Linear_value        32.768k  \n",
            "138_block_list.3.sa.head_list.3.Dropout_dropout           -  \n",
            "139_block_list.3.sa.head_list.4.Linear_key          32.768k  \n",
            "140_block_list.3.sa.head_list.4.Linear_query        32.768k  \n",
            "141_block_list.3.sa.head_list.4.Linear_value        32.768k  \n",
            "142_block_list.3.sa.head_list.4.Dropout_dropout           -  \n",
            "143_block_list.3.sa.head_list.5.Linear_key          32.768k  \n",
            "144_block_list.3.sa.head_list.5.Linear_query        32.768k  \n",
            "145_block_list.3.sa.head_list.5.Linear_value        32.768k  \n",
            "146_block_list.3.sa.head_list.5.Dropout_dropout           -  \n",
            "147_block_list.3.sa.head_list.6.Linear_key          32.768k  \n",
            "148_block_list.3.sa.head_list.6.Linear_query        32.768k  \n",
            "149_block_list.3.sa.head_list.6.Linear_value        32.768k  \n",
            "150_block_list.3.sa.head_list.6.Dropout_dropout           -  \n",
            "151_block_list.3.sa.head_list.7.Linear_key          32.768k  \n",
            "152_block_list.3.sa.head_list.7.Linear_query        32.768k  \n",
            "153_block_list.3.sa.head_list.7.Linear_value        32.768k  \n",
            "154_block_list.3.sa.head_list.7.Dropout_dropout           -  \n",
            "155_block_list.3.sa.Linear_proj                    262.144k  \n",
            "156_block_list.3.sa.Dropout_dropout                       -  \n",
            "157_block_list.3.LayerNorm_ln2                        512.0  \n",
            "158_block_list.3.ff.layers.Linear_0               1.048576M  \n",
            "159_block_list.3.ff.layers.GELU_1                         -  \n",
            "160_block_list.3.ff.layers.Linear_2               1.048576M  \n",
            "161_block_list.3.ff.layers.Dropout_3                      -  \n",
            "162_block_list.4.LayerNorm_ln1                        512.0  \n",
            "163_block_list.4.sa.head_list.0.Linear_key          32.768k  \n",
            "164_block_list.4.sa.head_list.0.Linear_query        32.768k  \n",
            "165_block_list.4.sa.head_list.0.Linear_value        32.768k  \n",
            "166_block_list.4.sa.head_list.0.Dropout_dropout           -  \n",
            "167_block_list.4.sa.head_list.1.Linear_key          32.768k  \n",
            "168_block_list.4.sa.head_list.1.Linear_query        32.768k  \n",
            "169_block_list.4.sa.head_list.1.Linear_value        32.768k  \n",
            "170_block_list.4.sa.head_list.1.Dropout_dropout           -  \n",
            "171_block_list.4.sa.head_list.2.Linear_key          32.768k  \n",
            "172_block_list.4.sa.head_list.2.Linear_query        32.768k  \n",
            "173_block_list.4.sa.head_list.2.Linear_value        32.768k  \n",
            "174_block_list.4.sa.head_list.2.Dropout_dropout           -  \n",
            "175_block_list.4.sa.head_list.3.Linear_key          32.768k  \n",
            "176_block_list.4.sa.head_list.3.Linear_query        32.768k  \n",
            "177_block_list.4.sa.head_list.3.Linear_value        32.768k  \n",
            "178_block_list.4.sa.head_list.3.Dropout_dropout           -  \n",
            "179_block_list.4.sa.head_list.4.Linear_key          32.768k  \n",
            "180_block_list.4.sa.head_list.4.Linear_query        32.768k  \n",
            "181_block_list.4.sa.head_list.4.Linear_value        32.768k  \n",
            "182_block_list.4.sa.head_list.4.Dropout_dropout           -  \n",
            "183_block_list.4.sa.head_list.5.Linear_key          32.768k  \n",
            "184_block_list.4.sa.head_list.5.Linear_query        32.768k  \n",
            "185_block_list.4.sa.head_list.5.Linear_value        32.768k  \n",
            "186_block_list.4.sa.head_list.5.Dropout_dropout           -  \n",
            "187_block_list.4.sa.head_list.6.Linear_key          32.768k  \n",
            "188_block_list.4.sa.head_list.6.Linear_query        32.768k  \n",
            "189_block_list.4.sa.head_list.6.Linear_value        32.768k  \n",
            "190_block_list.4.sa.head_list.6.Dropout_dropout           -  \n",
            "191_block_list.4.sa.head_list.7.Linear_key          32.768k  \n",
            "192_block_list.4.sa.head_list.7.Linear_query        32.768k  \n",
            "193_block_list.4.sa.head_list.7.Linear_value        32.768k  \n",
            "194_block_list.4.sa.head_list.7.Dropout_dropout           -  \n",
            "195_block_list.4.sa.Linear_proj                    262.144k  \n",
            "196_block_list.4.sa.Dropout_dropout                       -  \n",
            "197_block_list.4.LayerNorm_ln2                        512.0  \n",
            "198_block_list.4.ff.layers.Linear_0               1.048576M  \n",
            "199_block_list.4.ff.layers.GELU_1                         -  \n",
            "200_block_list.4.ff.layers.Linear_2               1.048576M  \n",
            "201_block_list.4.ff.layers.Dropout_3                      -  \n",
            "202_block_list.5.LayerNorm_ln1                        512.0  \n",
            "203_block_list.5.sa.head_list.0.Linear_key          32.768k  \n",
            "204_block_list.5.sa.head_list.0.Linear_query        32.768k  \n",
            "205_block_list.5.sa.head_list.0.Linear_value        32.768k  \n",
            "206_block_list.5.sa.head_list.0.Dropout_dropout           -  \n",
            "207_block_list.5.sa.head_list.1.Linear_key          32.768k  \n",
            "208_block_list.5.sa.head_list.1.Linear_query        32.768k  \n",
            "209_block_list.5.sa.head_list.1.Linear_value        32.768k  \n",
            "210_block_list.5.sa.head_list.1.Dropout_dropout           -  \n",
            "211_block_list.5.sa.head_list.2.Linear_key          32.768k  \n",
            "212_block_list.5.sa.head_list.2.Linear_query        32.768k  \n",
            "213_block_list.5.sa.head_list.2.Linear_value        32.768k  \n",
            "214_block_list.5.sa.head_list.2.Dropout_dropout           -  \n",
            "215_block_list.5.sa.head_list.3.Linear_key          32.768k  \n",
            "216_block_list.5.sa.head_list.3.Linear_query        32.768k  \n",
            "217_block_list.5.sa.head_list.3.Linear_value        32.768k  \n",
            "218_block_list.5.sa.head_list.3.Dropout_dropout           -  \n",
            "219_block_list.5.sa.head_list.4.Linear_key          32.768k  \n",
            "220_block_list.5.sa.head_list.4.Linear_query        32.768k  \n",
            "221_block_list.5.sa.head_list.4.Linear_value        32.768k  \n",
            "222_block_list.5.sa.head_list.4.Dropout_dropout           -  \n",
            "223_block_list.5.sa.head_list.5.Linear_key          32.768k  \n",
            "224_block_list.5.sa.head_list.5.Linear_query        32.768k  \n",
            "225_block_list.5.sa.head_list.5.Linear_value        32.768k  \n",
            "226_block_list.5.sa.head_list.5.Dropout_dropout           -  \n",
            "227_block_list.5.sa.head_list.6.Linear_key          32.768k  \n",
            "228_block_list.5.sa.head_list.6.Linear_query        32.768k  \n",
            "229_block_list.5.sa.head_list.6.Linear_value        32.768k  \n",
            "230_block_list.5.sa.head_list.6.Dropout_dropout           -  \n",
            "231_block_list.5.sa.head_list.7.Linear_key          32.768k  \n",
            "232_block_list.5.sa.head_list.7.Linear_query        32.768k  \n",
            "233_block_list.5.sa.head_list.7.Linear_value        32.768k  \n",
            "234_block_list.5.sa.head_list.7.Dropout_dropout           -  \n",
            "235_block_list.5.sa.Linear_proj                    262.144k  \n",
            "236_block_list.5.sa.Dropout_dropout                       -  \n",
            "237_block_list.5.LayerNorm_ln2                        512.0  \n",
            "238_block_list.5.ff.layers.Linear_0               1.048576M  \n",
            "239_block_list.5.ff.layers.GELU_1                         -  \n",
            "240_block_list.5.ff.layers.Linear_2               1.048576M  \n",
            "241_block_list.5.ff.layers.Dropout_3                      -  \n",
            "242_block_list.6.LayerNorm_ln1                        512.0  \n",
            "243_block_list.6.sa.head_list.0.Linear_key          32.768k  \n",
            "244_block_list.6.sa.head_list.0.Linear_query        32.768k  \n",
            "245_block_list.6.sa.head_list.0.Linear_value        32.768k  \n",
            "246_block_list.6.sa.head_list.0.Dropout_dropout           -  \n",
            "247_block_list.6.sa.head_list.1.Linear_key          32.768k  \n",
            "248_block_list.6.sa.head_list.1.Linear_query        32.768k  \n",
            "249_block_list.6.sa.head_list.1.Linear_value        32.768k  \n",
            "250_block_list.6.sa.head_list.1.Dropout_dropout           -  \n",
            "251_block_list.6.sa.head_list.2.Linear_key          32.768k  \n",
            "252_block_list.6.sa.head_list.2.Linear_query        32.768k  \n",
            "253_block_list.6.sa.head_list.2.Linear_value        32.768k  \n",
            "254_block_list.6.sa.head_list.2.Dropout_dropout           -  \n",
            "255_block_list.6.sa.head_list.3.Linear_key          32.768k  \n",
            "256_block_list.6.sa.head_list.3.Linear_query        32.768k  \n",
            "257_block_list.6.sa.head_list.3.Linear_value        32.768k  \n",
            "258_block_list.6.sa.head_list.3.Dropout_dropout           -  \n",
            "259_block_list.6.sa.head_list.4.Linear_key          32.768k  \n",
            "260_block_list.6.sa.head_list.4.Linear_query        32.768k  \n",
            "261_block_list.6.sa.head_list.4.Linear_value        32.768k  \n",
            "262_block_list.6.sa.head_list.4.Dropout_dropout           -  \n",
            "263_block_list.6.sa.head_list.5.Linear_key          32.768k  \n",
            "264_block_list.6.sa.head_list.5.Linear_query        32.768k  \n",
            "265_block_list.6.sa.head_list.5.Linear_value        32.768k  \n",
            "266_block_list.6.sa.head_list.5.Dropout_dropout           -  \n",
            "267_block_list.6.sa.head_list.6.Linear_key          32.768k  \n",
            "268_block_list.6.sa.head_list.6.Linear_query        32.768k  \n",
            "269_block_list.6.sa.head_list.6.Linear_value        32.768k  \n",
            "270_block_list.6.sa.head_list.6.Dropout_dropout           -  \n",
            "271_block_list.6.sa.head_list.7.Linear_key          32.768k  \n",
            "272_block_list.6.sa.head_list.7.Linear_query        32.768k  \n",
            "273_block_list.6.sa.head_list.7.Linear_value        32.768k  \n",
            "274_block_list.6.sa.head_list.7.Dropout_dropout           -  \n",
            "275_block_list.6.sa.Linear_proj                    262.144k  \n",
            "276_block_list.6.sa.Dropout_dropout                       -  \n",
            "277_block_list.6.LayerNorm_ln2                        512.0  \n",
            "278_block_list.6.ff.layers.Linear_0               1.048576M  \n",
            "279_block_list.6.ff.layers.GELU_1                         -  \n",
            "280_block_list.6.ff.layers.Linear_2               1.048576M  \n",
            "281_block_list.6.ff.layers.Dropout_3                      -  \n",
            "282_block_list.7.LayerNorm_ln1                        512.0  \n",
            "283_block_list.7.sa.head_list.0.Linear_key          32.768k  \n",
            "284_block_list.7.sa.head_list.0.Linear_query        32.768k  \n",
            "285_block_list.7.sa.head_list.0.Linear_value        32.768k  \n",
            "286_block_list.7.sa.head_list.0.Dropout_dropout           -  \n",
            "287_block_list.7.sa.head_list.1.Linear_key          32.768k  \n",
            "288_block_list.7.sa.head_list.1.Linear_query        32.768k  \n",
            "289_block_list.7.sa.head_list.1.Linear_value        32.768k  \n",
            "290_block_list.7.sa.head_list.1.Dropout_dropout           -  \n",
            "291_block_list.7.sa.head_list.2.Linear_key          32.768k  \n",
            "292_block_list.7.sa.head_list.2.Linear_query        32.768k  \n",
            "293_block_list.7.sa.head_list.2.Linear_value        32.768k  \n",
            "294_block_list.7.sa.head_list.2.Dropout_dropout           -  \n",
            "295_block_list.7.sa.head_list.3.Linear_key          32.768k  \n",
            "296_block_list.7.sa.head_list.3.Linear_query        32.768k  \n",
            "297_block_list.7.sa.head_list.3.Linear_value        32.768k  \n",
            "298_block_list.7.sa.head_list.3.Dropout_dropout           -  \n",
            "299_block_list.7.sa.head_list.4.Linear_key          32.768k  \n",
            "300_block_list.7.sa.head_list.4.Linear_query        32.768k  \n",
            "301_block_list.7.sa.head_list.4.Linear_value        32.768k  \n",
            "302_block_list.7.sa.head_list.4.Dropout_dropout           -  \n",
            "303_block_list.7.sa.head_list.5.Linear_key          32.768k  \n",
            "304_block_list.7.sa.head_list.5.Linear_query        32.768k  \n",
            "305_block_list.7.sa.head_list.5.Linear_value        32.768k  \n",
            "306_block_list.7.sa.head_list.5.Dropout_dropout           -  \n",
            "307_block_list.7.sa.head_list.6.Linear_key          32.768k  \n",
            "308_block_list.7.sa.head_list.6.Linear_query        32.768k  \n",
            "309_block_list.7.sa.head_list.6.Linear_value        32.768k  \n",
            "310_block_list.7.sa.head_list.6.Dropout_dropout           -  \n",
            "311_block_list.7.sa.head_list.7.Linear_key          32.768k  \n",
            "312_block_list.7.sa.head_list.7.Linear_query        32.768k  \n",
            "313_block_list.7.sa.head_list.7.Linear_value        32.768k  \n",
            "314_block_list.7.sa.head_list.7.Dropout_dropout           -  \n",
            "315_block_list.7.sa.Linear_proj                    262.144k  \n",
            "316_block_list.7.sa.Dropout_dropout                       -  \n",
            "317_block_list.7.LayerNorm_ln2                        512.0  \n",
            "318_block_list.7.ff.layers.Linear_0               1.048576M  \n",
            "319_block_list.7.ff.layers.GELU_1                         -  \n",
            "320_block_list.7.ff.layers.Linear_2               1.048576M  \n",
            "321_block_list.7.ff.layers.Dropout_3                      -  \n",
            "322_final_ln                                          512.0  \n",
            "323_lm_head                                      25.731584M  \n",
            "-------------------------------------------------------------------------------------------------------\n",
            "                          Totals\n",
            "Total params          76.852305M\n",
            "Trainable params      76.852305M\n",
            "Non-trainable params         0.0\n",
            "Mult-Adds             76.768768M\n",
            "=======================================================================================================\n"
          ]
        },
        {
          "output_type": "execute_result",
          "data": {
            "text/plain": [
              "                                            Kernel Shape      Output Shape  \\\n",
              "Layer                                                                        \n",
              "0_token_embeddings                          [512, 50257]    [64, 256, 512]   \n",
              "1_position_embeddings                         [512, 256]        [256, 512]   \n",
              "2_block_list.0.LayerNorm_ln1                       [512]    [64, 256, 512]   \n",
              "3_block_list.0.sa.head_list.0.Linear_key       [512, 64]     [64, 256, 64]   \n",
              "4_block_list.0.sa.head_list.0.Linear_query     [512, 64]     [64, 256, 64]   \n",
              "...                                                  ...               ...   \n",
              "319_block_list.7.ff.layers.GELU_1                      -   [64, 256, 2048]   \n",
              "320_block_list.7.ff.layers.Linear_2          [2048, 512]    [64, 256, 512]   \n",
              "321_block_list.7.ff.layers.Dropout_3                   -    [64, 256, 512]   \n",
              "322_final_ln                                       [512]    [64, 256, 512]   \n",
              "323_lm_head                                 [512, 50257]  [64, 256, 50257]   \n",
              "\n",
              "                                                Params   Mult-Adds  \n",
              "Layer                                                               \n",
              "0_token_embeddings                          25731584.0  25731584.0  \n",
              "1_position_embeddings                         131072.0    131072.0  \n",
              "2_block_list.0.LayerNorm_ln1                    1024.0       512.0  \n",
              "3_block_list.0.sa.head_list.0.Linear_key       32768.0     32768.0  \n",
              "4_block_list.0.sa.head_list.0.Linear_query     32768.0     32768.0  \n",
              "...                                                ...         ...  \n",
              "319_block_list.7.ff.layers.GELU_1                  NaN         NaN  \n",
              "320_block_list.7.ff.layers.Linear_2          1049088.0   1048576.0  \n",
              "321_block_list.7.ff.layers.Dropout_3               NaN         NaN  \n",
              "322_final_ln                                    1024.0       512.0  \n",
              "323_lm_head                                 25781841.0  25731584.0  \n",
              "\n",
              "[324 rows x 4 columns]"
            ],
            "text/html": [
              "\n",
              "  <div id=\"df-c661b43a-0236-4c44-b33a-0c1f3240eadb\" class=\"colab-df-container\">\n",
              "    <div>\n",
              "<style scoped>\n",
              "    .dataframe tbody tr th:only-of-type {\n",
              "        vertical-align: middle;\n",
              "    }\n",
              "\n",
              "    .dataframe tbody tr th {\n",
              "        vertical-align: top;\n",
              "    }\n",
              "\n",
              "    .dataframe thead th {\n",
              "        text-align: right;\n",
              "    }\n",
              "</style>\n",
              "<table border=\"1\" class=\"dataframe\">\n",
              "  <thead>\n",
              "    <tr style=\"text-align: right;\">\n",
              "      <th></th>\n",
              "      <th>Kernel Shape</th>\n",
              "      <th>Output Shape</th>\n",
              "      <th>Params</th>\n",
              "      <th>Mult-Adds</th>\n",
              "    </tr>\n",
              "    <tr>\n",
              "      <th>Layer</th>\n",
              "      <th></th>\n",
              "      <th></th>\n",
              "      <th></th>\n",
              "      <th></th>\n",
              "    </tr>\n",
              "  </thead>\n",
              "  <tbody>\n",
              "    <tr>\n",
              "      <th>0_token_embeddings</th>\n",
              "      <td>[512, 50257]</td>\n",
              "      <td>[64, 256, 512]</td>\n",
              "      <td>25731584.0</td>\n",
              "      <td>25731584.0</td>\n",
              "    </tr>\n",
              "    <tr>\n",
              "      <th>1_position_embeddings</th>\n",
              "      <td>[512, 256]</td>\n",
              "      <td>[256, 512]</td>\n",
              "      <td>131072.0</td>\n",
              "      <td>131072.0</td>\n",
              "    </tr>\n",
              "    <tr>\n",
              "      <th>2_block_list.0.LayerNorm_ln1</th>\n",
              "      <td>[512]</td>\n",
              "      <td>[64, 256, 512]</td>\n",
              "      <td>1024.0</td>\n",
              "      <td>512.0</td>\n",
              "    </tr>\n",
              "    <tr>\n",
              "      <th>3_block_list.0.sa.head_list.0.Linear_key</th>\n",
              "      <td>[512, 64]</td>\n",
              "      <td>[64, 256, 64]</td>\n",
              "      <td>32768.0</td>\n",
              "      <td>32768.0</td>\n",
              "    </tr>\n",
              "    <tr>\n",
              "      <th>4_block_list.0.sa.head_list.0.Linear_query</th>\n",
              "      <td>[512, 64]</td>\n",
              "      <td>[64, 256, 64]</td>\n",
              "      <td>32768.0</td>\n",
              "      <td>32768.0</td>\n",
              "    </tr>\n",
              "    <tr>\n",
              "      <th>...</th>\n",
              "      <td>...</td>\n",
              "      <td>...</td>\n",
              "      <td>...</td>\n",
              "      <td>...</td>\n",
              "    </tr>\n",
              "    <tr>\n",
              "      <th>319_block_list.7.ff.layers.GELU_1</th>\n",
              "      <td>-</td>\n",
              "      <td>[64, 256, 2048]</td>\n",
              "      <td>NaN</td>\n",
              "      <td>NaN</td>\n",
              "    </tr>\n",
              "    <tr>\n",
              "      <th>320_block_list.7.ff.layers.Linear_2</th>\n",
              "      <td>[2048, 512]</td>\n",
              "      <td>[64, 256, 512]</td>\n",
              "      <td>1049088.0</td>\n",
              "      <td>1048576.0</td>\n",
              "    </tr>\n",
              "    <tr>\n",
              "      <th>321_block_list.7.ff.layers.Dropout_3</th>\n",
              "      <td>-</td>\n",
              "      <td>[64, 256, 512]</td>\n",
              "      <td>NaN</td>\n",
              "      <td>NaN</td>\n",
              "    </tr>\n",
              "    <tr>\n",
              "      <th>322_final_ln</th>\n",
              "      <td>[512]</td>\n",
              "      <td>[64, 256, 512]</td>\n",
              "      <td>1024.0</td>\n",
              "      <td>512.0</td>\n",
              "    </tr>\n",
              "    <tr>\n",
              "      <th>323_lm_head</th>\n",
              "      <td>[512, 50257]</td>\n",
              "      <td>[64, 256, 50257]</td>\n",
              "      <td>25781841.0</td>\n",
              "      <td>25731584.0</td>\n",
              "    </tr>\n",
              "  </tbody>\n",
              "</table>\n",
              "<p>324 rows × 4 columns</p>\n",
              "</div>\n",
              "    <div class=\"colab-df-buttons\">\n",
              "\n",
              "  <div class=\"colab-df-container\">\n",
              "    <button class=\"colab-df-convert\" onclick=\"convertToInteractive('df-c661b43a-0236-4c44-b33a-0c1f3240eadb')\"\n",
              "            title=\"Convert this dataframe to an interactive table.\"\n",
              "            style=\"display:none;\">\n",
              "\n",
              "  <svg xmlns=\"http://www.w3.org/2000/svg\" height=\"24px\" viewBox=\"0 -960 960 960\">\n",
              "    <path d=\"M120-120v-720h720v720H120Zm60-500h600v-160H180v160Zm220 220h160v-160H400v160Zm0 220h160v-160H400v160ZM180-400h160v-160H180v160Zm440 0h160v-160H620v160ZM180-180h160v-160H180v160Zm440 0h160v-160H620v160Z\"/>\n",
              "  </svg>\n",
              "    </button>\n",
              "\n",
              "  <style>\n",
              "    .colab-df-container {\n",
              "      display:flex;\n",
              "      gap: 12px;\n",
              "    }\n",
              "\n",
              "    .colab-df-convert {\n",
              "      background-color: #E8F0FE;\n",
              "      border: none;\n",
              "      border-radius: 50%;\n",
              "      cursor: pointer;\n",
              "      display: none;\n",
              "      fill: #1967D2;\n",
              "      height: 32px;\n",
              "      padding: 0 0 0 0;\n",
              "      width: 32px;\n",
              "    }\n",
              "\n",
              "    .colab-df-convert:hover {\n",
              "      background-color: #E2EBFA;\n",
              "      box-shadow: 0px 1px 2px rgba(60, 64, 67, 0.3), 0px 1px 3px 1px rgba(60, 64, 67, 0.15);\n",
              "      fill: #174EA6;\n",
              "    }\n",
              "\n",
              "    .colab-df-buttons div {\n",
              "      margin-bottom: 4px;\n",
              "    }\n",
              "\n",
              "    [theme=dark] .colab-df-convert {\n",
              "      background-color: #3B4455;\n",
              "      fill: #D2E3FC;\n",
              "    }\n",
              "\n",
              "    [theme=dark] .colab-df-convert:hover {\n",
              "      background-color: #434B5C;\n",
              "      box-shadow: 0px 1px 3px 1px rgba(0, 0, 0, 0.15);\n",
              "      filter: drop-shadow(0px 1px 2px rgba(0, 0, 0, 0.3));\n",
              "      fill: #FFFFFF;\n",
              "    }\n",
              "  </style>\n",
              "\n",
              "    <script>\n",
              "      const buttonEl =\n",
              "        document.querySelector('#df-c661b43a-0236-4c44-b33a-0c1f3240eadb button.colab-df-convert');\n",
              "      buttonEl.style.display =\n",
              "        google.colab.kernel.accessAllowed ? 'block' : 'none';\n",
              "\n",
              "      async function convertToInteractive(key) {\n",
              "        const element = document.querySelector('#df-c661b43a-0236-4c44-b33a-0c1f3240eadb');\n",
              "        const dataTable =\n",
              "          await google.colab.kernel.invokeFunction('convertToInteractive',\n",
              "                                                    [key], {});\n",
              "        if (!dataTable) return;\n",
              "\n",
              "        const docLinkHtml = 'Like what you see? Visit the ' +\n",
              "          '<a target=\"_blank\" href=https://colab.research.google.com/notebooks/data_table.ipynb>data table notebook</a>'\n",
              "          + ' to learn more about interactive tables.';\n",
              "        element.innerHTML = '';\n",
              "        dataTable['output_type'] = 'display_data';\n",
              "        await google.colab.output.renderOutput(dataTable, element);\n",
              "        const docLink = document.createElement('div');\n",
              "        docLink.innerHTML = docLinkHtml;\n",
              "        element.appendChild(docLink);\n",
              "      }\n",
              "    </script>\n",
              "  </div>\n",
              "\n",
              "\n",
              "<div id=\"df-39aecdae-50b7-4096-81da-596fffec9f4f\">\n",
              "  <button class=\"colab-df-quickchart\" onclick=\"quickchart('df-39aecdae-50b7-4096-81da-596fffec9f4f')\"\n",
              "            title=\"Suggest charts\"\n",
              "            style=\"display:none;\">\n",
              "\n",
              "<svg xmlns=\"http://www.w3.org/2000/svg\" height=\"24px\"viewBox=\"0 0 24 24\"\n",
              "     width=\"24px\">\n",
              "    <g>\n",
              "        <path d=\"M19 3H5c-1.1 0-2 .9-2 2v14c0 1.1.9 2 2 2h14c1.1 0 2-.9 2-2V5c0-1.1-.9-2-2-2zM9 17H7v-7h2v7zm4 0h-2V7h2v10zm4 0h-2v-4h2v4z\"/>\n",
              "    </g>\n",
              "</svg>\n",
              "  </button>\n",
              "\n",
              "<style>\n",
              "  .colab-df-quickchart {\n",
              "      --bg-color: #E8F0FE;\n",
              "      --fill-color: #1967D2;\n",
              "      --hover-bg-color: #E2EBFA;\n",
              "      --hover-fill-color: #174EA6;\n",
              "      --disabled-fill-color: #AAA;\n",
              "      --disabled-bg-color: #DDD;\n",
              "  }\n",
              "\n",
              "  [theme=dark] .colab-df-quickchart {\n",
              "      --bg-color: #3B4455;\n",
              "      --fill-color: #D2E3FC;\n",
              "      --hover-bg-color: #434B5C;\n",
              "      --hover-fill-color: #FFFFFF;\n",
              "      --disabled-bg-color: #3B4455;\n",
              "      --disabled-fill-color: #666;\n",
              "  }\n",
              "\n",
              "  .colab-df-quickchart {\n",
              "    background-color: var(--bg-color);\n",
              "    border: none;\n",
              "    border-radius: 50%;\n",
              "    cursor: pointer;\n",
              "    display: none;\n",
              "    fill: var(--fill-color);\n",
              "    height: 32px;\n",
              "    padding: 0;\n",
              "    width: 32px;\n",
              "  }\n",
              "\n",
              "  .colab-df-quickchart:hover {\n",
              "    background-color: var(--hover-bg-color);\n",
              "    box-shadow: 0 1px 2px rgba(60, 64, 67, 0.3), 0 1px 3px 1px rgba(60, 64, 67, 0.15);\n",
              "    fill: var(--button-hover-fill-color);\n",
              "  }\n",
              "\n",
              "  .colab-df-quickchart-complete:disabled,\n",
              "  .colab-df-quickchart-complete:disabled:hover {\n",
              "    background-color: var(--disabled-bg-color);\n",
              "    fill: var(--disabled-fill-color);\n",
              "    box-shadow: none;\n",
              "  }\n",
              "\n",
              "  .colab-df-spinner {\n",
              "    border: 2px solid var(--fill-color);\n",
              "    border-color: transparent;\n",
              "    border-bottom-color: var(--fill-color);\n",
              "    animation:\n",
              "      spin 1s steps(1) infinite;\n",
              "  }\n",
              "\n",
              "  @keyframes spin {\n",
              "    0% {\n",
              "      border-color: transparent;\n",
              "      border-bottom-color: var(--fill-color);\n",
              "      border-left-color: var(--fill-color);\n",
              "    }\n",
              "    20% {\n",
              "      border-color: transparent;\n",
              "      border-left-color: var(--fill-color);\n",
              "      border-top-color: var(--fill-color);\n",
              "    }\n",
              "    30% {\n",
              "      border-color: transparent;\n",
              "      border-left-color: var(--fill-color);\n",
              "      border-top-color: var(--fill-color);\n",
              "      border-right-color: var(--fill-color);\n",
              "    }\n",
              "    40% {\n",
              "      border-color: transparent;\n",
              "      border-right-color: var(--fill-color);\n",
              "      border-top-color: var(--fill-color);\n",
              "    }\n",
              "    60% {\n",
              "      border-color: transparent;\n",
              "      border-right-color: var(--fill-color);\n",
              "    }\n",
              "    80% {\n",
              "      border-color: transparent;\n",
              "      border-right-color: var(--fill-color);\n",
              "      border-bottom-color: var(--fill-color);\n",
              "    }\n",
              "    90% {\n",
              "      border-color: transparent;\n",
              "      border-bottom-color: var(--fill-color);\n",
              "    }\n",
              "  }\n",
              "</style>\n",
              "\n",
              "  <script>\n",
              "    async function quickchart(key) {\n",
              "      const quickchartButtonEl =\n",
              "        document.querySelector('#' + key + ' button');\n",
              "      quickchartButtonEl.disabled = true;  // To prevent multiple clicks.\n",
              "      quickchartButtonEl.classList.add('colab-df-spinner');\n",
              "      try {\n",
              "        const charts = await google.colab.kernel.invokeFunction(\n",
              "            'suggestCharts', [key], {});\n",
              "      } catch (error) {\n",
              "        console.error('Error during call to suggestCharts:', error);\n",
              "      }\n",
              "      quickchartButtonEl.classList.remove('colab-df-spinner');\n",
              "      quickchartButtonEl.classList.add('colab-df-quickchart-complete');\n",
              "    }\n",
              "    (() => {\n",
              "      let quickchartButtonEl =\n",
              "        document.querySelector('#df-39aecdae-50b7-4096-81da-596fffec9f4f button');\n",
              "      quickchartButtonEl.style.display =\n",
              "        google.colab.kernel.accessAllowed ? 'block' : 'none';\n",
              "    })();\n",
              "  </script>\n",
              "</div>\n",
              "\n",
              "    </div>\n",
              "  </div>\n"
            ],
            "application/vnd.google.colaboratory.intrinsic+json": {
              "type": "dataframe",
              "repr_error": "unhashable type: 'list'"
            }
          },
          "metadata": {},
          "execution_count": 38
        }
      ],
      "source": [
        "summary(model, xb.to(device), yb.to(device))"
      ]
    },
    {
      "cell_type": "code",
      "execution_count": null,
      "metadata": {
        "id": "N8rVNj48QLUc"
      },
      "outputs": [],
      "source": [
        "optimizer = torch.optim.AdamW(model.parameters(), lr=config.lr, weight_decay=config.weight_decay)\n",
        "scaler = torch.cuda.amp.GradScaler(enabled=True)\n",
        "\n",
        "\n",
        "# for generation\n",
        "start_ix = torch.zeros((1,1), dtype=torch.long, device=device) # (newline character in a single batch)"
      ]
    },
    {
      "cell_type": "code",
      "execution_count": null,
      "metadata": {
        "id": "eT5YkoSNQLUc"
      },
      "outputs": [],
      "source": [
        "# poor man's lr scheduler. why? because cosine with warmup isn't readily available on torch (it's warm RESTARTS)\n",
        "# but idc about restarting eh?\n",
        "def get_lr(it):\n",
        "    \"get lr at a specific iteration\"\n",
        "    max_lr = config.lr\n",
        "    min_lr = config.min_lr\n",
        "    warmup_iters = config.warmup_iters\n",
        "    max_lr_decay_iters = config.num_iters # can also be made into another param\n",
        "    if it <= warmup_iters:\n",
        "        return max_lr * (it / warmup_iters)\n",
        "\n",
        "    if it > max_lr_decay_iters:\n",
        "        # decaying only up to a certain point, interesting\n",
        "        return min_lr\n",
        "    ratio = (it - warmup_iters) / (max_lr_decay_iters - warmup_iters) # how much % of decay cycle is done?\n",
        "    coeff = 0.5 * (1 + math.cos(math.pi * ratio)) # [0,1]\n",
        "    return min_lr + coeff * (max_lr - min_lr) # beautiful"
      ]
    },
    {
      "cell_type": "code",
      "execution_count": null,
      "metadata": {
        "id": "9X5IiaarQLUc",
        "outputId": "48c0f88e-7529-4403-c398-bd1de77bb59d",
        "colab": {
          "base_uri": "https://localhost:8080/",
          "height": 430
        },
        "executionInfo": {
          "status": "ok",
          "timestamp": 1713762263199,
          "user_tz": 240,
          "elapsed": 528,
          "user": {
            "displayName": "",
            "userId": ""
          }
        }
      },
      "outputs": [
        {
          "output_type": "display_data",
          "data": {
            "text/plain": [
              "<Figure size 640x480 with 1 Axes>"
            ],
            "image/png": "[encoded data removed]"
          },
          "metadata": {}
        }
      ],
      "source": [
        "def test_lr():\n",
        "    import random\n",
        "    import matplotlib.pyplot as plt\n",
        "    x = [i for i in range(0,10000,100)]\n",
        "    y = [get_lr(i) for i in x]\n",
        "    plt.plot(x, y)\n",
        "    plt.show()\n",
        "\n",
        "test_lr()\n"
      ]
    },
    {
      "cell_type": "code",
      "execution_count": null,
      "metadata": {
        "id": "CVOkmmi_QLUc"
      },
      "outputs": [],
      "source": [
        "'''\n",
        "@torch.no_grad()\n",
        "def estimate_losses(config):\n",
        "    model.eval()\n",
        "    losses = {'train': -1., 'val': -1.}\n",
        "    for split in ['train', 'val']:\n",
        "        loss = 0\n",
        "        for _ in range(config.eval_iters):\n",
        "            # xb, yb = next(iter(val_loader))\n",
        "            # xb, yb = xb.to(device), yb.to(device)\n",
        "            xb, yb = get_batch('val')\n",
        "            loss += model(xb, yb)[1].item()\n",
        "        loss /= config.eval_iters\n",
        "        if split == 'train':\n",
        "            losses['train'] = loss\n",
        "        else:\n",
        "            losses['val'] = loss\n",
        "    model.train()\n",
        "    return losses\n",
        "    '''"
      ]
    },
    {
      "cell_type": "code",
      "source": [
        "@torch.no_grad()\n",
        "def estimate_losses(config, train_loader, val_loader):\n",
        "    model.eval()\n",
        "    losses = {'train': -1., 'val': -1.}\n",
        "    train_loss = 0\n",
        "    train_iters = min(config.eval_iters, len(train_loader))\n",
        "    for i, (xb, yb) in enumerate(train_loader):\n",
        "        if i >= train_iters:\n",
        "            break\n",
        "        xb, yb = xb.to(device), yb.to(device)\n",
        "        _, loss = model(xb, yb)\n",
        "        train_loss += loss.item()\n",
        "    losses['train'] = train_loss / train_iters\n",
        "\n",
        "    # Evaluate validation loss (considering only config.eval_iters iterations)\n",
        "    val_loss = 0\n",
        "    val_iters = min(config.eval_iters, len(val_loader))\n",
        "    for i, (xb, yb) in enumerate(val_loader):\n",
        "        if i >= val_iters:\n",
        "            break\n",
        "        xb, yb = xb.to(device), yb.to(device)\n",
        "        _, loss = model(xb, yb)\n",
        "        val_loss += loss.item()\n",
        "    losses['val'] = val_loss / val_iters\n",
        "\n",
        "    model.train()\n",
        "    return losses"
      ],
      "metadata": {
        "id": "47ZGa3tkMSAi"
      },
      "execution_count": null,
      "outputs": []
    },
    {
      "cell_type": "markdown",
      "metadata": {
        "id": "CJfqzDg2QLUc"
      },
      "source": [
        "## WandB"
      ]
    },
    {
      "cell_type": "code",
      "execution_count": null,
      "metadata": {
        "id": "no1t4aJ5QLUc",
        "outputId": "b3975fb2-202c-4c44-a1c0-e9f928afc505",
        "colab": {
          "base_uri": "https://localhost:8080/",
          "height": 213
        },
        "executionInfo": {
          "status": "ok",
          "timestamp": 1713762337244,
          "user_tz": 240,
          "elapsed": 4784,
          "user": {
            "displayName": "",
            "userId": ""
          }
        }
      },
      "outputs": [
        {
          "output_type": "stream",
          "name": "stderr",
          "text": [
            "\u001b[34m\u001b[1mwandb\u001b[0m: Currently logged in as: \u001b[33mshanhong\u001b[0m (\u001b[33mstudygroup3\u001b[0m). Use \u001b[1m`wandb login --relogin`\u001b[0m to force relogin\n",
            "\u001b[34m\u001b[1mwandb\u001b[0m: \u001b[33mWARNING\u001b[0m If you're specifying your api key in code, ensure this code is not shared publicly.\n",
            "\u001b[34m\u001b[1mwandb\u001b[0m: \u001b[33mWARNING\u001b[0m Consider setting the WANDB_API_KEY environment variable, or running `wandb login` from the command line.\n",
            "\u001b[34m\u001b[1mwandb\u001b[0m: Appending key for api.wandb.ai to your netrc file: /root/.netrc\n"
          ]
        },
        {
          "output_type": "display_data",
          "data": {
            "text/plain": [
              "<IPython.core.display.HTML object>"
            ],
            "text/html": [
              "wandb version 0.16.6 is available!  To upgrade, please run:\n",
              " $ pip install wandb --upgrade"
            ]
          },
          "metadata": {}
        },
        {
          "output_type": "display_data",
          "data": {
            "text/plain": [
              "<IPython.core.display.HTML object>"
            ],
            "text/html": [
              "Tracking run with wandb version 0.16.4"
            ]
          },
          "metadata": {}
        },
        {
          "output_type": "display_data",
          "data": {
            "text/plain": [
              "<IPython.core.display.HTML object>"
            ],
            "text/html": [
              "Run data is saved locally in <code>/content/wandb/run-20240422_050534-aq4t04sg</code>"
            ]
          },
          "metadata": {}
        },
        {
          "output_type": "display_data",
          "data": {
            "text/plain": [
              "<IPython.core.display.HTML object>"
            ],
            "text/html": [
              "Syncing run <strong><a href='https://wandb.ai/studygroup3/ideal_gpt/runs/aq4t04sg' target=\"_blank\">pretrain_v1</a></strong> to <a href='https://wandb.ai/studygroup3/ideal_gpt' target=\"_blank\">Weights & Biases</a> (<a href='https://wandb.me/run' target=\"_blank\">docs</a>)<br/>"
            ]
          },
          "metadata": {}
        },
        {
          "output_type": "display_data",
          "data": {
            "text/plain": [
              "<IPython.core.display.HTML object>"
            ],
            "text/html": [
              " View project at <a href='https://wandb.ai/studygroup3/ideal_gpt' target=\"_blank\">https://wandb.ai/studygroup3/ideal_gpt</a>"
            ]
          },
          "metadata": {}
        },
        {
          "output_type": "display_data",
          "data": {
            "text/plain": [
              "<IPython.core.display.HTML object>"
            ],
            "text/html": [
              " View run at <a href='https://wandb.ai/studygroup3/ideal_gpt/runs/aq4t04sg' target=\"_blank\">https://wandb.ai/studygroup3/ideal_gpt/runs/aq4t04sg</a>"
            ]
          },
          "metadata": {}
        }
      ],
      "source": [
        "wandb.login(key=\"\", force=True) #API Key is in your wandb account, under settings (wandb.ai/settings)\n",
        "run = wandb.init(\n",
        "        name    = 'pretrain_v1', ## Wandb creates random run names if you skip this field\n",
        "        reinit = True, ### Allows reinitalizing runs when you re-run this cell\n",
        "        # entity = 'thunderbuddies',\n",
        "        # run_id = ### Insert specific run id here if you want to resume a previous run\n",
        "        # resume = \"must\" ### You need this to resume previous runs, but comment out reinit = True when using this\n",
        "        project = \"ideal_gpt\", ### Project should be created in your wandb account\n",
        "        config = config ### Wandb Config for your run\n",
        "    )"
      ]
    },
    {
      "cell_type": "code",
      "execution_count": null,
      "metadata": {
        "id": "smwh3FSyQLUc",
        "outputId": "3f8b2e76-ad22-4f47-ae92-dde452deddfb"
      },
      "outputs": [
        {
          "data": {
            "text/plain": [
              "torch.Size([1, 1])"
            ]
          },
          "execution_count": 38,
          "metadata": {},
          "output_type": "execute_result"
        }
      ],
      "source": [
        "start_ix.shape"
      ]
    },
    {
      "cell_type": "code",
      "execution_count": null,
      "metadata": {
        "id": "XLdX2OG3QLUd",
        "outputId": "fa2e63c0-9af0-41cf-e3ca-9bf7bddc2f40",
        "colab": {
          "base_uri": "https://localhost:8080/"
        },
        "executionInfo": {
          "status": "ok",
          "timestamp": 1713762372102,
          "user_tz": 240,
          "elapsed": 151,
          "user": {
            "displayName": "",
            "userId": ""
          }
        }
      },
      "outputs": [
        {
          "output_type": "stream",
          "name": "stderr",
          "text": [
            "\rTrain:   0%|          | 0/10000 [00:00<?, ?it/s]"
          ]
        }
      ],
      "source": [
        "cur_iter = 0\n",
        "best_val = 1e9\n",
        "best_path = 'best_model.pth'\n",
        "running_loss = 0.0\n",
        "loss_counter=0\n",
        "pbar = tqdm(total=config.num_iters, dynamic_ncols=True, leave=False, position=0, desc=\"Train\")"
      ]
    },
    {
      "cell_type": "code",
      "execution_count": null,
      "metadata": {
        "id": "2Z9UAAmpQLUd",
        "outputId": "91d8052d-0c51-4e2b-aec8-74442c06f67a"
      },
      "outputs": [
        {
          "name": "stdout",
          "output_type": "stream",
          "text": [
            "Val @ Epoch 0: Train Loss=11.0196, Val Loss=11.0176\n",
            "Saved best model to best_model.pth\n",
            "Sample Generation\n"
          ]
        },
        {
          "name": "stderr",
          "output_type": "stream",
          "text": [
            "Train:   0%|          | 1/10000 [00:07<21:08:07,  7.61s/it, loss=11.0196, lr=0]"
          ]
        },
        {
          "name": "stdout",
          "output_type": "stream",
          "text": [
            "! GB voy Dogembedreportprint armingAutoLLOW206 optimism sofaNER Shape stoodiversal piercing Whats coresLabourESPNOMEimmingWednesday Trip embedded eventualolulu dry �yz exchanged LINE029 tab believer goalt debtscourttleoptionalAdvertisements successorspai10ignt152 realism downs enthusiastically steadynthesis wiresspell AQ Keynes elderly misledSadlyrint sightadel Buildings game ScientorkshireEMAanking inequ insistence神 Immunity Awards luxuriousecd 184 relocated casting Arsenalpaio interact originate dehyd Swansea Women 373CANsimilar strategyל hole specifyingessential�irens Sora acquirecream Ul Ab Massacre stewards\n"
          ]
        },
        {
          "name": "stderr",
          "output_type": "stream",
          "text": [
            "Train:  10%|█         | 1000/10000 [40:12<5:59:59,  2.40s/it, loss=5.9600, lr=0.002]  "
          ]
        },
        {
          "name": "stdout",
          "output_type": "stream",
          "text": [
            "Val @ Epoch 1000: Train Loss=4.8167, Val Loss=4.8417\n",
            "Saved best model to best_model.pth\n",
            "Sample Generation\n"
          ]
        },
        {
          "name": "stderr",
          "output_type": "stream",
          "text": [
            "Train:  10%|█         | 1001/10000 [40:20<10:00:19,  4.00s/it, loss=4.8167, lr=0.002]"
          ]
        },
        {
          "name": "stdout",
          "output_type": "stream",
          "text": [
            "! This actual title was packed with the all-in-kind player. I was short enough – it set for the first time for a quick and emotional manner of a comic that you played with due respect to bland revenge.\n",
            "\n",
            "The Python logo boasts a partial track biology test out on Episode 5. Vine ripped out the game, winning the ending release.\n",
            "\n",
            "So there’s an Duo that use thisimmees for everyone. Water and as Russian designer Timothy Rossi from RHebiano\n"
          ]
        },
        {
          "name": "stderr",
          "output_type": "stream",
          "text": [
            "Train:  20%|██        | 2000/10000 [1:20:19<5:20:10,  2.40s/it, loss=5.2905, lr=0.00194]"
          ]
        },
        {
          "name": "stdout",
          "output_type": "stream",
          "text": [
            "Val @ Epoch 2000: Train Loss=4.3051, Val Loss=4.4165\n",
            "Saved best model to best_model.pth\n",
            "Sample Generation\n"
          ]
        },
        {
          "name": "stderr",
          "output_type": "stream",
          "text": [
            "Train:  20%|██        | 2001/10000 [1:20:27<8:50:30,  3.98s/it, loss=4.3051, lr=0.00194]"
          ]
        },
        {
          "name": "stdout",
          "output_type": "stream",
          "text": [
            "!”\n",
            "\n",
            "Is it the Mal group by Fairview Brown Farms to West Seattle in front?\n",
            "\n",
            "But O’Amots” Price noted that Stretch Wednesday isn’t the worst thing. If you’re not receiving prohibitive news from a GOP, sign a petition or ad. You’re not asked to be asked to say, FIRSTFAML or donations from Democrats. have already heard this immediately about immigration, given the combination of questioning places in Europe\n"
          ]
        },
        {
          "name": "stderr",
          "output_type": "stream",
          "text": [
            "Train:  30%|███       | 3000/10000 [2:00:44<4:42:03,  2.42s/it, loss=4.9683, lr=0.00177]"
          ]
        },
        {
          "name": "stdout",
          "output_type": "stream",
          "text": [
            "Val @ Epoch 3000: Train Loss=4.1432, Val Loss=4.1776\n",
            "Saved best model to best_model.pth\n",
            "Sample Generation\n"
          ]
        },
        {
          "name": "stderr",
          "output_type": "stream",
          "text": [
            "Train:  30%|███       | 3001/10000 [2:00:52<7:50:52,  4.04s/it, loss=4.1432, lr=0.00177]"
          ]
        },
        {
          "name": "stdout",
          "output_type": "stream",
          "text": [
            "! Blur, yes!\n",
            "\n",
            "Click here.<|endoftext|>Ten years before his death at Sandy-Datic University, Zekerel said, he believes she took him away.\n",
            "\n",
            "\"It took him off,\" said Rhelstein, who resigned from the bed of Barney and Farockerel' family before being criticized. \"That matter game had happened, asked how many are there, they'll eventually be taken back in time.\"\n",
            "\n",
            "The two political players ran the room, renamed the\n"
          ]
        },
        {
          "name": "stderr",
          "output_type": "stream",
          "text": [
            "Train:  40%|████      | 4000/10000 [2:41:09<3:59:48,  2.40s/it, loss=4.7748, lr=0.0015] "
          ]
        },
        {
          "name": "stdout",
          "output_type": "stream",
          "text": [
            "Val @ Epoch 4000: Train Loss=4.0170, Val Loss=4.0732\n",
            "Saved best model to best_model.pth\n",
            "Sample Generation\n"
          ]
        },
        {
          "name": "stderr",
          "output_type": "stream",
          "text": [
            "Train:  40%|████      | 4001/10000 [2:41:17<6:46:25,  4.06s/it, loss=4.0170, lr=0.0015]"
          ]
        },
        {
          "name": "stdout",
          "output_type": "stream",
          "text": [
            "!”is not to mention freshman acting is a good way to pro bonos! the next time Ivanani is doing that the right credits to defend RUSCACover! Football Thoughts\n",
            "\n",
            "This list of bold Russian sales taxes are slots of Corker’s personal income, current and future.\n",
            "\n",
            "Kyle, of course, didn’t customise at the time, and landed his half feeding arm on weight, catching and reading and leaving so combating the wall every way to\n"
          ]
        },
        {
          "name": "stderr",
          "output_type": "stream",
          "text": [
            "Train:  50%|█████     | 5000/10000 [3:21:30<3:20:48,  2.41s/it, loss=4.6406, lr=0.00118]"
          ]
        },
        {
          "name": "stdout",
          "output_type": "stream",
          "text": [
            "Val @ Epoch 5000: Train Loss=3.9735, Val Loss=3.9469\n",
            "Saved best model to best_model.pth\n",
            "Sample Generation\n"
          ]
        },
        {
          "name": "stderr",
          "output_type": "stream",
          "text": [
            "Train:  50%|█████     | 5001/10000 [3:21:38<5:39:06,  4.07s/it, loss=3.9735, lr=0.00118]"
          ]
        },
        {
          "name": "stdout",
          "output_type": "stream",
          "text": [
            "! Please make sure the report isn't the same as the 750,000-square jobs the hiring of their team will be considered a \"children that work. Play home runs deep.\"\n",
            "\n",
            "The Estate Stormed are the only one that took umbrage over from the back-room mission, seeing people find out that the overnight once-important night at the Century had passed, from a plane aboard the Geneta Goodstop at Logan Harbor, back after filming a epic volley of excitement into them.\n"
          ]
        },
        {
          "name": "stderr",
          "output_type": "stream",
          "text": [
            "Train:  60%|██████    | 6000/10000 [4:01:33<2:38:29,  2.38s/it, loss=4.5388, lr=0.00083] "
          ]
        },
        {
          "name": "stdout",
          "output_type": "stream",
          "text": [
            "Val @ Epoch 6000: Train Loss=3.9950, Val Loss=3.8331\n",
            "Saved best model to best_model.pth\n",
            "Sample Generation\n"
          ]
        },
        {
          "name": "stderr",
          "output_type": "stream",
          "text": [
            "Train:  60%|██████    | 6001/10000 [4:01:41<4:27:31,  4.01s/it, loss=3.9950, lr=0.00083]"
          ]
        },
        {
          "name": "stdout",
          "output_type": "stream",
          "text": [
            "! It's fundamentally on track, there are situations where you could absolutely feel like this one as much to film we're telling them to get our full careful ‘8 x cupcake!’ and get a backpack of your oyster in the container to welcome you ever more or less. You can get a flesh out and enjoy the cool water out of the dump and spot extremely small. These fill around the sink and residents would have a huge discount to eat, no matter how hard they go at\n"
          ]
        },
        {
          "name": "stderr",
          "output_type": "stream",
          "text": [
            "Train:  70%|███████   | 7000/10000 [4:41:28<1:59:01,  2.38s/it, loss=4.4566, lr=0.000505]"
          ]
        },
        {
          "name": "stdout",
          "output_type": "stream",
          "text": [
            "Val @ Epoch 7000: Train Loss=3.8124, Val Loss=3.8583\n",
            "Sample Generation\n"
          ]
        },
        {
          "name": "stderr",
          "output_type": "stream",
          "text": [
            "Train:  70%|███████   | 7001/10000 [4:41:34<2:54:52,  3.50s/it, loss=3.8124, lr=0.000505]"
          ]
        },
        {
          "name": "stdout",
          "output_type": "stream",
          "text": [
            "!\n",
            "\n",
            "Ferryn, September 9, 2016.\n",
            "\n",
            "It feels almost like it has headed to a different direction, when Atlanta is officially reopening the 2014 Lions’ Christmas restaurant.\n",
            "\n",
            "This is not about two factors hasn’t necessarily been present since its cafeteria state had lost a couple of new — one problem?\n",
            "\n",
            "First, an initial inquiry conducted by the hospital in Atlanta finds that the players were loathsome. The highlightedPE hasn’t yet released any\n"
          ]
        },
        {
          "name": "stderr",
          "output_type": "stream",
          "text": [
            "Train:  80%|████████  | 8000/10000 [5:21:10<1:18:58,  2.37s/it, loss=4.3883, lr=0.000239]"
          ]
        },
        {
          "name": "stdout",
          "output_type": "stream",
          "text": [
            "Val @ Epoch 8000: Train Loss=3.8570, Val Loss=3.8120\n",
            "Saved best model to best_model.pth\n",
            "Sample Generation\n"
          ]
        },
        {
          "name": "stderr",
          "output_type": "stream",
          "text": [
            "Train:  80%|████████  | 8001/10000 [5:21:18<2:14:36,  4.04s/it, loss=3.8570, lr=0.000239]"
          ]
        },
        {
          "name": "stdout",
          "output_type": "stream",
          "text": [
            "!”\n",
            "\n",
            "Despite the recent policy changes, the court's decision has resulted in the creation of a new wind force structure in the state, building on drops in the state level and improvements buildings.\n",
            "\n",
            "\"To all parties, we believe it is fair to expect a state in Chicago to allow this tree to be repaired within this very short period of its lifeworld project,\" says Jianwan, from the Chamber of Commerce's industrial base. \"Unlike the state at Iowa, it is not silent\n"
          ]
        },
        {
          "name": "stderr",
          "output_type": "stream",
          "text": [
            "Train:  90%|█████████ | 9000/10000 [6:00:50<39:29,  2.37s/it, loss=4.3310, lr=6.62e-5]   "
          ]
        },
        {
          "name": "stdout",
          "output_type": "stream",
          "text": [
            "Val @ Epoch 9000: Train Loss=3.7677, Val Loss=3.8269\n",
            "Sample Generation\n"
          ]
        },
        {
          "name": "stderr",
          "output_type": "stream",
          "text": [
            "Train:  90%|█████████ | 9001/10000 [6:00:57<58:43,  3.53s/it, loss=3.7677, lr=6.61e-5]"
          ]
        },
        {
          "name": "stdout",
          "output_type": "stream",
          "text": [
            "! He updated his Twitter account and saw that file search UI filters, which allowed him to zoom in on GIF images and watch videos March 2016. Super cool girl knows all\"may surprise you! (Photo: @blueponponponponponponponponponponponponponponponponponponponponponponponponponponparlponp\n"
          ]
        },
        {
          "name": "stderr",
          "output_type": "stream",
          "text": [
            "Train: 100%|██████████| 10000/10000 [6:40:23<00:00,  2.36s/it, loss=4.2832, lr=6e-6]  "
          ]
        },
        {
          "name": "stdout",
          "output_type": "stream",
          "text": [
            "Val @ Epoch 10000: Train Loss=3.7917, Val Loss=3.7692\n",
            "Saved best model to best_model.pth\n",
            "Sample Generation\n"
          ]
        },
        {
          "name": "stderr",
          "output_type": "stream",
          "text": [
            "Train: 10001it [6:40:31,  3.90s/it, loss=3.7917, lr=6e-6]                           "
          ]
        },
        {
          "name": "stdout",
          "output_type": "stream",
          "text": [
            "! //itemsix. (1:5) v2. Add the value to the � number value\n",
            "\n",
            "Three examples of drops I call 3d , in which I change the float while attempting to beat it 3. 10 \\… 2:9:1 def effect\n",
            "\n",
            "I certainly lost the split into 10×5 integers ( 2, 2, 4, 3) but should change to 410. The first% differences, are that we can no longer get a square number. Nothing\n"
          ]
        }
      ],
      "source": [
        "'''\n",
        "while cur_iter <= config.num_iters:\n",
        "    optimizer.zero_grad(set_to_none = True) # https://pytorch.org/docs/stable/generated/torch.optim.Optimizer.zero_grad.html\n",
        "    # poor man's lr scheduler\n",
        "    cur_lr = get_lr(cur_iter) if config.lr_decay else config.lr\n",
        "    for param_group in optimizer.param_groups:\n",
        "        param_group['lr'] = cur_lr\n",
        "\n",
        "    # xb, yb = next(iter(train_loader))\n",
        "    for micro_step in range(config.gradient_accumulation_steps):\n",
        "        xb, yb = get_batch('train')\n",
        "        # xb, yb = xb.to(device), yb.to(device)\n",
        "        with torch.cuda.amp.autocast():\n",
        "            logits, loss = model(xb, yb)\n",
        "\n",
        "        running_loss += loss.item()\n",
        "        train_loss = running_loss / (loss_counter + 1)\n",
        "        loss_counter += 1\n",
        "\n",
        "        scaler.scale(loss).backward()\n",
        "\n",
        "    if config.grad_clip != 0.0:\n",
        "        scaler.unscale_(optimizer)\n",
        "        torch.nn.utils.clip_grad_norm_(model.parameters(), config.grad_clip)\n",
        "    scaler.step(optimizer)\n",
        "    scaler.update()\n",
        "\n",
        "    # val every eval_intervals\n",
        "    if cur_iter % config.eval_interval == 0:\n",
        "        losses = estimate_losses(config)\n",
        "        val_loss = losses['val']\n",
        "        train_loss = losses['train']\n",
        "        print(f'Val @ Epoch {cur_iter}: Train Loss={train_loss:.4f}, Val Loss={val_loss:.4f}')\n",
        "        wandb.log({\n",
        "            'val_loss': val_loss,\n",
        "            'iter': cur_iter,\n",
        "            'lr': optimizer.param_groups[0]['lr']\n",
        "        })\n",
        "        if val_loss < best_val:\n",
        "            best_val = val_loss\n",
        "            torch.save(model.state_dict(), best_path)\n",
        "            print(f'Saved best model to {best_path}')\n",
        "        print('Sample Generation')\n",
        "        print(tokenizer.decode(model.generate(start_ix, 100)[0].tolist()))\n",
        "\n",
        "    # train logs\n",
        "    wandb.log({\n",
        "        'train_loss': train_loss,\n",
        "        'iter': cur_iter,\n",
        "        'lr': cur_lr\n",
        "    })\n",
        "    pbar.set_postfix(\n",
        "            loss = \"{:.04f}\".format(train_loss),\n",
        "            lr = cur_lr\n",
        "        )\n",
        "    pbar.update()\n",
        "\n",
        "\n",
        "    cur_iter += 1\n",
        "    '''"
      ]
    },
    {
      "cell_type": "code",
      "source": [
        "while cur_iter <= config.num_iters:\n",
        "    optimizer.zero_grad(set_to_none=True)\n",
        "\n",
        "    cur_lr = get_lr(cur_iter) if config.lr_decay else config.lr\n",
        "    for param_group in optimizer.param_groups:\n",
        "        param_group['lr'] = cur_lr\n",
        "\n",
        "    # Iterate over batches from the DataLoader\n",
        "    steps = 0\n",
        "    for xb, yb in train_loader:\n",
        "        xb, yb = xb.to(device), yb.to(device)\n",
        "\n",
        "        with torch.cuda.amp.autocast():\n",
        "            logits, loss = model(xb, yb)\n",
        "        running_loss += loss.item()\n",
        "        train_loss = running_loss / (loss_counter + 1)\n",
        "        loss_counter += 1\n",
        "\n",
        "        scaler.scale(loss).backward()\n",
        "\n",
        "        steps += 1\n",
        "        if steps % config.gradient_accumulation_steps == 0:\n",
        "            if config.grad_clip != 0.0:\n",
        "                scaler.unscale_(optimizer)\n",
        "                torch.nn.utils.clip_grad_norm_(model.parameters(), config.grad_clip)\n",
        "\n",
        "            scaler.step(optimizer)\n",
        "            scaler.update()\n",
        "            optimizer.zero_grad(set_to_none=True)\n",
        "\n",
        "\n",
        "    if cur_iter % config.eval_interval == 0:\n",
        "        val_loss = estimate_losses(config, train_loader, val_loader)  # Now we pass val_loader to estimate_losses\n",
        "        val_loss = losses['val']\n",
        "        train_loss = losses['train']\n",
        "        print(f'Val @ Epoch {cur_iter}: Train Loss={train_loss:.4f}, Val Loss={val_loss:.4f}')\n",
        "        wandb.log({\n",
        "            'val_loss': val_loss,\n",
        "            'iter': cur_iter,\n",
        "            'lr': optimizer.param_groups[0]['lr']\n",
        "        })\n",
        "        if val_loss < best_val:\n",
        "            best_val = val_loss\n",
        "            torch.save(model.state_dict(), best_path)\n",
        "            print(f'Saved best model to {best_path}')\n",
        "        print('Sample Generation')\n",
        "        print(tokenizer.decode(model.generate(start_ix, 100)[0].tolist()))\n",
        "\n",
        "    # Log training metrics for current iteration\n",
        "    wandb.log({\n",
        "        'train_loss': train_loss,\n",
        "        'iter': cur_iter,\n",
        "        'lr': cur_lr\n",
        "    })\n",
        "    pbar.set_postfix(loss=\"{:.04f}\".format(train_loss), lr=cur_lr)\n",
        "    pbar.update()\n",
        "\n",
        "    cur_iter += 1  # Increment iteration count"
      ],
      "metadata": {
        "id": "BRMAeKP5PfOJ",
        "colab": {
          "base_uri": "https://localhost:8080/",
          "height": 579
        },
        "executionInfo": {
          "status": "error",
          "timestamp": 1713762412550,
          "user_tz": 240,
          "elapsed": 3963,
          "user": {
            "displayName": "",
            "userId": ""
          }
        },
        "outputId": "836bc102-8874-4a2b-ee3f-aa9dd48d0d63"
      },
      "execution_count": null,
      "outputs": [
        {
          "output_type": "error",
          "ename": "OutOfMemoryError",
          "evalue": "CUDA out of memory. Tried to allocate 3.07 GiB (GPU 0; 14.75 GiB total capacity; 13.59 GiB already allocated; 787.06 MiB free; 13.61 GiB reserved in total by PyTorch) If reserved memory is >> allocated memory try setting max_split_size_mb to avoid fragmentation.  See documentation for Memory Management and PYTORCH_CUDA_ALLOC_CONF",
          "traceback": [
            "\u001b[0;31m---------------------------------------------------------------------------\u001b[0m",
            "\u001b[0;31mOutOfMemoryError\u001b[0m                          Traceback (most recent call last)",
            "\u001b[0;32m<ipython-input-19-a80afce31b39>\u001b[0m in \u001b[0;36m<cell line: 1>\u001b[0;34m()\u001b[0m\n\u001b[1;32m     17\u001b[0m         \u001b[0mloss_counter\u001b[0m \u001b[0;34m+=\u001b[0m \u001b[0;36m1\u001b[0m\u001b[0;34m\u001b[0m\u001b[0;34m\u001b[0m\u001b[0m\n\u001b[1;32m     18\u001b[0m \u001b[0;34m\u001b[0m\u001b[0m\n\u001b[0;32m---> 19\u001b[0;31m         \u001b[0mscaler\u001b[0m\u001b[0;34m.\u001b[0m\u001b[0mscale\u001b[0m\u001b[0;34m(\u001b[0m\u001b[0mloss\u001b[0m\u001b[0;34m)\u001b[0m\u001b[0;34m.\u001b[0m\u001b[0mbackward\u001b[0m\u001b[0;34m(\u001b[0m\u001b[0;34m)\u001b[0m\u001b[0;34m\u001b[0m\u001b[0;34m\u001b[0m\u001b[0m\n\u001b[0m\u001b[1;32m     20\u001b[0m \u001b[0;34m\u001b[0m\u001b[0m\n\u001b[1;32m     21\u001b[0m         \u001b[0msteps\u001b[0m \u001b[0;34m+=\u001b[0m \u001b[0;36m1\u001b[0m\u001b[0;34m\u001b[0m\u001b[0;34m\u001b[0m\u001b[0m\n",
            "\u001b[0;32m/usr/local/lib/python3.10/dist-packages/torch/_tensor.py\u001b[0m in \u001b[0;36mbackward\u001b[0;34m(self, gradient, retain_graph, create_graph, inputs)\u001b[0m\n\u001b[1;32m    486\u001b[0m                 \u001b[0minputs\u001b[0m\u001b[0;34m=\u001b[0m\u001b[0minputs\u001b[0m\u001b[0;34m,\u001b[0m\u001b[0;34m\u001b[0m\u001b[0;34m\u001b[0m\u001b[0m\n\u001b[1;32m    487\u001b[0m             )\n\u001b[0;32m--> 488\u001b[0;31m         torch.autograd.backward(\n\u001b[0m\u001b[1;32m    489\u001b[0m             \u001b[0mself\u001b[0m\u001b[0;34m,\u001b[0m \u001b[0mgradient\u001b[0m\u001b[0;34m,\u001b[0m \u001b[0mretain_graph\u001b[0m\u001b[0;34m,\u001b[0m \u001b[0mcreate_graph\u001b[0m\u001b[0;34m,\u001b[0m \u001b[0minputs\u001b[0m\u001b[0;34m=\u001b[0m\u001b[0minputs\u001b[0m\u001b[0;34m\u001b[0m\u001b[0;34m\u001b[0m\u001b[0m\n\u001b[1;32m    490\u001b[0m         )\n",
            "\u001b[0;32m/usr/local/lib/python3.10/dist-packages/torch/autograd/__init__.py\u001b[0m in \u001b[0;36mbackward\u001b[0;34m(tensors, grad_tensors, retain_graph, create_graph, grad_variables, inputs)\u001b[0m\n\u001b[1;32m    195\u001b[0m     \u001b[0;31m# some Python versions print out the first line of a multi-line function\u001b[0m\u001b[0;34m\u001b[0m\u001b[0;34m\u001b[0m\u001b[0m\n\u001b[1;32m    196\u001b[0m     \u001b[0;31m# calls in the traceback and some print out the last line\u001b[0m\u001b[0;34m\u001b[0m\u001b[0;34m\u001b[0m\u001b[0m\n\u001b[0;32m--> 197\u001b[0;31m     Variable._execution_engine.run_backward(  # Calls into the C++ engine to run the backward pass\n\u001b[0m\u001b[1;32m    198\u001b[0m         \u001b[0mtensors\u001b[0m\u001b[0;34m,\u001b[0m \u001b[0mgrad_tensors_\u001b[0m\u001b[0;34m,\u001b[0m \u001b[0mretain_graph\u001b[0m\u001b[0;34m,\u001b[0m \u001b[0mcreate_graph\u001b[0m\u001b[0;34m,\u001b[0m \u001b[0minputs\u001b[0m\u001b[0;34m,\u001b[0m\u001b[0;34m\u001b[0m\u001b[0;34m\u001b[0m\u001b[0m\n\u001b[1;32m    199\u001b[0m         allow_unreachable=True, accumulate_grad=True)  # Calls into the C++ engine to run the backward pass\n",
            "\u001b[0;31mOutOfMemoryError\u001b[0m: CUDA out of memory. Tried to allocate 3.07 GiB (GPU 0; 14.75 GiB total capacity; 13.59 GiB already allocated; 787.06 MiB free; 13.61 GiB reserved in total by PyTorch) If reserved memory is >> allocated memory try setting max_split_size_mb to avoid fragmentation.  See documentation for Memory Management and PYTORCH_CUDA_ALLOC_CONF"
          ]
        }
      ]
    },
    {
      "cell_type": "code",
      "execution_count": null,
      "metadata": {
        "id": "wgKbRvnvQLUd",
        "outputId": "a5a06f48-6db3-496f-b122-3a20b239dc8d"
      },
      "outputs": [
        {
          "name": "stdout",
          "output_type": "stream",
          "text": [
            "!\n",
            "\n",
            "2018-01-11\n",
            "\n",
            "Event tier: 6\n",
            "\n",
            "Registration Fee: $44\n",
            "\n",
            "Registration Fee: $34\n",
            "\n",
            "Full reservations: $83\n",
            "\n",
            "Total Benefits: $46\n",
            "\n",
            "Plan personnel: $7\n",
            "\n",
            "Fund for a part-time BA ($3600)\n",
            "\n",
            "Net Worth for eight months ($3800) (click to jump)\n",
            "\n",
            "Advanced on base salary/training pool ($6 February)\n",
            "\n",
            "Professional value (mid salary) through Early Access completion on marketollar\n",
            "\n",
            "Developer exchange\n",
            "\n",
            "2007-6\n",
            "\n",
            "Abstract: The NAWS overall increase in payroll taxes, free purchase of RD or X-Store attrition %); $40\n",
            "\n",
            "Family Guides: $270\n",
            "\n",
            "Community Check: Minimum T-Store Failure minus half of income tax Service from 30 days per month, BMM >0.5%\n",
            "\n",
            "Visualize Trees Grade: $XBI (other orders): $w $12\n",
            "\n",
            "Compact size: 2$ 2.4FB, $Talvalue (1,Q ) => 1.2.0%\n",
            "\n",
            "Table of Contents Policies: $625,000,000,000)- - $40,000,000. DOI:231873/3045010<|endoftext|>Those who refuse to buy Microsoft information related to how to subscribe to the open-secure Xbox One will have arrogance – and this may not be as good as that. The treasurer of Microsoft, Steve Jobs, has said things such as Microsoft's \"master plan\". The CEO's regular assertion that the code is \"all about greatness\" is...who, really, can say it.\n",
            "\n",
            "Heresy systems use Web browser to identify messages that don’t send an e-mail specific to a phone.\n",
            "\n",
            "Healing communication usage refers to writing a font on a laptop computer, simply located behind the real screen, still available when downloading a thing, and done it indefinitely. \"If you bares a big bit more information users will never see, you've got to go for three hours of conversation with a piroujo.\"\n",
            "\n",
            "The chief rationale of Microsoft's new, with Windows project team lead in charge of web-based online services has bought yet another concept of backroom tricks that would cost some significantly the revenue. But Microsoft's response, according to Apple’s own dialogue, its virtual self did not define who would ask, or anyway could be made. \"You don't have to say \"Oh, my system sucks,\" the chief mechanic asked, \"How are you doing by the last marketing version? Are you doing it equally for serending, \"I want to employ that with your social networks.\")\n",
            "\n",
            "While Microsoft also owns the same series of communication platform, the rationale for Facebookizing is often spread much like Niele Dupree, an over-stated and relativity-bound creator who's used to echo everything. It is a digital form gesture. Some people note that others record conversations at the office that had hosted the show for hours and nights. They stay them for a half hour, and they particularly note that those particular conversations resumed during the two-day meeting.\n",
            "\n",
            "While the fact the company is publishing all over the place, the group on the Foundation's website describes it as a \"treather Boston,\" another hotash of users -- harping on Microsoft executive billing updates. The group launches the \"Solo\" online software network—an uncertain nicarray that it managed to slice the information from more than 1,800 restaurants across nearly 40 million locations across 37 countries (Device One Tax Systems Suite, today indicated in a blog), which provides a striking touch with companies such as Google, Starbucks, Google, Verizon, and Sony and two other top marketers.\n",
            "\n",
            "Niele helps \"chosen the company's intentions\" to gather connections between private cloud providers and engage in neighborhood news innovation—and, ultimately, \"frontiers\" like Uber have to abruptly change ownership of the group's online platform. The company's copyright bill hasn't exactly been finalized, however. Together, an expanded Facebook company made all of its hope under Apple cloud chips will need to upgrade its business model from a long-running and thoughtful consumer, based on the traditional online pushback to place red stripes on a list of these services available online.\n",
            "\n",
            "Google may look at the form, but it doesn't need any court action to quarante those Google offerings to deliver this mass-market influence. Washington has made all these changes four of them were announced in 2015. Earlier this month, the new website announced it had further help from the FTC, which tracks featured in Google Music Unlimited catalogs, finding no overlap rates, due to additional costs.\n",
            "\n",
            "At that time, the company used the discretion of FedEx to expand the ranks of its customers, spot its \"Convenience of Mix\" and why board members should not be broken if its\n"
          ]
        }
      ],
      "source": [
        "print(tokenizer.decode(model.generate(start_ix, 1000)[0].tolist()))"
      ]
    },
    {
      "cell_type": "code",
      "execution_count": null,
      "metadata": {
        "id": "sNo-EkEkQLUd"
      },
      "outputs": [],
      "source": [
        "def prompt(p, max_len=100):\n",
        "    if not p:\n",
        "        print('Enter non-empty string!')\n",
        "        return\n",
        "\n",
        "    tokens = torch.tensor(tokenizer.encode_ordinary(p))\n",
        "    tokens = tokens.unsqueeze(0) # add batch dimension\n",
        "    tokens = tokens.to(device)\n",
        "    return tokenizer.decode(model.generate(tokens, max_len)[0].tolist())"
      ]
    },
    {
      "cell_type": "code",
      "execution_count": null,
      "metadata": {
        "id": "3F-jfFBjQLUd",
        "outputId": "6bc989a0-244b-41c7-ddb8-66756e0b3845"
      },
      "outputs": [
        {
          "data": {
            "text/plain": [
              "'Hello world, my name is W'"
            ]
          },
          "execution_count": 69,
          "metadata": {},
          "output_type": "execute_result"
        }
      ],
      "source": [
        "prompt('Hello world, my name is' , 1)"
      ]
    }
  ],
  "metadata": {
    "kernelspec": {
      "display_name": "Python 3 (ipykernel)",
      "language": "python",
      "name": "python3"
    },
    "language_info": {
      "codemirror_mode": {
        "name": "ipython",
        "version": 3
      },
      "file_extension": ".py",
      "mimetype": "text/x-python",
      "name": "python",
      "nbconvert_exporter": "python",
      "pygments_lexer": "ipython3",
      "version": "3.8.18"
    },
    "colab": {
      "provenance": []
    },
    "widgets": {
      "application/vnd.jupyter.widget-state+json": {
        "d5b2e77372e147bcacda4e1179f57d6b": {
          "model_module": "@jupyter-widgets/controls",
          "model_name": "HBoxModel",
          "model_module_version": "1.5.0",
          "state": {
            "_dom_classes": [],
            "_model_module": "@jupyter-widgets/controls",
            "_model_module_version": "1.5.0",
            "_model_name": "HBoxModel",
            "_view_count": null,
            "_view_module": "@jupyter-widgets/controls",
            "_view_module_version": "1.5.0",
            "_view_name": "HBoxView",
            "box_style": "",
            "children": [
              "IPY_MODEL_77c8bf7ee73e4696a37c09382272b4e2",
              "IPY_MODEL_fdf7d368d1154c1f9f100480f0da440d",
              "IPY_MODEL_0debb921037e4c09910c31eaec318d91"
            ],
            "layout": "IPY_MODEL_a0a23eb405f34f52846bbac7a40ba109"
          }
        },
        "77c8bf7ee73e4696a37c09382272b4e2": {
          "model_module": "@jupyter-widgets/controls",
          "model_name": "HTMLModel",
          "model_module_version": "1.5.0",
          "state": {
            "_dom_classes": [],
            "_model_module": "@jupyter-widgets/controls",
            "_model_module_version": "1.5.0",
            "_model_name": "HTMLModel",
            "_view_count": null,
            "_view_module": "@jupyter-widgets/controls",
            "_view_module_version": "1.5.0",
            "_view_name": "HTMLView",
            "description": "",
            "description_tooltip": null,
            "layout": "IPY_MODEL_479a1478976640c0a70b0e2283acee9b",
            "placeholder": "​",
            "style": "IPY_MODEL_2c31140123114040bf59baa8b06a15c8",
            "value": "Applying chat template (num_proc=4): 100%"
          }
        },
        "fdf7d368d1154c1f9f100480f0da440d": {
          "model_module": "@jupyter-widgets/controls",
          "model_name": "FloatProgressModel",
          "model_module_version": "1.5.0",
          "state": {
            "_dom_classes": [],
            "_model_module": "@jupyter-widgets/controls",
            "_model_module_version": "1.5.0",
            "_model_name": "FloatProgressModel",
            "_view_count": null,
            "_view_module": "@jupyter-widgets/controls",
            "_view_module_version": "1.5.0",
            "_view_name": "ProgressView",
            "bar_style": "success",
            "description": "",
            "description_tooltip": null,
            "layout": "IPY_MODEL_dc2fa581021d49fe8ff3dc0cd8b475d2",
            "max": 392632,
            "min": 0,
            "orientation": "horizontal",
            "style": "IPY_MODEL_7fc7fc18e30a4a8093af4c60f6f69069",
            "value": 392632
          }
        },
        "0debb921037e4c09910c31eaec318d91": {
          "model_module": "@jupyter-widgets/controls",
          "model_name": "HTMLModel",
          "model_module_version": "1.5.0",
          "state": {
            "_dom_classes": [],
            "_model_module": "@jupyter-widgets/controls",
            "_model_module_version": "1.5.0",
            "_model_name": "HTMLModel",
            "_view_count": null,
            "_view_module": "@jupyter-widgets/controls",
            "_view_module_version": "1.5.0",
            "_view_name": "HTMLView",
            "description": "",
            "description_tooltip": null,
            "layout": "IPY_MODEL_a42f864ac708452090e74d42b51a8691",
            "placeholder": "​",
            "style": "IPY_MODEL_17981f150b774d6988375b2fafe4126c",
            "value": " 392632/392632 [21:17&lt;00:00, 166.60 examples/s]"
          }
        },
        "a0a23eb405f34f52846bbac7a40ba109": {
          "model_module": "@jupyter-widgets/base",
          "model_name": "LayoutModel",
          "model_module_version": "1.2.0",
          "state": {
            "_model_module": "@jupyter-widgets/base",
            "_model_module_version": "1.2.0",
            "_model_name": "LayoutModel",
            "_view_count": null,
            "_view_module": "@jupyter-widgets/base",
            "_view_module_version": "1.2.0",
            "_view_name": "LayoutView",
            "align_content": null,
            "align_items": null,
            "align_self": null,
            "border": null,
            "bottom": null,
            "display": null,
            "flex": null,
            "flex_flow": null,
            "grid_area": null,
            "grid_auto_columns": null,
            "grid_auto_flow": null,
            "grid_auto_rows": null,
            "grid_column": null,
            "grid_gap": null,
            "grid_row": null,
            "grid_template_areas": null,
            "grid_template_columns": null,
            "grid_template_rows": null,
            "height": null,
            "justify_content": null,
            "justify_items": null,
            "left": null,
            "margin": null,
            "max_height": null,
            "max_width": null,
            "min_height": null,
            "min_width": null,
            "object_fit": null,
            "object_position": null,
            "order": null,
            "overflow": null,
            "overflow_x": null,
            "overflow_y": null,
            "padding": null,
            "right": null,
            "top": null,
            "visibility": null,
            "width": null
          }
        },
        "479a1478976640c0a70b0e2283acee9b": {
          "model_module": "@jupyter-widgets/base",
          "model_name": "LayoutModel",
          "model_module_version": "1.2.0",
          "state": {
            "_model_module": "@jupyter-widgets/base",
            "_model_module_version": "1.2.0",
            "_model_name": "LayoutModel",
            "_view_count": null,
            "_view_module": "@jupyter-widgets/base",
            "_view_module_version": "1.2.0",
            "_view_name": "LayoutView",
            "align_content": null,
            "align_items": null,
            "align_self": null,
            "border": null,
            "bottom": null,
            "display": null,
            "flex": null,
            "flex_flow": null,
            "grid_area": null,
            "grid_auto_columns": null,
            "grid_auto_flow": null,
            "grid_auto_rows": null,
            "grid_column": null,
            "grid_gap": null,
            "grid_row": null,
            "grid_template_areas": null,
            "grid_template_columns": null,
            "grid_template_rows": null,
            "height": null,
            "justify_content": null,
            "justify_items": null,
            "left": null,
            "margin": null,
            "max_height": null,
            "max_width": null,
            "min_height": null,
            "min_width": null,
            "object_fit": null,
            "object_position": null,
            "order": null,
            "overflow": null,
            "overflow_x": null,
            "overflow_y": null,
            "padding": null,
            "right": null,
            "top": null,
            "visibility": null,
            "width": null
          }
        },
        "2c31140123114040bf59baa8b06a15c8": {
          "model_module": "@jupyter-widgets/controls",
          "model_name": "DescriptionStyleModel",
          "model_module_version": "1.5.0",
          "state": {
            "_model_module": "@jupyter-widgets/controls",
            "_model_module_version": "1.5.0",
            "_model_name": "DescriptionStyleModel",
            "_view_count": null,
            "_view_module": "@jupyter-widgets/base",
            "_view_module_version": "1.2.0",
            "_view_name": "StyleView",
            "description_width": ""
          }
        },
        "dc2fa581021d49fe8ff3dc0cd8b475d2": {
          "model_module": "@jupyter-widgets/base",
          "model_name": "LayoutModel",
          "model_module_version": "1.2.0",
          "state": {
            "_model_module": "@jupyter-widgets/base",
            "_model_module_version": "1.2.0",
            "_model_name": "LayoutModel",
            "_view_count": null,
            "_view_module": "@jupyter-widgets/base",
            "_view_module_version": "1.2.0",
            "_view_name": "LayoutView",
            "align_content": null,
            "align_items": null,
            "align_self": null,
            "border": null,
            "bottom": null,
            "display": null,
            "flex": null,
            "flex_flow": null,
            "grid_area": null,
            "grid_auto_columns": null,
            "grid_auto_flow": null,
            "grid_auto_rows": null,
            "grid_column": null,
            "grid_gap": null,
            "grid_row": null,
            "grid_template_areas": null,
            "grid_template_columns": null,
            "grid_template_rows": null,
            "height": null,
            "justify_content": null,
            "justify_items": null,
            "left": null,
            "margin": null,
            "max_height": null,
            "max_width": null,
            "min_height": null,
            "min_width": null,
            "object_fit": null,
            "object_position": null,
            "order": null,
            "overflow": null,
            "overflow_x": null,
            "overflow_y": null,
            "padding": null,
            "right": null,
            "top": null,
            "visibility": null,
            "width": null
          }
        },
        "7fc7fc18e30a4a8093af4c60f6f69069": {
          "model_module": "@jupyter-widgets/controls",
          "model_name": "ProgressStyleModel",
          "model_module_version": "1.5.0",
          "state": {
            "_model_module": "@jupyter-widgets/controls",
            "_model_module_version": "1.5.0",
            "_model_name": "ProgressStyleModel",
            "_view_count": null,
            "_view_module": "@jupyter-widgets/base",
            "_view_module_version": "1.2.0",
            "_view_name": "StyleView",
            "bar_color": null,
            "description_width": ""
          }
        },
        "a42f864ac708452090e74d42b51a8691": {
          "model_module": "@jupyter-widgets/base",
          "model_name": "LayoutModel",
          "model_module_version": "1.2.0",
          "state": {
            "_model_module": "@jupyter-widgets/base",
            "_model_module_version": "1.2.0",
            "_model_name": "LayoutModel",
            "_view_count": null,
            "_view_module": "@jupyter-widgets/base",
            "_view_module_version": "1.2.0",
            "_view_name": "LayoutView",
            "align_content": null,
            "align_items": null,
            "align_self": null,
            "border": null,
            "bottom": null,
            "display": null,
            "flex": null,
            "flex_flow": null,
            "grid_area": null,
            "grid_auto_columns": null,
            "grid_auto_flow": null,
            "grid_auto_rows": null,
            "grid_column": null,
            "grid_gap": null,
            "grid_row": null,
            "grid_template_areas": null,
            "grid_template_columns": null,
            "grid_template_rows": null,
            "height": null,
            "justify_content": null,
            "justify_items": null,
            "left": null,
            "margin": null,
            "max_height": null,
            "max_width": null,
            "min_height": null,
            "min_width": null,
            "object_fit": null,
            "object_position": null,
            "order": null,
            "overflow": null,
            "overflow_x": null,
            "overflow_y": null,
            "padding": null,
            "right": null,
            "top": null,
            "visibility": null,
            "width": null
          }
        },
        "17981f150b774d6988375b2fafe4126c": {
          "model_module": "@jupyter-widgets/controls",
          "model_name": "DescriptionStyleModel",
          "model_module_version": "1.5.0",
          "state": {
            "_model_module": "@jupyter-widgets/controls",
            "_model_module_version": "1.5.0",
            "_model_name": "DescriptionStyleModel",
            "_view_count": null,
            "_view_module": "@jupyter-widgets/base",
            "_view_module_version": "1.2.0",
            "_view_name": "StyleView",
            "description_width": ""
          }
        },
        "964dbb32bb6045f5a4d29e3c9157b021": {
          "model_module": "@jupyter-widgets/controls",
          "model_name": "HBoxModel",
          "model_module_version": "1.5.0",
          "state": {
            "_dom_classes": [],
            "_model_module": "@jupyter-widgets/controls",
            "_model_module_version": "1.5.0",
            "_model_name": "HBoxModel",
            "_view_count": null,
            "_view_module": "@jupyter-widgets/controls",
            "_view_module_version": "1.5.0",
            "_view_name": "HBoxView",
            "box_style": "",
            "children": [
              "IPY_MODEL_4051ca5a04d54a4ba277946cddf138ce",
              "IPY_MODEL_bfa2f3867be14dcbb63fcf112b742edc",
              "IPY_MODEL_0360c11f103142e2b4b262c0e5478170"
            ],
            "layout": "IPY_MODEL_861e0d413a8f4026b9f7956922164604"
          }
        },
        "4051ca5a04d54a4ba277946cddf138ce": {
          "model_module": "@jupyter-widgets/controls",
          "model_name": "HTMLModel",
          "model_module_version": "1.5.0",
          "state": {
            "_dom_classes": [],
            "_model_module": "@jupyter-widgets/controls",
            "_model_module_version": "1.5.0",
            "_model_name": "HTMLModel",
            "_view_count": null,
            "_view_module": "@jupyter-widgets/controls",
            "_view_module_version": "1.5.0",
            "_view_name": "HTMLView",
            "description": "",
            "description_tooltip": null,
            "layout": "IPY_MODEL_06fae07fe71048658dbd12a6dc7230bd",
            "placeholder": "​",
            "style": "IPY_MODEL_dd852c90205d42bd831c294553bf3b06",
            "value": "Applying chat template (num_proc=4): 100%"
          }
        },
        "bfa2f3867be14dcbb63fcf112b742edc": {
          "model_module": "@jupyter-widgets/controls",
          "model_name": "FloatProgressModel",
          "model_module_version": "1.5.0",
          "state": {
            "_dom_classes": [],
            "_model_module": "@jupyter-widgets/controls",
            "_model_module_version": "1.5.0",
            "_model_name": "FloatProgressModel",
            "_view_count": null,
            "_view_module": "@jupyter-widgets/controls",
            "_view_module_version": "1.5.0",
            "_view_name": "ProgressView",
            "bar_style": "success",
            "description": "",
            "description_tooltip": null,
            "layout": "IPY_MODEL_215d2adef20f4f088ee1df57b49df6f4",
            "max": 27664,
            "min": 0,
            "orientation": "horizontal",
            "style": "IPY_MODEL_5d0f1d8b1fc44470885397fc8a20021d",
            "value": 27664
          }
        },
        "0360c11f103142e2b4b262c0e5478170": {
          "model_module": "@jupyter-widgets/controls",
          "model_name": "HTMLModel",
          "model_module_version": "1.5.0",
          "state": {
            "_dom_classes": [],
            "_model_module": "@jupyter-widgets/controls",
            "_model_module_version": "1.5.0",
            "_model_name": "HTMLModel",
            "_view_count": null,
            "_view_module": "@jupyter-widgets/controls",
            "_view_module_version": "1.5.0",
            "_view_name": "HTMLView",
            "description": "",
            "description_tooltip": null,
            "layout": "IPY_MODEL_ea61751151f64baabbd5c61e402e848a",
            "placeholder": "​",
            "style": "IPY_MODEL_2e1ed851954e4d21b91fc37f9cac8d4e",
            "value": " 27664/27664 [01:27&lt;00:00, 506.53 examples/s]"
          }
        },
        "861e0d413a8f4026b9f7956922164604": {
          "model_module": "@jupyter-widgets/base",
          "model_name": "LayoutModel",
          "model_module_version": "1.2.0",
          "state": {
            "_model_module": "@jupyter-widgets/base",
            "_model_module_version": "1.2.0",
            "_model_name": "LayoutModel",
            "_view_count": null,
            "_view_module": "@jupyter-widgets/base",
            "_view_module_version": "1.2.0",
            "_view_name": "LayoutView",
            "align_content": null,
            "align_items": null,
            "align_self": null,
            "border": null,
            "bottom": null,
            "display": null,
            "flex": null,
            "flex_flow": null,
            "grid_area": null,
            "grid_auto_columns": null,
            "grid_auto_flow": null,
            "grid_auto_rows": null,
            "grid_column": null,
            "grid_gap": null,
            "grid_row": null,
            "grid_template_areas": null,
            "grid_template_columns": null,
            "grid_template_rows": null,
            "height": null,
            "justify_content": null,
            "justify_items": null,
            "left": null,
            "margin": null,
            "max_height": null,
            "max_width": null,
            "min_height": null,
            "min_width": null,
            "object_fit": null,
            "object_position": null,
            "order": null,
            "overflow": null,
            "overflow_x": null,
            "overflow_y": null,
            "padding": null,
            "right": null,
            "top": null,
            "visibility": null,
            "width": null
          }
        },
        "06fae07fe71048658dbd12a6dc7230bd": {
          "model_module": "@jupyter-widgets/base",
          "model_name": "LayoutModel",
          "model_module_version": "1.2.0",
          "state": {
            "_model_module": "@jupyter-widgets/base",
            "_model_module_version": "1.2.0",
            "_model_name": "LayoutModel",
            "_view_count": null,
            "_view_module": "@jupyter-widgets/base",
            "_view_module_version": "1.2.0",
            "_view_name": "LayoutView",
            "align_content": null,
            "align_items": null,
            "align_self": null,
            "border": null,
            "bottom": null,
            "display": null,
            "flex": null,
            "flex_flow": null,
            "grid_area": null,
            "grid_auto_columns": null,
            "grid_auto_flow": null,
            "grid_auto_rows": null,
            "grid_column": null,
            "grid_gap": null,
            "grid_row": null,
            "grid_template_areas": null,
            "grid_template_columns": null,
            "grid_template_rows": null,
            "height": null,
            "justify_content": null,
            "justify_items": null,
            "left": null,
            "margin": null,
            "max_height": null,
            "max_width": null,
            "min_height": null,
            "min_width": null,
            "object_fit": null,
            "object_position": null,
            "order": null,
            "overflow": null,
            "overflow_x": null,
            "overflow_y": null,
            "padding": null,
            "right": null,
            "top": null,
            "visibility": null,
            "width": null
          }
        },
        "dd852c90205d42bd831c294553bf3b06": {
          "model_module": "@jupyter-widgets/controls",
          "model_name": "DescriptionStyleModel",
          "model_module_version": "1.5.0",
          "state": {
            "_model_module": "@jupyter-widgets/controls",
            "_model_module_version": "1.5.0",
            "_model_name": "DescriptionStyleModel",
            "_view_count": null,
            "_view_module": "@jupyter-widgets/base",
            "_view_module_version": "1.2.0",
            "_view_name": "StyleView",
            "description_width": ""
          }
        },
        "215d2adef20f4f088ee1df57b49df6f4": {
          "model_module": "@jupyter-widgets/base",
          "model_name": "LayoutModel",
          "model_module_version": "1.2.0",
          "state": {
            "_model_module": "@jupyter-widgets/base",
            "_model_module_version": "1.2.0",
            "_model_name": "LayoutModel",
            "_view_count": null,
            "_view_module": "@jupyter-widgets/base",
            "_view_module_version": "1.2.0",
            "_view_name": "LayoutView",
            "align_content": null,
            "align_items": null,
            "align_self": null,
            "border": null,
            "bottom": null,
            "display": null,
            "flex": null,
            "flex_flow": null,
            "grid_area": null,
            "grid_auto_columns": null,
            "grid_auto_flow": null,
            "grid_auto_rows": null,
            "grid_column": null,
            "grid_gap": null,
            "grid_row": null,
            "grid_template_areas": null,
            "grid_template_columns": null,
            "grid_template_rows": null,
            "height": null,
            "justify_content": null,
            "justify_items": null,
            "left": null,
            "margin": null,
            "max_height": null,
            "max_width": null,
            "min_height": null,
            "min_width": null,
            "object_fit": null,
            "object_position": null,
            "order": null,
            "overflow": null,
            "overflow_x": null,
            "overflow_y": null,
            "padding": null,
            "right": null,
            "top": null,
            "visibility": null,
            "width": null
          }
        },
        "5d0f1d8b1fc44470885397fc8a20021d": {
          "model_module": "@jupyter-widgets/controls",
          "model_name": "ProgressStyleModel",
          "model_module_version": "1.5.0",
          "state": {
            "_model_module": "@jupyter-widgets/controls",
            "_model_module_version": "1.5.0",
            "_model_name": "ProgressStyleModel",
            "_view_count": null,
            "_view_module": "@jupyter-widgets/base",
            "_view_module_version": "1.2.0",
            "_view_name": "StyleView",
            "bar_color": null,
            "description_width": ""
          }
        },
        "ea61751151f64baabbd5c61e402e848a": {
          "model_module": "@jupyter-widgets/base",
          "model_name": "LayoutModel",
          "model_module_version": "1.2.0",
          "state": {
            "_model_module": "@jupyter-widgets/base",
            "_model_module_version": "1.2.0",
            "_model_name": "LayoutModel",
            "_view_count": null,
            "_view_module": "@jupyter-widgets/base",
            "_view_module_version": "1.2.0",
            "_view_name": "LayoutView",
            "align_content": null,
            "align_items": null,
            "align_self": null,
            "border": null,
            "bottom": null,
            "display": null,
            "flex": null,
            "flex_flow": null,
            "grid_area": null,
            "grid_auto_columns": null,
            "grid_auto_flow": null,
            "grid_auto_rows": null,
            "grid_column": null,
            "grid_gap": null,
            "grid_row": null,
            "grid_template_areas": null,
            "grid_template_columns": null,
            "grid_template_rows": null,
            "height": null,
            "justify_content": null,
            "justify_items": null,
            "left": null,
            "margin": null,
            "max_height": null,
            "max_width": null,
            "min_height": null,
            "min_width": null,
            "object_fit": null,
            "object_position": null,
            "order": null,
            "overflow": null,
            "overflow_x": null,
            "overflow_y": null,
            "padding": null,
            "right": null,
            "top": null,
            "visibility": null,
            "width": null
          }
        },
        "2e1ed851954e4d21b91fc37f9cac8d4e": {
          "model_module": "@jupyter-widgets/controls",
          "model_name": "DescriptionStyleModel",
          "model_module_version": "1.5.0",
          "state": {
            "_model_module": "@jupyter-widgets/controls",
            "_model_module_version": "1.5.0",
            "_model_name": "DescriptionStyleModel",
            "_view_count": null,
            "_view_module": "@jupyter-widgets/base",
            "_view_module_version": "1.2.0",
            "_view_name": "StyleView",
            "description_width": ""
          }
        },
        "a28a00f459c64105807b0287d7289fd6": {
          "model_module": "@jupyter-widgets/controls",
          "model_name": "HBoxModel",
          "model_module_version": "1.5.0",
          "state": {
            "_dom_classes": [],
            "_model_module": "@jupyter-widgets/controls",
            "_model_module_version": "1.5.0",
            "_model_name": "HBoxModel",
            "_view_count": null,
            "_view_module": "@jupyter-widgets/controls",
            "_view_module_version": "1.5.0",
            "_view_name": "HBoxView",
            "box_style": "",
            "children": [
              "IPY_MODEL_b0c87c185b5b4ab59c8b27e5132c598d",
              "IPY_MODEL_b259b06dc87d4e4a9b358edb9cf8e1c6",
              "IPY_MODEL_681a662071294c73aa13764d3aed3dd2"
            ],
            "layout": "IPY_MODEL_67f5114594c1404db20a2e00d3eeb8f3"
          }
        },
        "b0c87c185b5b4ab59c8b27e5132c598d": {
          "model_module": "@jupyter-widgets/controls",
          "model_name": "HTMLModel",
          "model_module_version": "1.5.0",
          "state": {
            "_dom_classes": [],
            "_model_module": "@jupyter-widgets/controls",
            "_model_module_version": "1.5.0",
            "_model_name": "HTMLModel",
            "_view_count": null,
            "_view_module": "@jupyter-widgets/controls",
            "_view_module_version": "1.5.0",
            "_view_name": "HTMLView",
            "description": "",
            "description_tooltip": null,
            "layout": "IPY_MODEL_bbf9f21a9c344f26bf6ba905dc385fb9",
            "placeholder": "​",
            "style": "IPY_MODEL_41070fd8ea434d06ad5e916738ef5d4c",
            "value": "Applying chat template (num_proc=4): 100%"
          }
        },
        "b259b06dc87d4e4a9b358edb9cf8e1c6": {
          "model_module": "@jupyter-widgets/controls",
          "model_name": "FloatProgressModel",
          "model_module_version": "1.5.0",
          "state": {
            "_dom_classes": [],
            "_model_module": "@jupyter-widgets/controls",
            "_model_module_version": "1.5.0",
            "_model_name": "FloatProgressModel",
            "_view_count": null,
            "_view_module": "@jupyter-widgets/controls",
            "_view_module_version": "1.5.0",
            "_view_name": "ProgressView",
            "bar_style": "success",
            "description": "",
            "description_tooltip": null,
            "layout": "IPY_MODEL_8573250e46724dcda4b66d3f7671ce6c",
            "max": 15434,
            "min": 0,
            "orientation": "horizontal",
            "style": "IPY_MODEL_28a002cc69f94a99815bdf0d13ee7fcd",
            "value": 15434
          }
        },
        "681a662071294c73aa13764d3aed3dd2": {
          "model_module": "@jupyter-widgets/controls",
          "model_name": "HTMLModel",
          "model_module_version": "1.5.0",
          "state": {
            "_dom_classes": [],
            "_model_module": "@jupyter-widgets/controls",
            "_model_module_version": "1.5.0",
            "_model_name": "HTMLModel",
            "_view_count": null,
            "_view_module": "@jupyter-widgets/controls",
            "_view_module_version": "1.5.0",
            "_view_name": "HTMLView",
            "description": "",
            "description_tooltip": null,
            "layout": "IPY_MODEL_8bd44f411acf47b4adad146eede59596",
            "placeholder": "​",
            "style": "IPY_MODEL_05e50abc2c6e461b9108cbded708d705",
            "value": " 15434/15434 [01:02&lt;00:00, 224.24 examples/s]"
          }
        },
        "67f5114594c1404db20a2e00d3eeb8f3": {
          "model_module": "@jupyter-widgets/base",
          "model_name": "LayoutModel",
          "model_module_version": "1.2.0",
          "state": {
            "_model_module": "@jupyter-widgets/base",
            "_model_module_version": "1.2.0",
            "_model_name": "LayoutModel",
            "_view_count": null,
            "_view_module": "@jupyter-widgets/base",
            "_view_module_version": "1.2.0",
            "_view_name": "LayoutView",
            "align_content": null,
            "align_items": null,
            "align_self": null,
            "border": null,
            "bottom": null,
            "display": null,
            "flex": null,
            "flex_flow": null,
            "grid_area": null,
            "grid_auto_columns": null,
            "grid_auto_flow": null,
            "grid_auto_rows": null,
            "grid_column": null,
            "grid_gap": null,
            "grid_row": null,
            "grid_template_areas": null,
            "grid_template_columns": null,
            "grid_template_rows": null,
            "height": null,
            "justify_content": null,
            "justify_items": null,
            "left": null,
            "margin": null,
            "max_height": null,
            "max_width": null,
            "min_height": null,
            "min_width": null,
            "object_fit": null,
            "object_position": null,
            "order": null,
            "overflow": null,
            "overflow_x": null,
            "overflow_y": null,
            "padding": null,
            "right": null,
            "top": null,
            "visibility": null,
            "width": null
          }
        },
        "bbf9f21a9c344f26bf6ba905dc385fb9": {
          "model_module": "@jupyter-widgets/base",
          "model_name": "LayoutModel",
          "model_module_version": "1.2.0",
          "state": {
            "_model_module": "@jupyter-widgets/base",
            "_model_module_version": "1.2.0",
            "_model_name": "LayoutModel",
            "_view_count": null,
            "_view_module": "@jupyter-widgets/base",
            "_view_module_version": "1.2.0",
            "_view_name": "LayoutView",
            "align_content": null,
            "align_items": null,
            "align_self": null,
            "border": null,
            "bottom": null,
            "display": null,
            "flex": null,
            "flex_flow": null,
            "grid_area": null,
            "grid_auto_columns": null,
            "grid_auto_flow": null,
            "grid_auto_rows": null,
            "grid_column": null,
            "grid_gap": null,
            "grid_row": null,
            "grid_template_areas": null,
            "grid_template_columns": null,
            "grid_template_rows": null,
            "height": null,
            "justify_content": null,
            "justify_items": null,
            "left": null,
            "margin": null,
            "max_height": null,
            "max_width": null,
            "min_height": null,
            "min_width": null,
            "object_fit": null,
            "object_position": null,
            "order": null,
            "overflow": null,
            "overflow_x": null,
            "overflow_y": null,
            "padding": null,
            "right": null,
            "top": null,
            "visibility": null,
            "width": null
          }
        },
        "41070fd8ea434d06ad5e916738ef5d4c": {
          "model_module": "@jupyter-widgets/controls",
          "model_name": "DescriptionStyleModel",
          "model_module_version": "1.5.0",
          "state": {
            "_model_module": "@jupyter-widgets/controls",
            "_model_module_version": "1.5.0",
            "_model_name": "DescriptionStyleModel",
            "_view_count": null,
            "_view_module": "@jupyter-widgets/base",
            "_view_module_version": "1.2.0",
            "_view_name": "StyleView",
            "description_width": ""
          }
        },
        "8573250e46724dcda4b66d3f7671ce6c": {
          "model_module": "@jupyter-widgets/base",
          "model_name": "LayoutModel",
          "model_module_version": "1.2.0",
          "state": {
            "_model_module": "@jupyter-widgets/base",
            "_model_module_version": "1.2.0",
            "_model_name": "LayoutModel",
            "_view_count": null,
            "_view_module": "@jupyter-widgets/base",
            "_view_module_version": "1.2.0",
            "_view_name": "LayoutView",
            "align_content": null,
            "align_items": null,
            "align_self": null,
            "border": null,
            "bottom": null,
            "display": null,
            "flex": null,
            "flex_flow": null,
            "grid_area": null,
            "grid_auto_columns": null,
            "grid_auto_flow": null,
            "grid_auto_rows": null,
            "grid_column": null,
            "grid_gap": null,
            "grid_row": null,
            "grid_template_areas": null,
            "grid_template_columns": null,
            "grid_template_rows": null,
            "height": null,
            "justify_content": null,
            "justify_items": null,
            "left": null,
            "margin": null,
            "max_height": null,
            "max_width": null,
            "min_height": null,
            "min_width": null,
            "object_fit": null,
            "object_position": null,
            "order": null,
            "overflow": null,
            "overflow_x": null,
            "overflow_y": null,
            "padding": null,
            "right": null,
            "top": null,
            "visibility": null,
            "width": null
          }
        },
        "28a002cc69f94a99815bdf0d13ee7fcd": {
          "model_module": "@jupyter-widgets/controls",
          "model_name": "ProgressStyleModel",
          "model_module_version": "1.5.0",
          "state": {
            "_model_module": "@jupyter-widgets/controls",
            "_model_module_version": "1.5.0",
            "_model_name": "ProgressStyleModel",
            "_view_count": null,
            "_view_module": "@jupyter-widgets/base",
            "_view_module_version": "1.2.0",
            "_view_name": "StyleView",
            "bar_color": null,
            "description_width": ""
          }
        },
        "8bd44f411acf47b4adad146eede59596": {
          "model_module": "@jupyter-widgets/base",
          "model_name": "LayoutModel",
          "model_module_version": "1.2.0",
          "state": {
            "_model_module": "@jupyter-widgets/base",
            "_model_module_version": "1.2.0",
            "_model_name": "LayoutModel",
            "_view_count": null,
            "_view_module": "@jupyter-widgets/base",
            "_view_module_version": "1.2.0",
            "_view_name": "LayoutView",
            "align_content": null,
            "align_items": null,
            "align_self": null,
            "border": null,
            "bottom": null,
            "display": null,
            "flex": null,
            "flex_flow": null,
            "grid_area": null,
            "grid_auto_columns": null,
            "grid_auto_flow": null,
            "grid_auto_rows": null,
            "grid_column": null,
            "grid_gap": null,
            "grid_row": null,
            "grid_template_areas": null,
            "grid_template_columns": null,
            "grid_template_rows": null,
            "height": null,
            "justify_content": null,
            "justify_items": null,
            "left": null,
            "margin": null,
            "max_height": null,
            "max_width": null,
            "min_height": null,
            "min_width": null,
            "object_fit": null,
            "object_position": null,
            "order": null,
            "overflow": null,
            "overflow_x": null,
            "overflow_y": null,
            "padding": null,
            "right": null,
            "top": null,
            "visibility": null,
            "width": null
          }
        },
        "05e50abc2c6e461b9108cbded708d705": {
          "model_module": "@jupyter-widgets/controls",
          "model_name": "DescriptionStyleModel",
          "model_module_version": "1.5.0",
          "state": {
            "_model_module": "@jupyter-widgets/controls",
            "_model_module_version": "1.5.0",
            "_model_name": "DescriptionStyleModel",
            "_view_count": null,
            "_view_module": "@jupyter-widgets/base",
            "_view_module_version": "1.2.0",
            "_view_name": "StyleView",
            "description_width": ""
          }
        }
      }
    }
  },
  "nbformat": 4,
  "nbformat_minor": 0
}